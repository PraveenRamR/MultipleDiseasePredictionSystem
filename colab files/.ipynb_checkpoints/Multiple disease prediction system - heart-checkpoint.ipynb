{
 "cells": [
  {
   "cell_type": "markdown",
   "metadata": {
    "id": "aTb-9TFFqprC"
   },
   "source": [
    "Importing the Dependencies"
   ]
  },
  {
   "cell_type": "code",
   "execution_count": 37,
   "metadata": {
    "executionInfo": {
     "elapsed": 1659,
     "status": "ok",
     "timestamp": 1653200233515,
     "user": {
      "displayName": "siddhardh selvam",
      "userId": "13966379820454708749"
     },
     "user_tz": -330
    },
    "id": "3q9U3S_whh3-"
   },
   "outputs": [],
   "source": [
    "import numpy as np\n",
    "import pandas as pd\n",
    "from sklearn.model_selection import train_test_split\n",
    "from sklearn.linear_model import LogisticRegression\n",
    "from sklearn.metrics import accuracy_score"
   ]
  },
  {
   "cell_type": "markdown",
   "metadata": {
    "id": "egMd5zeurTMR"
   },
   "source": [
    "Data Collection and Processing"
   ]
  },
  {
   "cell_type": "code",
   "execution_count": 4,
   "metadata": {
    "executionInfo": {
     "elapsed": 13,
     "status": "ok",
     "timestamp": 1653200233516,
     "user": {
      "displayName": "siddhardh selvam",
      "userId": "13966379820454708749"
     },
     "user_tz": -330
    },
    "id": "0q-3-LkQrREV"
   },
   "outputs": [],
   "source": [
    "# loading the csv data to a Pandas DataFrame\n",
    "heart_data = pd.read_csv(r'C:\\Users\\Dell\\Documents\\srm code\\health education based infection disease\\dataset\\heart.csv')"
   ]
  },
  {
   "cell_type": "code",
   "execution_count": 5,
   "metadata": {
    "colab": {
     "base_uri": "https://localhost:8080/",
     "height": 206
    },
    "executionInfo": {
     "elapsed": 12,
     "status": "ok",
     "timestamp": 1653200233516,
     "user": {
      "displayName": "siddhardh selvam",
      "userId": "13966379820454708749"
     },
     "user_tz": -330
    },
    "id": "M8dQxSTqriWD",
    "outputId": "0ab48855-8403-4103-c7c8-e307c07da055"
   },
   "outputs": [
    {
     "data": {
      "text/html": [
       "<div>\n",
       "<style scoped>\n",
       "    .dataframe tbody tr th:only-of-type {\n",
       "        vertical-align: middle;\n",
       "    }\n",
       "\n",
       "    .dataframe tbody tr th {\n",
       "        vertical-align: top;\n",
       "    }\n",
       "\n",
       "    .dataframe thead th {\n",
       "        text-align: right;\n",
       "    }\n",
       "</style>\n",
       "<table border=\"1\" class=\"dataframe\">\n",
       "  <thead>\n",
       "    <tr style=\"text-align: right;\">\n",
       "      <th></th>\n",
       "      <th>age</th>\n",
       "      <th>sex</th>\n",
       "      <th>cp</th>\n",
       "      <th>trestbps</th>\n",
       "      <th>chol</th>\n",
       "      <th>fbs</th>\n",
       "      <th>restecg</th>\n",
       "      <th>thalach</th>\n",
       "      <th>exang</th>\n",
       "      <th>oldpeak</th>\n",
       "      <th>slope</th>\n",
       "      <th>ca</th>\n",
       "      <th>thal</th>\n",
       "      <th>target</th>\n",
       "    </tr>\n",
       "  </thead>\n",
       "  <tbody>\n",
       "    <tr>\n",
       "      <th>0</th>\n",
       "      <td>63</td>\n",
       "      <td>1</td>\n",
       "      <td>3</td>\n",
       "      <td>145</td>\n",
       "      <td>233</td>\n",
       "      <td>1</td>\n",
       "      <td>0</td>\n",
       "      <td>150</td>\n",
       "      <td>0</td>\n",
       "      <td>2.3</td>\n",
       "      <td>0</td>\n",
       "      <td>0</td>\n",
       "      <td>1</td>\n",
       "      <td>1</td>\n",
       "    </tr>\n",
       "    <tr>\n",
       "      <th>1</th>\n",
       "      <td>37</td>\n",
       "      <td>1</td>\n",
       "      <td>2</td>\n",
       "      <td>130</td>\n",
       "      <td>250</td>\n",
       "      <td>0</td>\n",
       "      <td>1</td>\n",
       "      <td>187</td>\n",
       "      <td>0</td>\n",
       "      <td>3.5</td>\n",
       "      <td>0</td>\n",
       "      <td>0</td>\n",
       "      <td>2</td>\n",
       "      <td>1</td>\n",
       "    </tr>\n",
       "    <tr>\n",
       "      <th>2</th>\n",
       "      <td>41</td>\n",
       "      <td>0</td>\n",
       "      <td>1</td>\n",
       "      <td>130</td>\n",
       "      <td>204</td>\n",
       "      <td>0</td>\n",
       "      <td>0</td>\n",
       "      <td>172</td>\n",
       "      <td>0</td>\n",
       "      <td>1.4</td>\n",
       "      <td>2</td>\n",
       "      <td>0</td>\n",
       "      <td>2</td>\n",
       "      <td>1</td>\n",
       "    </tr>\n",
       "    <tr>\n",
       "      <th>3</th>\n",
       "      <td>56</td>\n",
       "      <td>1</td>\n",
       "      <td>1</td>\n",
       "      <td>120</td>\n",
       "      <td>236</td>\n",
       "      <td>0</td>\n",
       "      <td>1</td>\n",
       "      <td>178</td>\n",
       "      <td>0</td>\n",
       "      <td>0.8</td>\n",
       "      <td>2</td>\n",
       "      <td>0</td>\n",
       "      <td>2</td>\n",
       "      <td>1</td>\n",
       "    </tr>\n",
       "    <tr>\n",
       "      <th>4</th>\n",
       "      <td>57</td>\n",
       "      <td>0</td>\n",
       "      <td>0</td>\n",
       "      <td>120</td>\n",
       "      <td>354</td>\n",
       "      <td>0</td>\n",
       "      <td>1</td>\n",
       "      <td>163</td>\n",
       "      <td>1</td>\n",
       "      <td>0.6</td>\n",
       "      <td>2</td>\n",
       "      <td>0</td>\n",
       "      <td>2</td>\n",
       "      <td>1</td>\n",
       "    </tr>\n",
       "  </tbody>\n",
       "</table>\n",
       "</div>"
      ],
      "text/plain": [
       "   age  sex  cp  trestbps  chol  fbs  restecg  thalach  exang  oldpeak  slope  \\\n",
       "0   63    1   3       145   233    1        0      150      0      2.3      0   \n",
       "1   37    1   2       130   250    0        1      187      0      3.5      0   \n",
       "2   41    0   1       130   204    0        0      172      0      1.4      2   \n",
       "3   56    1   1       120   236    0        1      178      0      0.8      2   \n",
       "4   57    0   0       120   354    0        1      163      1      0.6      2   \n",
       "\n",
       "   ca  thal  target  \n",
       "0   0     1       1  \n",
       "1   0     2       1  \n",
       "2   0     2       1  \n",
       "3   0     2       1  \n",
       "4   0     2       1  "
      ]
     },
     "execution_count": 5,
     "metadata": {},
     "output_type": "execute_result"
    }
   ],
   "source": [
    "# print first 5 rows of the dataset\n",
    "heart_data.head()"
   ]
  },
  {
   "cell_type": "code",
   "execution_count": 6,
   "metadata": {
    "colab": {
     "base_uri": "https://localhost:8080/",
     "height": 206
    },
    "executionInfo": {
     "elapsed": 808,
     "status": "ok",
     "timestamp": 1653200234314,
     "user": {
      "displayName": "siddhardh selvam",
      "userId": "13966379820454708749"
     },
     "user_tz": -330
    },
    "id": "Fx_aCZDgrqdR",
    "outputId": "a8dea85c-ba32-493b-c199-354a6e4ce093"
   },
   "outputs": [
    {
     "data": {
      "text/html": [
       "<div>\n",
       "<style scoped>\n",
       "    .dataframe tbody tr th:only-of-type {\n",
       "        vertical-align: middle;\n",
       "    }\n",
       "\n",
       "    .dataframe tbody tr th {\n",
       "        vertical-align: top;\n",
       "    }\n",
       "\n",
       "    .dataframe thead th {\n",
       "        text-align: right;\n",
       "    }\n",
       "</style>\n",
       "<table border=\"1\" class=\"dataframe\">\n",
       "  <thead>\n",
       "    <tr style=\"text-align: right;\">\n",
       "      <th></th>\n",
       "      <th>age</th>\n",
       "      <th>sex</th>\n",
       "      <th>cp</th>\n",
       "      <th>trestbps</th>\n",
       "      <th>chol</th>\n",
       "      <th>fbs</th>\n",
       "      <th>restecg</th>\n",
       "      <th>thalach</th>\n",
       "      <th>exang</th>\n",
       "      <th>oldpeak</th>\n",
       "      <th>slope</th>\n",
       "      <th>ca</th>\n",
       "      <th>thal</th>\n",
       "      <th>target</th>\n",
       "    </tr>\n",
       "  </thead>\n",
       "  <tbody>\n",
       "    <tr>\n",
       "      <th>298</th>\n",
       "      <td>57</td>\n",
       "      <td>0</td>\n",
       "      <td>0</td>\n",
       "      <td>140</td>\n",
       "      <td>241</td>\n",
       "      <td>0</td>\n",
       "      <td>1</td>\n",
       "      <td>123</td>\n",
       "      <td>1</td>\n",
       "      <td>0.2</td>\n",
       "      <td>1</td>\n",
       "      <td>0</td>\n",
       "      <td>3</td>\n",
       "      <td>0</td>\n",
       "    </tr>\n",
       "    <tr>\n",
       "      <th>299</th>\n",
       "      <td>45</td>\n",
       "      <td>1</td>\n",
       "      <td>3</td>\n",
       "      <td>110</td>\n",
       "      <td>264</td>\n",
       "      <td>0</td>\n",
       "      <td>1</td>\n",
       "      <td>132</td>\n",
       "      <td>0</td>\n",
       "      <td>1.2</td>\n",
       "      <td>1</td>\n",
       "      <td>0</td>\n",
       "      <td>3</td>\n",
       "      <td>0</td>\n",
       "    </tr>\n",
       "    <tr>\n",
       "      <th>300</th>\n",
       "      <td>68</td>\n",
       "      <td>1</td>\n",
       "      <td>0</td>\n",
       "      <td>144</td>\n",
       "      <td>193</td>\n",
       "      <td>1</td>\n",
       "      <td>1</td>\n",
       "      <td>141</td>\n",
       "      <td>0</td>\n",
       "      <td>3.4</td>\n",
       "      <td>1</td>\n",
       "      <td>2</td>\n",
       "      <td>3</td>\n",
       "      <td>0</td>\n",
       "    </tr>\n",
       "    <tr>\n",
       "      <th>301</th>\n",
       "      <td>57</td>\n",
       "      <td>1</td>\n",
       "      <td>0</td>\n",
       "      <td>130</td>\n",
       "      <td>131</td>\n",
       "      <td>0</td>\n",
       "      <td>1</td>\n",
       "      <td>115</td>\n",
       "      <td>1</td>\n",
       "      <td>1.2</td>\n",
       "      <td>1</td>\n",
       "      <td>1</td>\n",
       "      <td>3</td>\n",
       "      <td>0</td>\n",
       "    </tr>\n",
       "    <tr>\n",
       "      <th>302</th>\n",
       "      <td>57</td>\n",
       "      <td>0</td>\n",
       "      <td>1</td>\n",
       "      <td>130</td>\n",
       "      <td>236</td>\n",
       "      <td>0</td>\n",
       "      <td>0</td>\n",
       "      <td>174</td>\n",
       "      <td>0</td>\n",
       "      <td>0.0</td>\n",
       "      <td>1</td>\n",
       "      <td>1</td>\n",
       "      <td>2</td>\n",
       "      <td>0</td>\n",
       "    </tr>\n",
       "  </tbody>\n",
       "</table>\n",
       "</div>"
      ],
      "text/plain": [
       "     age  sex  cp  trestbps  chol  fbs  restecg  thalach  exang  oldpeak  \\\n",
       "298   57    0   0       140   241    0        1      123      1      0.2   \n",
       "299   45    1   3       110   264    0        1      132      0      1.2   \n",
       "300   68    1   0       144   193    1        1      141      0      3.4   \n",
       "301   57    1   0       130   131    0        1      115      1      1.2   \n",
       "302   57    0   1       130   236    0        0      174      0      0.0   \n",
       "\n",
       "     slope  ca  thal  target  \n",
       "298      1   0     3       0  \n",
       "299      1   0     3       0  \n",
       "300      1   2     3       0  \n",
       "301      1   1     3       0  \n",
       "302      1   1     2       0  "
      ]
     },
     "execution_count": 6,
     "metadata": {},
     "output_type": "execute_result"
    }
   ],
   "source": [
    "# print last 5 rows of the dataset\n",
    "heart_data.tail()"
   ]
  },
  {
   "cell_type": "code",
   "execution_count": 7,
   "metadata": {
    "colab": {
     "base_uri": "https://localhost:8080/"
    },
    "executionInfo": {
     "elapsed": 28,
     "status": "ok",
     "timestamp": 1653200234314,
     "user": {
      "displayName": "siddhardh selvam",
      "userId": "13966379820454708749"
     },
     "user_tz": -330
    },
    "id": "8nX1tIzbrz0u",
    "outputId": "aed82820-3f95-4fc3-bd5a-21dcbd434fb7"
   },
   "outputs": [
    {
     "data": {
      "text/plain": [
       "(303, 14)"
      ]
     },
     "execution_count": 7,
     "metadata": {},
     "output_type": "execute_result"
    }
   ],
   "source": [
    "# number of rows and columns in the dataset\n",
    "heart_data.shape"
   ]
  },
  {
   "cell_type": "code",
   "execution_count": 8,
   "metadata": {
    "colab": {
     "base_uri": "https://localhost:8080/"
    },
    "executionInfo": {
     "elapsed": 26,
     "status": "ok",
     "timestamp": 1653200234315,
     "user": {
      "displayName": "siddhardh selvam",
      "userId": "13966379820454708749"
     },
     "user_tz": -330
    },
    "id": "7_xTcw1Sr6aJ",
    "outputId": "3dfcf6cf-f814-4b3b-f8be-57e2ea6ea7b2"
   },
   "outputs": [
    {
     "name": "stdout",
     "output_type": "stream",
     "text": [
      "<class 'pandas.core.frame.DataFrame'>\n",
      "RangeIndex: 303 entries, 0 to 302\n",
      "Data columns (total 14 columns):\n",
      " #   Column    Non-Null Count  Dtype  \n",
      "---  ------    --------------  -----  \n",
      " 0   age       303 non-null    int64  \n",
      " 1   sex       303 non-null    int64  \n",
      " 2   cp        303 non-null    int64  \n",
      " 3   trestbps  303 non-null    int64  \n",
      " 4   chol      303 non-null    int64  \n",
      " 5   fbs       303 non-null    int64  \n",
      " 6   restecg   303 non-null    int64  \n",
      " 7   thalach   303 non-null    int64  \n",
      " 8   exang     303 non-null    int64  \n",
      " 9   oldpeak   303 non-null    float64\n",
      " 10  slope     303 non-null    int64  \n",
      " 11  ca        303 non-null    int64  \n",
      " 12  thal      303 non-null    int64  \n",
      " 13  target    303 non-null    int64  \n",
      "dtypes: float64(1), int64(13)\n",
      "memory usage: 33.3 KB\n"
     ]
    }
   ],
   "source": [
    "# getting some info about the data\n",
    "heart_data.info()"
   ]
  },
  {
   "cell_type": "code",
   "execution_count": 9,
   "metadata": {
    "colab": {
     "base_uri": "https://localhost:8080/"
    },
    "executionInfo": {
     "elapsed": 25,
     "status": "ok",
     "timestamp": 1653200234316,
     "user": {
      "displayName": "siddhardh selvam",
      "userId": "13966379820454708749"
     },
     "user_tz": -330
    },
    "id": "GjHtW31rsGlb",
    "outputId": "062af8fa-b836-480d-93dd-b84f335f0839"
   },
   "outputs": [
    {
     "data": {
      "text/plain": [
       "age         0\n",
       "sex         0\n",
       "cp          0\n",
       "trestbps    0\n",
       "chol        0\n",
       "fbs         0\n",
       "restecg     0\n",
       "thalach     0\n",
       "exang       0\n",
       "oldpeak     0\n",
       "slope       0\n",
       "ca          0\n",
       "thal        0\n",
       "target      0\n",
       "dtype: int64"
      ]
     },
     "execution_count": 9,
     "metadata": {},
     "output_type": "execute_result"
    }
   ],
   "source": [
    "# checking for missing values\n",
    "heart_data.isnull().sum()"
   ]
  },
  {
   "cell_type": "code",
   "execution_count": 10,
   "metadata": {
    "colab": {
     "base_uri": "https://localhost:8080/",
     "height": 364
    },
    "executionInfo": {
     "elapsed": 24,
     "status": "ok",
     "timestamp": 1653200234317,
     "user": {
      "displayName": "siddhardh selvam",
      "userId": "13966379820454708749"
     },
     "user_tz": -330
    },
    "id": "OHmcP7DJsSEP",
    "outputId": "b08b05fa-7f04-45bb-8f9b-c676a77834c3"
   },
   "outputs": [
    {
     "data": {
      "text/html": [
       "<div>\n",
       "<style scoped>\n",
       "    .dataframe tbody tr th:only-of-type {\n",
       "        vertical-align: middle;\n",
       "    }\n",
       "\n",
       "    .dataframe tbody tr th {\n",
       "        vertical-align: top;\n",
       "    }\n",
       "\n",
       "    .dataframe thead th {\n",
       "        text-align: right;\n",
       "    }\n",
       "</style>\n",
       "<table border=\"1\" class=\"dataframe\">\n",
       "  <thead>\n",
       "    <tr style=\"text-align: right;\">\n",
       "      <th></th>\n",
       "      <th>age</th>\n",
       "      <th>sex</th>\n",
       "      <th>cp</th>\n",
       "      <th>trestbps</th>\n",
       "      <th>chol</th>\n",
       "      <th>fbs</th>\n",
       "      <th>restecg</th>\n",
       "      <th>thalach</th>\n",
       "      <th>exang</th>\n",
       "      <th>oldpeak</th>\n",
       "      <th>slope</th>\n",
       "      <th>ca</th>\n",
       "      <th>thal</th>\n",
       "      <th>target</th>\n",
       "    </tr>\n",
       "  </thead>\n",
       "  <tbody>\n",
       "    <tr>\n",
       "      <th>count</th>\n",
       "      <td>303.000000</td>\n",
       "      <td>303.000000</td>\n",
       "      <td>303.000000</td>\n",
       "      <td>303.000000</td>\n",
       "      <td>303.000000</td>\n",
       "      <td>303.000000</td>\n",
       "      <td>303.000000</td>\n",
       "      <td>303.000000</td>\n",
       "      <td>303.000000</td>\n",
       "      <td>303.000000</td>\n",
       "      <td>303.000000</td>\n",
       "      <td>303.000000</td>\n",
       "      <td>303.000000</td>\n",
       "      <td>303.000000</td>\n",
       "    </tr>\n",
       "    <tr>\n",
       "      <th>mean</th>\n",
       "      <td>54.366337</td>\n",
       "      <td>0.683168</td>\n",
       "      <td>0.966997</td>\n",
       "      <td>131.623762</td>\n",
       "      <td>246.264026</td>\n",
       "      <td>0.148515</td>\n",
       "      <td>0.528053</td>\n",
       "      <td>149.646865</td>\n",
       "      <td>0.326733</td>\n",
       "      <td>1.039604</td>\n",
       "      <td>1.399340</td>\n",
       "      <td>0.729373</td>\n",
       "      <td>2.313531</td>\n",
       "      <td>0.544554</td>\n",
       "    </tr>\n",
       "    <tr>\n",
       "      <th>std</th>\n",
       "      <td>9.082101</td>\n",
       "      <td>0.466011</td>\n",
       "      <td>1.032052</td>\n",
       "      <td>17.538143</td>\n",
       "      <td>51.830751</td>\n",
       "      <td>0.356198</td>\n",
       "      <td>0.525860</td>\n",
       "      <td>22.905161</td>\n",
       "      <td>0.469794</td>\n",
       "      <td>1.161075</td>\n",
       "      <td>0.616226</td>\n",
       "      <td>1.022606</td>\n",
       "      <td>0.612277</td>\n",
       "      <td>0.498835</td>\n",
       "    </tr>\n",
       "    <tr>\n",
       "      <th>min</th>\n",
       "      <td>29.000000</td>\n",
       "      <td>0.000000</td>\n",
       "      <td>0.000000</td>\n",
       "      <td>94.000000</td>\n",
       "      <td>126.000000</td>\n",
       "      <td>0.000000</td>\n",
       "      <td>0.000000</td>\n",
       "      <td>71.000000</td>\n",
       "      <td>0.000000</td>\n",
       "      <td>0.000000</td>\n",
       "      <td>0.000000</td>\n",
       "      <td>0.000000</td>\n",
       "      <td>0.000000</td>\n",
       "      <td>0.000000</td>\n",
       "    </tr>\n",
       "    <tr>\n",
       "      <th>25%</th>\n",
       "      <td>47.500000</td>\n",
       "      <td>0.000000</td>\n",
       "      <td>0.000000</td>\n",
       "      <td>120.000000</td>\n",
       "      <td>211.000000</td>\n",
       "      <td>0.000000</td>\n",
       "      <td>0.000000</td>\n",
       "      <td>133.500000</td>\n",
       "      <td>0.000000</td>\n",
       "      <td>0.000000</td>\n",
       "      <td>1.000000</td>\n",
       "      <td>0.000000</td>\n",
       "      <td>2.000000</td>\n",
       "      <td>0.000000</td>\n",
       "    </tr>\n",
       "    <tr>\n",
       "      <th>50%</th>\n",
       "      <td>55.000000</td>\n",
       "      <td>1.000000</td>\n",
       "      <td>1.000000</td>\n",
       "      <td>130.000000</td>\n",
       "      <td>240.000000</td>\n",
       "      <td>0.000000</td>\n",
       "      <td>1.000000</td>\n",
       "      <td>153.000000</td>\n",
       "      <td>0.000000</td>\n",
       "      <td>0.800000</td>\n",
       "      <td>1.000000</td>\n",
       "      <td>0.000000</td>\n",
       "      <td>2.000000</td>\n",
       "      <td>1.000000</td>\n",
       "    </tr>\n",
       "    <tr>\n",
       "      <th>75%</th>\n",
       "      <td>61.000000</td>\n",
       "      <td>1.000000</td>\n",
       "      <td>2.000000</td>\n",
       "      <td>140.000000</td>\n",
       "      <td>274.500000</td>\n",
       "      <td>0.000000</td>\n",
       "      <td>1.000000</td>\n",
       "      <td>166.000000</td>\n",
       "      <td>1.000000</td>\n",
       "      <td>1.600000</td>\n",
       "      <td>2.000000</td>\n",
       "      <td>1.000000</td>\n",
       "      <td>3.000000</td>\n",
       "      <td>1.000000</td>\n",
       "    </tr>\n",
       "    <tr>\n",
       "      <th>max</th>\n",
       "      <td>77.000000</td>\n",
       "      <td>1.000000</td>\n",
       "      <td>3.000000</td>\n",
       "      <td>200.000000</td>\n",
       "      <td>564.000000</td>\n",
       "      <td>1.000000</td>\n",
       "      <td>2.000000</td>\n",
       "      <td>202.000000</td>\n",
       "      <td>1.000000</td>\n",
       "      <td>6.200000</td>\n",
       "      <td>2.000000</td>\n",
       "      <td>4.000000</td>\n",
       "      <td>3.000000</td>\n",
       "      <td>1.000000</td>\n",
       "    </tr>\n",
       "  </tbody>\n",
       "</table>\n",
       "</div>"
      ],
      "text/plain": [
       "              age         sex          cp    trestbps        chol         fbs  \\\n",
       "count  303.000000  303.000000  303.000000  303.000000  303.000000  303.000000   \n",
       "mean    54.366337    0.683168    0.966997  131.623762  246.264026    0.148515   \n",
       "std      9.082101    0.466011    1.032052   17.538143   51.830751    0.356198   \n",
       "min     29.000000    0.000000    0.000000   94.000000  126.000000    0.000000   \n",
       "25%     47.500000    0.000000    0.000000  120.000000  211.000000    0.000000   \n",
       "50%     55.000000    1.000000    1.000000  130.000000  240.000000    0.000000   \n",
       "75%     61.000000    1.000000    2.000000  140.000000  274.500000    0.000000   \n",
       "max     77.000000    1.000000    3.000000  200.000000  564.000000    1.000000   \n",
       "\n",
       "          restecg     thalach       exang     oldpeak       slope          ca  \\\n",
       "count  303.000000  303.000000  303.000000  303.000000  303.000000  303.000000   \n",
       "mean     0.528053  149.646865    0.326733    1.039604    1.399340    0.729373   \n",
       "std      0.525860   22.905161    0.469794    1.161075    0.616226    1.022606   \n",
       "min      0.000000   71.000000    0.000000    0.000000    0.000000    0.000000   \n",
       "25%      0.000000  133.500000    0.000000    0.000000    1.000000    0.000000   \n",
       "50%      1.000000  153.000000    0.000000    0.800000    1.000000    0.000000   \n",
       "75%      1.000000  166.000000    1.000000    1.600000    2.000000    1.000000   \n",
       "max      2.000000  202.000000    1.000000    6.200000    2.000000    4.000000   \n",
       "\n",
       "             thal      target  \n",
       "count  303.000000  303.000000  \n",
       "mean     2.313531    0.544554  \n",
       "std      0.612277    0.498835  \n",
       "min      0.000000    0.000000  \n",
       "25%      2.000000    0.000000  \n",
       "50%      2.000000    1.000000  \n",
       "75%      3.000000    1.000000  \n",
       "max      3.000000    1.000000  "
      ]
     },
     "execution_count": 10,
     "metadata": {},
     "output_type": "execute_result"
    }
   ],
   "source": [
    "# statistical measures about the data\n",
    "heart_data.describe()"
   ]
  },
  {
   "cell_type": "code",
   "execution_count": 11,
   "metadata": {
    "colab": {
     "base_uri": "https://localhost:8080/"
    },
    "executionInfo": {
     "elapsed": 24,
     "status": "ok",
     "timestamp": 1653200234318,
     "user": {
      "displayName": "siddhardh selvam",
      "userId": "13966379820454708749"
     },
     "user_tz": -330
    },
    "id": "4InaOSIUsfWP",
    "outputId": "fb25a289-d5e9-438f-d21d-f09474cacbc6"
   },
   "outputs": [
    {
     "data": {
      "text/plain": [
       "1    165\n",
       "0    138\n",
       "Name: target, dtype: int64"
      ]
     },
     "execution_count": 11,
     "metadata": {},
     "output_type": "execute_result"
    }
   ],
   "source": [
    "# checking the distribution of Target Variable\n",
    "heart_data['target'].value_counts()"
   ]
  },
  {
   "cell_type": "markdown",
   "metadata": {
    "id": "aSOBu4qDtJy5"
   },
   "source": [
    "1 --> Defective Heart\n",
    "\n",
    "0 --> Healthy Heart"
   ]
  },
  {
   "cell_type": "markdown",
   "metadata": {
    "id": "tW8i4igjtPRC"
   },
   "source": [
    "Splitting the Features and Target"
   ]
  },
  {
   "cell_type": "code",
   "execution_count": 12,
   "metadata": {
    "executionInfo": {
     "elapsed": 22,
     "status": "ok",
     "timestamp": 1653200234318,
     "user": {
      "displayName": "siddhardh selvam",
      "userId": "13966379820454708749"
     },
     "user_tz": -330
    },
    "id": "Q6yfbswrs7m3"
   },
   "outputs": [],
   "source": [
    "X = heart_data.drop(columns='target', axis=1)\n",
    "Y = heart_data['target']"
   ]
  },
  {
   "cell_type": "code",
   "execution_count": 13,
   "metadata": {
    "colab": {
     "base_uri": "https://localhost:8080/"
    },
    "executionInfo": {
     "elapsed": 23,
     "status": "ok",
     "timestamp": 1653200234319,
     "user": {
      "displayName": "siddhardh selvam",
      "userId": "13966379820454708749"
     },
     "user_tz": -330
    },
    "id": "XJoCp4ZKtpZy",
    "outputId": "14301a08-f0ce-41ef-ea17-b6a315aebef5"
   },
   "outputs": [
    {
     "name": "stdout",
     "output_type": "stream",
     "text": [
      "     age  sex  cp  trestbps  chol  fbs  restecg  thalach  exang  oldpeak  \\\n",
      "0     63    1   3       145   233    1        0      150      0      2.3   \n",
      "1     37    1   2       130   250    0        1      187      0      3.5   \n",
      "2     41    0   1       130   204    0        0      172      0      1.4   \n",
      "3     56    1   1       120   236    0        1      178      0      0.8   \n",
      "4     57    0   0       120   354    0        1      163      1      0.6   \n",
      "..   ...  ...  ..       ...   ...  ...      ...      ...    ...      ...   \n",
      "298   57    0   0       140   241    0        1      123      1      0.2   \n",
      "299   45    1   3       110   264    0        1      132      0      1.2   \n",
      "300   68    1   0       144   193    1        1      141      0      3.4   \n",
      "301   57    1   0       130   131    0        1      115      1      1.2   \n",
      "302   57    0   1       130   236    0        0      174      0      0.0   \n",
      "\n",
      "     slope  ca  thal  \n",
      "0        0   0     1  \n",
      "1        0   0     2  \n",
      "2        2   0     2  \n",
      "3        2   0     2  \n",
      "4        2   0     2  \n",
      "..     ...  ..   ...  \n",
      "298      1   0     3  \n",
      "299      1   0     3  \n",
      "300      1   2     3  \n",
      "301      1   1     3  \n",
      "302      1   1     2  \n",
      "\n",
      "[303 rows x 13 columns]\n"
     ]
    }
   ],
   "source": [
    "print(X)"
   ]
  },
  {
   "cell_type": "code",
   "execution_count": 14,
   "metadata": {
    "colab": {
     "base_uri": "https://localhost:8080/"
    },
    "executionInfo": {
     "elapsed": 21,
     "status": "ok",
     "timestamp": 1653200234319,
     "user": {
      "displayName": "siddhardh selvam",
      "userId": "13966379820454708749"
     },
     "user_tz": -330
    },
    "id": "nukuj-YItq1w",
    "outputId": "ee5e6451-0b29-4a02-aebf-24367d73874b"
   },
   "outputs": [
    {
     "name": "stdout",
     "output_type": "stream",
     "text": [
      "0      1\n",
      "1      1\n",
      "2      1\n",
      "3      1\n",
      "4      1\n",
      "      ..\n",
      "298    0\n",
      "299    0\n",
      "300    0\n",
      "301    0\n",
      "302    0\n",
      "Name: target, Length: 303, dtype: int64\n"
     ]
    }
   ],
   "source": [
    "print(Y)"
   ]
  },
  {
   "cell_type": "markdown",
   "metadata": {
    "id": "_EcjSE3Et18n"
   },
   "source": [
    "Splitting the Data into Training data & Test Data"
   ]
  },
  {
   "cell_type": "code",
   "execution_count": 15,
   "metadata": {
    "executionInfo": {
     "elapsed": 20,
     "status": "ok",
     "timestamp": 1653200234319,
     "user": {
      "displayName": "siddhardh selvam",
      "userId": "13966379820454708749"
     },
     "user_tz": -330
    },
    "id": "a-UUfRUxtuga"
   },
   "outputs": [],
   "source": [
    "X_train, X_test, Y_train, Y_test = train_test_split(X, Y, test_size=0.2, stratify=Y, random_state=2)"
   ]
  },
  {
   "cell_type": "code",
   "execution_count": 16,
   "metadata": {
    "colab": {
     "base_uri": "https://localhost:8080/"
    },
    "executionInfo": {
     "elapsed": 21,
     "status": "ok",
     "timestamp": 1653200234320,
     "user": {
      "displayName": "siddhardh selvam",
      "userId": "13966379820454708749"
     },
     "user_tz": -330
    },
    "id": "x7PrjC6zuf6X",
    "outputId": "d78b7e79-4659-4101-c9d6-61df1d0d5981"
   },
   "outputs": [
    {
     "name": "stdout",
     "output_type": "stream",
     "text": [
      "(303, 13) (242, 13) (61, 13)\n"
     ]
    }
   ],
   "source": [
    "print(X.shape, X_train.shape, X_test.shape)"
   ]
  },
  {
   "cell_type": "markdown",
   "metadata": {
    "id": "beSkZmpVuvn9"
   },
   "source": [
    "Model Training"
   ]
  },
  {
   "cell_type": "markdown",
   "metadata": {},
   "source": [
    "# RNN"
   ]
  },
  {
   "cell_type": "code",
   "execution_count": 17,
   "metadata": {},
   "outputs": [],
   "source": [
    "from sklearn.metrics import mean_squared_error, mean_absolute_error, explained_variance_score, r2_score \n",
    "from sklearn.metrics import mean_poisson_deviance, mean_gamma_deviance, accuracy_score\n",
    "import tensorflow as tf\n",
    "from tensorflow.keras.models import Sequential\n",
    "from tensorflow.keras.layers import Dense, Dropout\n",
    "from tensorflow.keras.layers import LSTM\n"
   ]
  },
  {
   "cell_type": "code",
   "execution_count": 18,
   "metadata": {},
   "outputs": [],
   "source": [
    "model=Sequential()\n",
    "\n",
    "model.add(LSTM(10,input_shape=(None,1),activation=\"relu\"))\n",
    "\n",
    "model.add(Dense(1))\n",
    "\n",
    "model.compile(loss=\"mean_squared_error\",optimizer=\"adam\")"
   ]
  },
  {
   "cell_type": "code",
   "execution_count": 19,
   "metadata": {},
   "outputs": [
    {
     "name": "stdout",
     "output_type": "stream",
     "text": [
      "Epoch 1/200\n",
      "8/8 [==============================] - 3s 98ms/step - loss: 0.2241 - val_loss: 0.2397\n",
      "Epoch 2/200\n",
      "8/8 [==============================] - 0s 11ms/step - loss: 0.2077 - val_loss: 0.2229\n",
      "Epoch 3/200\n",
      "8/8 [==============================] - 0s 12ms/step - loss: 0.1954 - val_loss: 0.2226\n",
      "Epoch 4/200\n",
      "8/8 [==============================] - 0s 16ms/step - loss: 0.1854 - val_loss: 0.2073\n",
      "Epoch 5/200\n",
      "8/8 [==============================] - 0s 16ms/step - loss: 0.1848 - val_loss: 0.2126\n",
      "Epoch 6/200\n",
      "8/8 [==============================] - 0s 9ms/step - loss: 0.1766 - val_loss: 0.1998\n",
      "Epoch 7/200\n",
      "8/8 [==============================] - 0s 12ms/step - loss: 0.1717 - val_loss: 0.2047\n",
      "Epoch 8/200\n",
      "8/8 [==============================] - 0s 12ms/step - loss: 0.1689 - val_loss: 0.1967\n",
      "Epoch 9/200\n",
      "8/8 [==============================] - 0s 11ms/step - loss: 0.1606 - val_loss: 0.2049\n",
      "Epoch 10/200\n",
      "8/8 [==============================] - 0s 21ms/step - loss: 0.1650 - val_loss: 0.1917\n",
      "Epoch 11/200\n",
      "8/8 [==============================] - 0s 26ms/step - loss: 0.1609 - val_loss: 0.1933\n",
      "Epoch 12/200\n",
      "8/8 [==============================] - 0s 35ms/step - loss: 0.1566 - val_loss: 0.1865\n",
      "Epoch 13/200\n",
      "8/8 [==============================] - 0s 25ms/step - loss: 0.1551 - val_loss: 0.1802\n",
      "Epoch 14/200\n",
      "8/8 [==============================] - 0s 16ms/step - loss: 0.1587 - val_loss: 0.1901\n",
      "Epoch 15/200\n",
      "8/8 [==============================] - 0s 14ms/step - loss: 0.1510 - val_loss: 0.1791\n",
      "Epoch 16/200\n",
      "8/8 [==============================] - 0s 12ms/step - loss: 0.1516 - val_loss: 0.1849\n",
      "Epoch 17/200\n",
      "8/8 [==============================] - 0s 12ms/step - loss: 0.1525 - val_loss: 0.1845\n",
      "Epoch 18/200\n",
      "8/8 [==============================] - 0s 14ms/step - loss: 0.1491 - val_loss: 0.1765\n",
      "Epoch 19/200\n",
      "8/8 [==============================] - 0s 19ms/step - loss: 0.1500 - val_loss: 0.2005\n",
      "Epoch 20/200\n",
      "8/8 [==============================] - 0s 10ms/step - loss: 0.1537 - val_loss: 0.1747\n",
      "Epoch 21/200\n",
      "8/8 [==============================] - 0s 14ms/step - loss: 0.1501 - val_loss: 0.1742\n",
      "Epoch 22/200\n",
      "8/8 [==============================] - 0s 10ms/step - loss: 0.1474 - val_loss: 0.1785\n",
      "Epoch 23/200\n",
      "8/8 [==============================] - 0s 13ms/step - loss: 0.1444 - val_loss: 0.1745\n",
      "Epoch 24/200\n",
      "8/8 [==============================] - 0s 12ms/step - loss: 0.1444 - val_loss: 0.1767\n",
      "Epoch 25/200\n",
      "8/8 [==============================] - 0s 9ms/step - loss: 0.1430 - val_loss: 0.1704\n",
      "Epoch 26/200\n",
      "8/8 [==============================] - 0s 12ms/step - loss: 0.1428 - val_loss: 0.1722\n",
      "Epoch 27/200\n",
      "8/8 [==============================] - 0s 9ms/step - loss: 0.1404 - val_loss: 0.1826\n",
      "Epoch 28/200\n",
      "8/8 [==============================] - 0s 11ms/step - loss: 0.1414 - val_loss: 0.1680\n",
      "Epoch 29/200\n",
      "8/8 [==============================] - 0s 13ms/step - loss: 0.1397 - val_loss: 0.1738\n",
      "Epoch 30/200\n",
      "8/8 [==============================] - 0s 10ms/step - loss: 0.1376 - val_loss: 0.1667\n",
      "Epoch 31/200\n",
      "8/8 [==============================] - 0s 12ms/step - loss: 0.1364 - val_loss: 0.1790\n",
      "Epoch 32/200\n",
      "8/8 [==============================] - 0s 15ms/step - loss: 0.1407 - val_loss: 0.1657\n",
      "Epoch 33/200\n",
      "8/8 [==============================] - 0s 17ms/step - loss: 0.1390 - val_loss: 0.1834\n",
      "Epoch 34/200\n",
      "8/8 [==============================] - 0s 12ms/step - loss: 0.1398 - val_loss: 0.1628\n",
      "Epoch 35/200\n",
      "8/8 [==============================] - 0s 11ms/step - loss: 0.1372 - val_loss: 0.1831\n",
      "Epoch 36/200\n",
      "8/8 [==============================] - 0s 10ms/step - loss: 0.1441 - val_loss: 0.1650\n",
      "Epoch 37/200\n",
      "8/8 [==============================] - 0s 12ms/step - loss: 0.1419 - val_loss: 0.1735\n",
      "Epoch 38/200\n",
      "8/8 [==============================] - 0s 20ms/step - loss: 0.1372 - val_loss: 0.1613\n",
      "Epoch 39/200\n",
      "8/8 [==============================] - 0s 11ms/step - loss: 0.1358 - val_loss: 0.1756\n",
      "Epoch 40/200\n",
      "8/8 [==============================] - 0s 11ms/step - loss: 0.1365 - val_loss: 0.1649\n",
      "Epoch 41/200\n",
      "8/8 [==============================] - 0s 15ms/step - loss: 0.1325 - val_loss: 0.1622\n",
      "Epoch 42/200\n",
      "8/8 [==============================] - 0s 17ms/step - loss: 0.1348 - val_loss: 0.1738\n",
      "Epoch 43/200\n",
      "8/8 [==============================] - 0s 13ms/step - loss: 0.1332 - val_loss: 0.1606\n",
      "Epoch 44/200\n",
      "8/8 [==============================] - 0s 12ms/step - loss: 0.1350 - val_loss: 0.1604\n",
      "Epoch 45/200\n",
      "8/8 [==============================] - 0s 14ms/step - loss: 0.1309 - val_loss: 0.1652\n",
      "Epoch 46/200\n",
      "8/8 [==============================] - 0s 13ms/step - loss: 0.1303 - val_loss: 0.1656\n",
      "Epoch 47/200\n",
      "8/8 [==============================] - 0s 11ms/step - loss: 0.1312 - val_loss: 0.1643\n",
      "Epoch 48/200\n",
      "8/8 [==============================] - 0s 13ms/step - loss: 0.1305 - val_loss: 0.1718\n",
      "Epoch 49/200\n",
      "8/8 [==============================] - 0s 14ms/step - loss: 0.1316 - val_loss: 0.1609\n",
      "Epoch 50/200\n",
      "8/8 [==============================] - 0s 14ms/step - loss: 0.1284 - val_loss: 0.1697\n",
      "Epoch 51/200\n",
      "8/8 [==============================] - 0s 28ms/step - loss: 0.1290 - val_loss: 0.1643\n",
      "Epoch 52/200\n",
      "8/8 [==============================] - 0s 16ms/step - loss: 0.1281 - val_loss: 0.1676\n",
      "Epoch 53/200\n",
      "8/8 [==============================] - 0s 24ms/step - loss: 0.1301 - val_loss: 0.1616\n",
      "Epoch 54/200\n",
      "8/8 [==============================] - 0s 17ms/step - loss: 0.1285 - val_loss: 0.1722\n",
      "Epoch 55/200\n",
      "8/8 [==============================] - 0s 17ms/step - loss: 0.1328 - val_loss: 0.1683\n",
      "Epoch 56/200\n",
      "8/8 [==============================] - 0s 18ms/step - loss: 0.1277 - val_loss: 0.1586\n",
      "Epoch 57/200\n",
      "8/8 [==============================] - 0s 26ms/step - loss: 0.1265 - val_loss: 0.1798\n",
      "Epoch 58/200\n",
      "8/8 [==============================] - 0s 32ms/step - loss: 0.1293 - val_loss: 0.1616\n",
      "Epoch 59/200\n",
      "8/8 [==============================] - 0s 28ms/step - loss: 0.1289 - val_loss: 0.1666\n",
      "Epoch 60/200\n",
      "8/8 [==============================] - 0s 24ms/step - loss: 0.1291 - val_loss: 0.1637\n",
      "Epoch 61/200\n",
      "8/8 [==============================] - 0s 22ms/step - loss: 0.1263 - val_loss: 0.1652\n",
      "Epoch 62/200\n",
      "8/8 [==============================] - 0s 21ms/step - loss: 0.1288 - val_loss: 0.1616\n",
      "Epoch 63/200\n",
      "8/8 [==============================] - 0s 17ms/step - loss: 0.1258 - val_loss: 0.1578\n",
      "Epoch 64/200\n",
      "8/8 [==============================] - 0s 12ms/step - loss: 0.1321 - val_loss: 0.1673\n",
      "Epoch 65/200\n",
      "8/8 [==============================] - 0s 11ms/step - loss: 0.1257 - val_loss: 0.1660\n",
      "Epoch 66/200\n",
      "8/8 [==============================] - 0s 20ms/step - loss: 0.1248 - val_loss: 0.1709\n",
      "Epoch 67/200\n",
      "8/8 [==============================] - 0s 15ms/step - loss: 0.1335 - val_loss: 0.1832\n",
      "Epoch 68/200\n",
      "8/8 [==============================] - 0s 12ms/step - loss: 0.1312 - val_loss: 0.1640\n",
      "Epoch 69/200\n",
      "8/8 [==============================] - 0s 16ms/step - loss: 0.1283 - val_loss: 0.1787\n",
      "Epoch 70/200\n",
      "8/8 [==============================] - 0s 14ms/step - loss: 0.1270 - val_loss: 0.1675\n",
      "Epoch 71/200\n",
      "8/8 [==============================] - 0s 16ms/step - loss: 0.1349 - val_loss: 0.1743\n",
      "Epoch 72/200\n",
      "8/8 [==============================] - 0s 19ms/step - loss: 0.1351 - val_loss: 0.1637\n",
      "Epoch 73/200\n",
      "8/8 [==============================] - 0s 15ms/step - loss: 0.1262 - val_loss: 0.1655\n",
      "Epoch 74/200\n",
      "8/8 [==============================] - 0s 15ms/step - loss: 0.1214 - val_loss: 0.1635\n",
      "Epoch 75/200\n",
      "8/8 [==============================] - 0s 14ms/step - loss: 0.1214 - val_loss: 0.1651\n",
      "Epoch 76/200\n",
      "8/8 [==============================] - 0s 13ms/step - loss: 0.1228 - val_loss: 0.1628\n",
      "Epoch 77/200\n",
      "8/8 [==============================] - 0s 16ms/step - loss: 0.1215 - val_loss: 0.1659\n",
      "Epoch 78/200\n",
      "8/8 [==============================] - 0s 15ms/step - loss: 0.1227 - val_loss: 0.1671\n",
      "Epoch 79/200\n",
      "8/8 [==============================] - 0s 16ms/step - loss: 0.1232 - val_loss: 0.1674\n",
      "Epoch 80/200\n",
      "8/8 [==============================] - 0s 14ms/step - loss: 0.1206 - val_loss: 0.1690\n",
      "Epoch 81/200\n",
      "8/8 [==============================] - 0s 16ms/step - loss: 0.1186 - val_loss: 0.1661\n",
      "Epoch 82/200\n",
      "8/8 [==============================] - 0s 15ms/step - loss: 0.1206 - val_loss: 0.1710\n",
      "Epoch 83/200\n",
      "8/8 [==============================] - 0s 16ms/step - loss: 0.1188 - val_loss: 0.1669\n"
     ]
    },
    {
     "name": "stdout",
     "output_type": "stream",
     "text": [
      "Epoch 84/200\n",
      "8/8 [==============================] - 0s 15ms/step - loss: 0.1227 - val_loss: 0.1637\n",
      "Epoch 85/200\n",
      "8/8 [==============================] - 0s 14ms/step - loss: 0.1243 - val_loss: 0.1640\n",
      "Epoch 86/200\n",
      "8/8 [==============================] - 0s 16ms/step - loss: 0.1192 - val_loss: 0.1690\n",
      "Epoch 87/200\n",
      "8/8 [==============================] - 0s 15ms/step - loss: 0.1199 - val_loss: 0.1653\n",
      "Epoch 88/200\n",
      "8/8 [==============================] - 0s 14ms/step - loss: 0.1201 - val_loss: 0.1697\n",
      "Epoch 89/200\n",
      "8/8 [==============================] - 0s 12ms/step - loss: 0.1204 - val_loss: 0.1650\n",
      "Epoch 90/200\n",
      "8/8 [==============================] - 0s 14ms/step - loss: 0.1210 - val_loss: 0.1773\n",
      "Epoch 91/200\n",
      "8/8 [==============================] - 0s 15ms/step - loss: 0.1317 - val_loss: 0.1742\n",
      "Epoch 92/200\n",
      "8/8 [==============================] - 0s 16ms/step - loss: 0.1263 - val_loss: 0.1735\n",
      "Epoch 93/200\n",
      "8/8 [==============================] - 0s 16ms/step - loss: 0.1266 - val_loss: 0.1659\n",
      "Epoch 94/200\n",
      "8/8 [==============================] - 0s 15ms/step - loss: 0.1250 - val_loss: 0.1694\n",
      "Epoch 95/200\n",
      "8/8 [==============================] - 0s 13ms/step - loss: 0.1197 - val_loss: 0.1645\n",
      "Epoch 96/200\n",
      "8/8 [==============================] - 0s 10ms/step - loss: 0.1179 - val_loss: 0.1693\n",
      "Epoch 97/200\n",
      "8/8 [==============================] - 0s 17ms/step - loss: 0.1189 - val_loss: 0.1719\n",
      "Epoch 98/200\n",
      "8/8 [==============================] - 0s 15ms/step - loss: 0.1185 - val_loss: 0.1688\n",
      "Epoch 99/200\n",
      "8/8 [==============================] - 0s 10ms/step - loss: 0.1178 - val_loss: 0.1636\n",
      "Epoch 100/200\n",
      "8/8 [==============================] - 0s 11ms/step - loss: 0.1201 - val_loss: 0.1808\n",
      "Epoch 101/200\n",
      "8/8 [==============================] - 0s 13ms/step - loss: 0.1202 - val_loss: 0.1650\n",
      "Epoch 102/200\n",
      "8/8 [==============================] - 0s 12ms/step - loss: 0.1230 - val_loss: 0.1716\n",
      "Epoch 103/200\n",
      "8/8 [==============================] - 0s 12ms/step - loss: 0.1195 - val_loss: 0.1628\n",
      "Epoch 104/200\n",
      "8/8 [==============================] - 0s 13ms/step - loss: 0.1172 - val_loss: 0.1781\n",
      "Epoch 105/200\n",
      "8/8 [==============================] - 0s 12ms/step - loss: 0.1214 - val_loss: 0.1632\n",
      "Epoch 106/200\n",
      "8/8 [==============================] - 0s 12ms/step - loss: 0.1249 - val_loss: 0.1684\n",
      "Epoch 107/200\n",
      "8/8 [==============================] - 0s 17ms/step - loss: 0.1226 - val_loss: 0.1657\n",
      "Epoch 108/200\n",
      "8/8 [==============================] - 0s 12ms/step - loss: 0.1186 - val_loss: 0.1688\n",
      "Epoch 109/200\n",
      "8/8 [==============================] - 0s 10ms/step - loss: 0.1197 - val_loss: 0.1641\n",
      "Epoch 110/200\n",
      "8/8 [==============================] - 0s 11ms/step - loss: 0.1154 - val_loss: 0.1703\n",
      "Epoch 111/200\n",
      "8/8 [==============================] - 0s 14ms/step - loss: 0.1167 - val_loss: 0.1663\n",
      "Epoch 112/200\n",
      "8/8 [==============================] - 0s 14ms/step - loss: 0.1167 - val_loss: 0.1635\n",
      "Epoch 113/200\n",
      "8/8 [==============================] - 0s 11ms/step - loss: 0.1216 - val_loss: 0.1695\n",
      "Epoch 114/200\n",
      "8/8 [==============================] - 0s 12ms/step - loss: 0.1163 - val_loss: 0.1630\n",
      "Epoch 115/200\n",
      "8/8 [==============================] - 0s 12ms/step - loss: 0.1178 - val_loss: 0.1743\n",
      "Epoch 116/200\n",
      "8/8 [==============================] - 0s 10ms/step - loss: 0.1203 - val_loss: 0.1645\n",
      "Epoch 117/200\n",
      "8/8 [==============================] - 0s 11ms/step - loss: 0.1168 - val_loss: 0.1672\n",
      "Epoch 118/200\n",
      "8/8 [==============================] - 0s 11ms/step - loss: 0.1256 - val_loss: 0.1701\n",
      "Epoch 119/200\n",
      "8/8 [==============================] - 0s 12ms/step - loss: 0.1171 - val_loss: 0.1655\n",
      "Epoch 120/200\n",
      "8/8 [==============================] - 0s 12ms/step - loss: 0.1144 - val_loss: 0.1682\n",
      "Epoch 121/200\n",
      "8/8 [==============================] - 0s 12ms/step - loss: 0.1134 - val_loss: 0.1730\n",
      "Epoch 122/200\n",
      "8/8 [==============================] - 0s 14ms/step - loss: 0.1215 - val_loss: 0.1757\n",
      "Epoch 123/200\n",
      "8/8 [==============================] - 0s 11ms/step - loss: 0.1171 - val_loss: 0.1742\n",
      "Epoch 124/200\n",
      "8/8 [==============================] - 0s 9ms/step - loss: 0.1154 - val_loss: 0.1648\n",
      "Epoch 125/200\n",
      "8/8 [==============================] - 0s 10ms/step - loss: 0.1155 - val_loss: 0.1683\n",
      "Epoch 126/200\n",
      "8/8 [==============================] - 0s 9ms/step - loss: 0.1148 - val_loss: 0.1661\n",
      "Epoch 127/200\n",
      "8/8 [==============================] - 0s 13ms/step - loss: 0.1159 - val_loss: 0.1675\n",
      "Epoch 128/200\n",
      "8/8 [==============================] - 0s 14ms/step - loss: 0.1157 - val_loss: 0.1668\n",
      "Epoch 129/200\n",
      "8/8 [==============================] - 0s 11ms/step - loss: 0.1124 - val_loss: 0.1643\n",
      "Epoch 130/200\n",
      "8/8 [==============================] - 0s 14ms/step - loss: 0.1180 - val_loss: 0.1702\n",
      "Epoch 131/200\n",
      "8/8 [==============================] - 0s 10ms/step - loss: 0.1118 - val_loss: 0.1633\n",
      "Epoch 132/200\n",
      "8/8 [==============================] - 0s 11ms/step - loss: 0.1142 - val_loss: 0.1724\n",
      "Epoch 133/200\n",
      "8/8 [==============================] - 0s 15ms/step - loss: 0.1141 - val_loss: 0.1672\n",
      "Epoch 134/200\n",
      "8/8 [==============================] - 0s 26ms/step - loss: 0.1140 - val_loss: 0.1819\n",
      "Epoch 135/200\n",
      "8/8 [==============================] - 0s 12ms/step - loss: 0.1223 - val_loss: 0.1649\n",
      "Epoch 136/200\n",
      "8/8 [==============================] - 0s 12ms/step - loss: 0.1112 - val_loss: 0.1708\n",
      "Epoch 137/200\n",
      "8/8 [==============================] - 0s 12ms/step - loss: 0.1117 - val_loss: 0.1716\n",
      "Epoch 138/200\n",
      "8/8 [==============================] - 0s 9ms/step - loss: 0.1149 - val_loss: 0.1712\n",
      "Epoch 139/200\n",
      "8/8 [==============================] - 0s 21ms/step - loss: 0.1149 - val_loss: 0.1667\n",
      "Epoch 140/200\n",
      "8/8 [==============================] - 0s 11ms/step - loss: 0.1126 - val_loss: 0.1700\n",
      "Epoch 141/200\n",
      "8/8 [==============================] - 0s 11ms/step - loss: 0.1112 - val_loss: 0.1678\n",
      "Epoch 142/200\n",
      "8/8 [==============================] - 0s 12ms/step - loss: 0.1122 - val_loss: 0.1712\n",
      "Epoch 143/200\n",
      "8/8 [==============================] - 0s 15ms/step - loss: 0.1121 - val_loss: 0.1669\n",
      "Epoch 144/200\n",
      "8/8 [==============================] - 0s 26ms/step - loss: 0.1138 - val_loss: 0.1795\n",
      "Epoch 145/200\n",
      "8/8 [==============================] - 0s 21ms/step - loss: 0.1221 - val_loss: 0.1779\n",
      "Epoch 146/200\n",
      "8/8 [==============================] - 0s 20ms/step - loss: 0.1174 - val_loss: 0.1748\n",
      "Epoch 147/200\n",
      "8/8 [==============================] - 0s 24ms/step - loss: 0.1160 - val_loss: 0.1748\n",
      "Epoch 148/200\n",
      "8/8 [==============================] - 0s 23ms/step - loss: 0.1140 - val_loss: 0.1737\n",
      "Epoch 149/200\n",
      "8/8 [==============================] - 0s 22ms/step - loss: 0.1148 - val_loss: 0.1650\n",
      "Epoch 150/200\n",
      "8/8 [==============================] - 0s 23ms/step - loss: 0.1168 - val_loss: 0.1682\n",
      "Epoch 151/200\n",
      "8/8 [==============================] - 0s 20ms/step - loss: 0.1237 - val_loss: 0.1705\n",
      "Epoch 152/200\n",
      "8/8 [==============================] - 0s 15ms/step - loss: 0.1179 - val_loss: 0.1636\n",
      "Epoch 153/200\n",
      "8/8 [==============================] - 0s 12ms/step - loss: 0.1190 - val_loss: 0.1809\n",
      "Epoch 154/200\n",
      "8/8 [==============================] - 0s 12ms/step - loss: 0.1180 - val_loss: 0.1671\n",
      "Epoch 155/200\n",
      "8/8 [==============================] - 0s 12ms/step - loss: 0.1139 - val_loss: 0.1644\n",
      "Epoch 156/200\n",
      "8/8 [==============================] - 0s 10ms/step - loss: 0.1102 - val_loss: 0.1682\n",
      "Epoch 157/200\n",
      "8/8 [==============================] - 0s 12ms/step - loss: 0.1107 - val_loss: 0.1639\n",
      "Epoch 158/200\n",
      "8/8 [==============================] - 0s 16ms/step - loss: 0.1105 - val_loss: 0.1690\n",
      "Epoch 159/200\n",
      "8/8 [==============================] - 0s 16ms/step - loss: 0.1099 - val_loss: 0.1683\n",
      "Epoch 160/200\n",
      "8/8 [==============================] - 0s 11ms/step - loss: 0.1105 - val_loss: 0.1699\n",
      "Epoch 161/200\n",
      "8/8 [==============================] - 0s 12ms/step - loss: 0.1108 - val_loss: 0.1667\n",
      "Epoch 162/200\n",
      "8/8 [==============================] - 0s 10ms/step - loss: 0.1183 - val_loss: 0.1678\n",
      "Epoch 163/200\n",
      "8/8 [==============================] - 0s 12ms/step - loss: 0.1145 - val_loss: 0.1663\n",
      "Epoch 164/200\n",
      "8/8 [==============================] - 0s 11ms/step - loss: 0.1114 - val_loss: 0.1705\n",
      "Epoch 165/200\n",
      "8/8 [==============================] - 0s 9ms/step - loss: 0.1085 - val_loss: 0.1674\n",
      "Epoch 166/200\n"
     ]
    },
    {
     "name": "stdout",
     "output_type": "stream",
     "text": [
      "8/8 [==============================] - 0s 12ms/step - loss: 0.1134 - val_loss: 0.1743\n",
      "Epoch 167/200\n",
      "8/8 [==============================] - 0s 11ms/step - loss: 0.1142 - val_loss: 0.1653\n",
      "Epoch 168/200\n",
      "8/8 [==============================] - 0s 11ms/step - loss: 0.1102 - val_loss: 0.1707\n",
      "Epoch 169/200\n",
      "8/8 [==============================] - 0s 12ms/step - loss: 0.1104 - val_loss: 0.1698\n",
      "Epoch 170/200\n",
      "8/8 [==============================] - 0s 13ms/step - loss: 0.1125 - val_loss: 0.1699\n",
      "Epoch 171/200\n",
      "8/8 [==============================] - 0s 9ms/step - loss: 0.1194 - val_loss: 0.1731\n",
      "Epoch 172/200\n",
      "8/8 [==============================] - 0s 12ms/step - loss: 0.1166 - val_loss: 0.1732\n",
      "Epoch 173/200\n",
      "8/8 [==============================] - 0s 12ms/step - loss: 0.1132 - val_loss: 0.1681\n",
      "Epoch 174/200\n",
      "8/8 [==============================] - 0s 13ms/step - loss: 0.1118 - val_loss: 0.1691\n",
      "Epoch 175/200\n",
      "8/8 [==============================] - 0s 14ms/step - loss: 0.1090 - val_loss: 0.1673\n",
      "Epoch 176/200\n",
      "8/8 [==============================] - 0s 15ms/step - loss: 0.1093 - val_loss: 0.1704\n",
      "Epoch 177/200\n",
      "8/8 [==============================] - 0s 12ms/step - loss: 0.1098 - val_loss: 0.1713\n",
      "Epoch 178/200\n",
      "8/8 [==============================] - 0s 10ms/step - loss: 0.1087 - val_loss: 0.1697\n",
      "Epoch 179/200\n",
      "8/8 [==============================] - 0s 27ms/step - loss: 0.1154 - val_loss: 0.1743\n",
      "Epoch 180/200\n",
      "8/8 [==============================] - 0s 11ms/step - loss: 0.1126 - val_loss: 0.1666\n",
      "Epoch 181/200\n",
      "8/8 [==============================] - 0s 11ms/step - loss: 0.1110 - val_loss: 0.1684\n",
      "Epoch 182/200\n",
      "8/8 [==============================] - 0s 10ms/step - loss: 0.1222 - val_loss: 0.1853\n",
      "Epoch 183/200\n",
      "8/8 [==============================] - 0s 13ms/step - loss: 0.1126 - val_loss: 0.1703\n",
      "Epoch 184/200\n",
      "8/8 [==============================] - 0s 17ms/step - loss: 0.1140 - val_loss: 0.1706\n",
      "Epoch 185/200\n",
      "8/8 [==============================] - 0s 12ms/step - loss: 0.1088 - val_loss: 0.1660\n",
      "Epoch 186/200\n",
      "8/8 [==============================] - 0s 23ms/step - loss: 0.1074 - val_loss: 0.1640\n",
      "Epoch 187/200\n",
      "8/8 [==============================] - 0s 13ms/step - loss: 0.1074 - val_loss: 0.1746\n",
      "Epoch 188/200\n",
      "8/8 [==============================] - 0s 9ms/step - loss: 0.1110 - val_loss: 0.1662\n",
      "Epoch 189/200\n",
      "8/8 [==============================] - 0s 15ms/step - loss: 0.1094 - val_loss: 0.1715\n",
      "Epoch 190/200\n",
      "8/8 [==============================] - 0s 12ms/step - loss: 0.1138 - val_loss: 0.1675\n",
      "Epoch 191/200\n",
      "8/8 [==============================] - 0s 14ms/step - loss: 0.1076 - val_loss: 0.1647\n",
      "Epoch 192/200\n",
      "8/8 [==============================] - 0s 26ms/step - loss: 0.1086 - val_loss: 0.1659\n",
      "Epoch 193/200\n",
      "8/8 [==============================] - 0s 10ms/step - loss: 0.1075 - val_loss: 0.1694\n",
      "Epoch 194/200\n",
      "8/8 [==============================] - 0s 14ms/step - loss: 0.1064 - val_loss: 0.1669\n",
      "Epoch 195/200\n",
      "8/8 [==============================] - 0s 18ms/step - loss: 0.1093 - val_loss: 0.1735\n",
      "Epoch 196/200\n",
      "8/8 [==============================] - 0s 15ms/step - loss: 0.1067 - val_loss: 0.1681\n",
      "Epoch 197/200\n",
      "8/8 [==============================] - 0s 12ms/step - loss: 0.1082 - val_loss: 0.1701\n",
      "Epoch 198/200\n",
      "8/8 [==============================] - 0s 12ms/step - loss: 0.1062 - val_loss: 0.1656\n",
      "Epoch 199/200\n",
      "8/8 [==============================] - 0s 11ms/step - loss: 0.1076 - val_loss: 0.1726\n",
      "Epoch 200/200\n",
      "8/8 [==============================] - 0s 11ms/step - loss: 0.1068 - val_loss: 0.1696\n"
     ]
    }
   ],
   "source": [
    "history = model.fit(X_train,Y_train,validation_data=(X_test,Y_test),epochs=200,batch_size=32,verbose=1)"
   ]
  },
  {
   "cell_type": "code",
   "execution_count": 20,
   "metadata": {},
   "outputs": [
    {
     "data": {
      "image/png": "[encoded data removed]",
      "text/plain": [
       "<Figure size 640x480 with 1 Axes>"
      ]
     },
     "metadata": {},
     "output_type": "display_data"
    },
    {
     "data": {
      "text/plain": [
       "<Figure size 640x480 with 0 Axes>"
      ]
     },
     "metadata": {},
     "output_type": "display_data"
    }
   ],
   "source": [
    "import matplotlib.pyplot as plt\n",
    "loss = history.history['loss']\n",
    "val_loss = history.history['val_loss']\n",
    "\n",
    "epochs = range(len(loss))\n",
    "\n",
    "plt.plot(epochs, loss, 'r', label='Training loss')\n",
    "plt.plot(epochs, val_loss, 'b', label='Validation loss')\n",
    "plt.title('Training and validation loss')\n",
    "plt.legend(loc=0)\n",
    "plt.figure()\n",
    "\n",
    "\n",
    "plt.show()"
   ]
  },
  {
   "cell_type": "code",
   "execution_count": 21,
   "metadata": {},
   "outputs": [
    {
     "name": "stdout",
     "output_type": "stream",
     "text": [
      "8/8 [==============================] - 0s 4ms/step\n",
      "2/2 [==============================] - 0s 4ms/step\n"
     ]
    },
    {
     "data": {
      "text/plain": [
       "((242, 1), (61, 1))"
      ]
     },
     "execution_count": 21,
     "metadata": {},
     "output_type": "execute_result"
    }
   ],
   "source": [
    "### Lets Do the prediction and check performance metrics\n",
    "train_predict=model.predict(X_train)\n",
    "test_predict=model.predict(X_test)\n",
    "train_predict.shape, test_predict.shape"
   ]
  },
  {
   "cell_type": "markdown",
   "metadata": {},
   "source": [
    "# Boosting model"
   ]
  },
  {
   "cell_type": "code",
   "execution_count": 23,
   "metadata": {},
   "outputs": [],
   "source": [
    "#AdaBoost\n",
    "from sklearn.ensemble import AdaBoostClassifier\n",
    "clf = AdaBoostClassifier(n_estimators=100, random_state=0)"
   ]
  },
  {
   "cell_type": "code",
   "execution_count": 24,
   "metadata": {},
   "outputs": [
    {
     "data": {
      "text/plain": [
       "AdaBoostClassifier(n_estimators=100, random_state=0)"
      ]
     },
     "execution_count": 24,
     "metadata": {},
     "output_type": "execute_result"
    }
   ],
   "source": [
    "clf.fit(X_train, Y_train.values.ravel()) "
   ]
  },
  {
   "cell_type": "code",
   "execution_count": 25,
   "metadata": {},
   "outputs": [
    {
     "name": "stdout",
     "output_type": "stream",
     "text": [
      "TRAIN SET 0.9545454545454546\n",
      "TEST  SET 0.7540983606557377\n"
     ]
    }
   ],
   "source": [
    "print(\"TRAIN SET\", clf.score(X_train, Y_train))\n",
    "print(\"TEST  SET\", clf.score(X_test, Y_test))"
   ]
  },
  {
   "cell_type": "code",
   "execution_count": 39,
   "metadata": {},
   "outputs": [
    {
     "data": {
      "text/plain": [
       "array([0.84210526, 0.85526316, 0.69736842, 0.72      ])"
      ]
     },
     "execution_count": 39,
     "metadata": {},
     "output_type": "execute_result"
    }
   ],
   "source": [
    "from sklearn.model_selection import cross_val_score\n",
    "scores = cross_val_score(clf, X, Y.values.ravel(), cv=4)\n",
    "scores"
   ]
  },
  {
   "cell_type": "code",
   "execution_count": 40,
   "metadata": {},
   "outputs": [
    {
     "name": "stdout",
     "output_type": "stream",
     "text": [
      "Average: 0.78 (+/- 0.14)\n"
     ]
    }
   ],
   "source": [
    "print(\"Average: %0.2f (+/- %0.2f)\" % (scores.mean(), scores.std() * 2))"
   ]
  },
  {
   "cell_type": "code",
   "execution_count": 27,
   "metadata": {},
   "outputs": [],
   "source": [
    "import matplotlib.pyplot as plt\n",
    "import numpy as np\n",
    "from sklearn.metrics import roc_curve, auc"
   ]
  },
  {
   "cell_type": "code",
   "execution_count": 28,
   "metadata": {},
   "outputs": [],
   "source": [
    "def plot_confusion_matrix(cm, title='Confusion matrix', cmap=plt.cm.Blues):\n",
    "    target_names=['attack','not attack']\n",
    "    plt.imshow(cm, interpolation='nearest', cmap=cmap)\n",
    "    plt.title(title)\n",
    "    plt.colorbar()\n",
    "    tick_marks = np.arange(len(target_names))\n",
    "    plt.xticks(tick_marks, target_names, rotation=45)\n",
    "    plt.yticks(tick_marks, target_names)\n",
    "    plt.tight_layout()\n",
    "    plt.ylabel('True label')\n",
    "    plt.xlabel('Predicted label')"
   ]
  },
  {
   "cell_type": "code",
   "execution_count": 29,
   "metadata": {},
   "outputs": [
    {
     "name": "stdout",
     "output_type": "stream",
     "text": [
      "[[23  5]\n",
      " [10 23]]\n"
     ]
    },
    {
     "data": {
      "image/png": "[encoded data removed]",
      "text/plain": [
       "<Figure size 640x480 with 2 Axes>"
      ]
     },
     "metadata": {},
     "output_type": "display_data"
    }
   ],
   "source": [
    "from sklearn.metrics import confusion_matrix, accuracy_score, classification_report\n",
    "cm = confusion_matrix(Y_test, clf.predict(X_test))\n",
    "print(cm)\n",
    "plot_confusion_matrix(cm)"
   ]
  },
  {
   "cell_type": "code",
   "execution_count": 30,
   "metadata": {},
   "outputs": [
    {
     "name": "stdout",
     "output_type": "stream",
     "text": [
      "              precision    recall  f1-score   support\n",
      "\n",
      "           0       0.70      0.82      0.75        28\n",
      "           1       0.82      0.70      0.75        33\n",
      "\n",
      "    accuracy                           0.75        61\n",
      "   macro avg       0.76      0.76      0.75        61\n",
      "weighted avg       0.76      0.75      0.75        61\n",
      "\n"
     ]
    }
   ],
   "source": [
    "print(classification_report(Y_test, clf.predict(X_test)))"
   ]
  },
  {
   "cell_type": "markdown",
   "metadata": {
    "id": "jIruVh3Qwq0e"
   },
   "source": [
    "Building a Predictive System"
   ]
  },
  {
   "cell_type": "code",
   "execution_count": 31,
   "metadata": {
    "colab": {
     "base_uri": "https://localhost:8080/"
    },
    "executionInfo": {
     "elapsed": 12,
     "status": "ok",
     "timestamp": 1653200234909,
     "user": {
      "displayName": "siddhardh selvam",
      "userId": "13966379820454708749"
     },
     "user_tz": -330
    },
    "id": "9ercruC9wb4C",
    "outputId": "e4cddd3b-acdb-482c-a25f-b720f02111c9"
   },
   "outputs": [
    {
     "name": "stdout",
     "output_type": "stream",
     "text": [
      "1/1 [==============================] - 0s 218ms/step\n",
      "[[0.1460207]]\n",
      "The Person has Heart Disease\n"
     ]
    }
   ],
   "source": [
    "input_data = (62,0,0,140,268,0,0,160,0,3.6,0,2,2)\n",
    "\n",
    "# change the input data to a numpy array\n",
    "input_data_as_numpy_array= np.asarray(input_data)\n",
    "\n",
    "# reshape the numpy array as we are predicting for only on instance\n",
    "input_data_reshaped = input_data_as_numpy_array.reshape(1,-1)\n",
    "\n",
    "prediction = model.predict(input_data_reshaped)\n",
    "print(prediction)\n",
    "\n",
    "if (prediction[0]== 0):\n",
    "  print('The Person does not have a Heart Disease')\n",
    "else:\n",
    "  print('The Person has Heart Disease')"
   ]
  },
  {
   "cell_type": "markdown",
   "metadata": {
    "id": "FCHCMHpshHU4"
   },
   "source": [
    "Saving the trained model"
   ]
  },
  {
   "cell_type": "code",
   "execution_count": 32,
   "metadata": {
    "executionInfo": {
     "elapsed": 11,
     "status": "ok",
     "timestamp": 1653200234910,
     "user": {
      "displayName": "siddhardh selvam",
      "userId": "13966379820454708749"
     },
     "user_tz": -330
    },
    "id": "cdmTOR4MhHCB"
   },
   "outputs": [],
   "source": [
    "import pickle"
   ]
  },
  {
   "cell_type": "code",
   "execution_count": 33,
   "metadata": {
    "executionInfo": {
     "elapsed": 10,
     "status": "ok",
     "timestamp": 1653200234910,
     "user": {
      "displayName": "siddhardh selvam",
      "userId": "13966379820454708749"
     },
     "user_tz": -330
    },
    "id": "4gN09lokhKuZ"
   },
   "outputs": [
    {
     "name": "stdout",
     "output_type": "stream",
     "text": [
      "Keras weights file (<HDF5 file \"variables.h5\" (mode r+)>) saving:\n",
      "...layers\\dense\n",
      "......vars\n",
      ".........0\n",
      ".........1\n",
      "...layers\\lstm\n",
      "......vars\n",
      "...layers\\lstm\\cell\n",
      "......vars\n",
      ".........0\n",
      ".........1\n",
      ".........2\n",
      "...metrics\\mean\n",
      "......vars\n",
      ".........0\n",
      ".........1\n",
      "...optimizer\n",
      "......vars\n",
      ".........0\n",
      ".........1\n",
      ".........10\n",
      ".........2\n",
      ".........3\n",
      ".........4\n",
      ".........5\n",
      ".........6\n",
      ".........7\n",
      ".........8\n",
      ".........9\n",
      "...vars\n",
      "Keras model archive saving:\n",
      "File Name                                             Modified             Size\n",
      "config.json                                    2023-03-20 12:49:35         1809\n",
      "metadata.json                                  2023-03-20 12:49:35           64\n",
      "variables.h5                                   2023-03-20 12:49:35        23648\n"
     ]
    }
   ],
   "source": [
    "filename = 'heart_disease_model.sav'\n",
    "pickle.dump(model, open(filename, 'wb'))"
   ]
  },
  {
   "cell_type": "code",
   "execution_count": 34,
   "metadata": {
    "executionInfo": {
     "elapsed": 11,
     "status": "ok",
     "timestamp": 1653200234911,
     "user": {
      "displayName": "siddhardh selvam",
      "userId": "13966379820454708749"
     },
     "user_tz": -330
    },
    "id": "IKW4D5CqhP5X"
   },
   "outputs": [
    {
     "name": "stdout",
     "output_type": "stream",
     "text": [
      "Keras model archive loading:\n",
      "File Name                                             Modified             Size\n",
      "config.json                                    2023-03-20 12:49:34         1809\n",
      "metadata.json                                  2023-03-20 12:49:34           64\n",
      "variables.h5                                   2023-03-20 12:49:34        23648\n",
      "Keras weights file (<HDF5 file \"variables.h5\" (mode r)>) loading:\n",
      "...layers\\dense\n",
      "......vars\n",
      ".........0\n",
      ".........1\n",
      "...layers\\lstm\n",
      "......vars\n",
      "...layers\\lstm\\cell\n",
      "......vars\n",
      ".........0\n",
      ".........1\n",
      ".........2\n",
      "...metrics\\mean\n",
      "......vars\n",
      ".........0\n",
      ".........1\n",
      "...optimizer\n",
      "......vars\n",
      ".........0\n",
      ".........1\n",
      ".........10\n",
      ".........2\n",
      ".........3\n",
      ".........4\n",
      ".........5\n",
      ".........6\n",
      ".........7\n",
      ".........8\n",
      ".........9\n",
      "...vars\n"
     ]
    }
   ],
   "source": [
    "# loading the saved model\n",
    "loaded_model = pickle.load(open('heart_disease_model.sav', 'rb'))"
   ]
  },
  {
   "cell_type": "code",
   "execution_count": 35,
   "metadata": {
    "colab": {
     "base_uri": "https://localhost:8080/"
    },
    "executionInfo": {
     "elapsed": 11,
     "status": "ok",
     "timestamp": 1653200234911,
     "user": {
      "displayName": "siddhardh selvam",
      "userId": "13966379820454708749"
     },
     "user_tz": -330
    },
    "id": "1SiD-oDpPSxY",
    "outputId": "13c5618c-e337-4637-a35a-452e607e5ef4"
   },
   "outputs": [
    {
     "name": "stdout",
     "output_type": "stream",
     "text": [
      "age\n",
      "sex\n",
      "cp\n",
      "trestbps\n",
      "chol\n",
      "fbs\n",
      "restecg\n",
      "thalach\n",
      "exang\n",
      "oldpeak\n",
      "slope\n",
      "ca\n",
      "thal\n"
     ]
    }
   ],
   "source": [
    "for column in X.columns:\n",
    "  print(column)"
   ]
  },
  {
   "cell_type": "code",
   "execution_count": null,
   "metadata": {
    "executionInfo": {
     "elapsed": 8,
     "status": "ok",
     "timestamp": 1653200234911,
     "user": {
      "displayName": "siddhardh selvam",
      "userId": "13966379820454708749"
     },
     "user_tz": -330
    },
    "id": "A23YZI2tPaFk"
   },
   "outputs": [],
   "source": []
  },
  {
   "cell_type": "code",
   "execution_count": null,
   "metadata": {},
   "outputs": [],
   "source": []
  }
 ],
 "metadata": {
  "colab": {
   "authorship_tag": "ABX9TyNkEJ4hIKtyX260ZMlxNVm4",
   "name": "Multiple disease prediction system - heart.ipynb",
   "provenance": []
  },
  "kernelspec": {
   "display_name": "Python 3 (ipykernel)",
   "language": "python",
   "name": "python3"
  },
  "language_info": {
   "codemirror_mode": {
    "name": "ipython",
    "version": 3
   },
   "file_extension": ".py",
   "mimetype": "text/x-python",
   "name": "python",
   "nbconvert_exporter": "python",
   "pygments_lexer": "ipython3",
   "version": "3.9.13"
  }
 },
 "nbformat": 4,
 "nbformat_minor": 1
}
