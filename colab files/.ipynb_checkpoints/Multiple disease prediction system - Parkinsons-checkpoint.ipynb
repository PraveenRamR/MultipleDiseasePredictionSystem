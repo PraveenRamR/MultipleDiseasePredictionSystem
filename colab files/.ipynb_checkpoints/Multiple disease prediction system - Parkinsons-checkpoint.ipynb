{
 "cells": [
  {
   "cell_type": "markdown",
   "metadata": {
    "id": "9B5Zl1UOBMAJ"
   },
   "source": [
    "Importing the Dependencies"
   ]
  },
  {
   "cell_type": "code",
   "execution_count": 2,
   "metadata": {
    "executionInfo": {
     "elapsed": 2162,
     "status": "ok",
     "timestamp": 1653200307851,
     "user": {
      "displayName": "siddhardh selvam",
      "userId": "13966379820454708749"
     },
     "user_tz": -330
    },
    "id": "YOCpZ1Vm6cfW"
   },
   "outputs": [],
   "source": [
    "import numpy as np\n",
    "import pandas as pd\n",
    "from sklearn.model_selection import train_test_split\n",
    "from sklearn import svm\n",
    "from sklearn.metrics import accuracy_score"
   ]
  },
  {
   "cell_type": "markdown",
   "metadata": {
    "id": "PZm-USrtB_q4"
   },
   "source": [
    "Data Collection & Analysis"
   ]
  },
  {
   "cell_type": "code",
   "execution_count": 4,
   "metadata": {
    "executionInfo": {
     "elapsed": 23,
     "status": "ok",
     "timestamp": 1653200307854,
     "user": {
      "displayName": "siddhardh selvam",
      "userId": "13966379820454708749"
     },
     "user_tz": -330
    },
    "id": "5YC2lGuVBiZA"
   },
   "outputs": [],
   "source": [
    "# loading the data from csv file to a Pandas DataFrame\n",
    "parkinsons_data = pd.read_csv(r'C:\\Users\\Dell\\Documents\\srm code\\health education based infection disease\\dataset\\parkinsons.csv')"
   ]
  },
  {
   "cell_type": "code",
   "execution_count": 5,
   "metadata": {
    "colab": {
     "base_uri": "https://localhost:8080/",
     "height": 299
    },
    "executionInfo": {
     "elapsed": 23,
     "status": "ok",
     "timestamp": 1653200307855,
     "user": {
      "displayName": "siddhardh selvam",
      "userId": "13966379820454708749"
     },
     "user_tz": -330
    },
    "id": "Iw8z6w60Djd2",
    "outputId": "ca177b83-79f9-46c5-89c0-42985b1923ba"
   },
   "outputs": [
    {
     "data": {
      "text/html": [
       "<div>\n",
       "<style scoped>\n",
       "    .dataframe tbody tr th:only-of-type {\n",
       "        vertical-align: middle;\n",
       "    }\n",
       "\n",
       "    .dataframe tbody tr th {\n",
       "        vertical-align: top;\n",
       "    }\n",
       "\n",
       "    .dataframe thead th {\n",
       "        text-align: right;\n",
       "    }\n",
       "</style>\n",
       "<table border=\"1\" class=\"dataframe\">\n",
       "  <thead>\n",
       "    <tr style=\"text-align: right;\">\n",
       "      <th></th>\n",
       "      <th>name</th>\n",
       "      <th>MDVP:Fo(Hz)</th>\n",
       "      <th>MDVP:Fhi(Hz)</th>\n",
       "      <th>MDVP:Flo(Hz)</th>\n",
       "      <th>MDVP:Jitter(%)</th>\n",
       "      <th>MDVP:Jitter(Abs)</th>\n",
       "      <th>MDVP:RAP</th>\n",
       "      <th>MDVP:PPQ</th>\n",
       "      <th>Jitter:DDP</th>\n",
       "      <th>MDVP:Shimmer</th>\n",
       "      <th>...</th>\n",
       "      <th>Shimmer:DDA</th>\n",
       "      <th>NHR</th>\n",
       "      <th>HNR</th>\n",
       "      <th>status</th>\n",
       "      <th>RPDE</th>\n",
       "      <th>DFA</th>\n",
       "      <th>spread1</th>\n",
       "      <th>spread2</th>\n",
       "      <th>D2</th>\n",
       "      <th>PPE</th>\n",
       "    </tr>\n",
       "  </thead>\n",
       "  <tbody>\n",
       "    <tr>\n",
       "      <th>0</th>\n",
       "      <td>phon_R01_S01_1</td>\n",
       "      <td>119.992</td>\n",
       "      <td>157.302</td>\n",
       "      <td>74.997</td>\n",
       "      <td>0.00784</td>\n",
       "      <td>0.00007</td>\n",
       "      <td>0.00370</td>\n",
       "      <td>0.00554</td>\n",
       "      <td>0.01109</td>\n",
       "      <td>0.04374</td>\n",
       "      <td>...</td>\n",
       "      <td>0.06545</td>\n",
       "      <td>0.02211</td>\n",
       "      <td>21.033</td>\n",
       "      <td>1</td>\n",
       "      <td>0.414783</td>\n",
       "      <td>0.815285</td>\n",
       "      <td>-4.813031</td>\n",
       "      <td>0.266482</td>\n",
       "      <td>2.301442</td>\n",
       "      <td>0.284654</td>\n",
       "    </tr>\n",
       "    <tr>\n",
       "      <th>1</th>\n",
       "      <td>phon_R01_S01_2</td>\n",
       "      <td>122.400</td>\n",
       "      <td>148.650</td>\n",
       "      <td>113.819</td>\n",
       "      <td>0.00968</td>\n",
       "      <td>0.00008</td>\n",
       "      <td>0.00465</td>\n",
       "      <td>0.00696</td>\n",
       "      <td>0.01394</td>\n",
       "      <td>0.06134</td>\n",
       "      <td>...</td>\n",
       "      <td>0.09403</td>\n",
       "      <td>0.01929</td>\n",
       "      <td>19.085</td>\n",
       "      <td>1</td>\n",
       "      <td>0.458359</td>\n",
       "      <td>0.819521</td>\n",
       "      <td>-4.075192</td>\n",
       "      <td>0.335590</td>\n",
       "      <td>2.486855</td>\n",
       "      <td>0.368674</td>\n",
       "    </tr>\n",
       "    <tr>\n",
       "      <th>2</th>\n",
       "      <td>phon_R01_S01_3</td>\n",
       "      <td>116.682</td>\n",
       "      <td>131.111</td>\n",
       "      <td>111.555</td>\n",
       "      <td>0.01050</td>\n",
       "      <td>0.00009</td>\n",
       "      <td>0.00544</td>\n",
       "      <td>0.00781</td>\n",
       "      <td>0.01633</td>\n",
       "      <td>0.05233</td>\n",
       "      <td>...</td>\n",
       "      <td>0.08270</td>\n",
       "      <td>0.01309</td>\n",
       "      <td>20.651</td>\n",
       "      <td>1</td>\n",
       "      <td>0.429895</td>\n",
       "      <td>0.825288</td>\n",
       "      <td>-4.443179</td>\n",
       "      <td>0.311173</td>\n",
       "      <td>2.342259</td>\n",
       "      <td>0.332634</td>\n",
       "    </tr>\n",
       "    <tr>\n",
       "      <th>3</th>\n",
       "      <td>phon_R01_S01_4</td>\n",
       "      <td>116.676</td>\n",
       "      <td>137.871</td>\n",
       "      <td>111.366</td>\n",
       "      <td>0.00997</td>\n",
       "      <td>0.00009</td>\n",
       "      <td>0.00502</td>\n",
       "      <td>0.00698</td>\n",
       "      <td>0.01505</td>\n",
       "      <td>0.05492</td>\n",
       "      <td>...</td>\n",
       "      <td>0.08771</td>\n",
       "      <td>0.01353</td>\n",
       "      <td>20.644</td>\n",
       "      <td>1</td>\n",
       "      <td>0.434969</td>\n",
       "      <td>0.819235</td>\n",
       "      <td>-4.117501</td>\n",
       "      <td>0.334147</td>\n",
       "      <td>2.405554</td>\n",
       "      <td>0.368975</td>\n",
       "    </tr>\n",
       "    <tr>\n",
       "      <th>4</th>\n",
       "      <td>phon_R01_S01_5</td>\n",
       "      <td>116.014</td>\n",
       "      <td>141.781</td>\n",
       "      <td>110.655</td>\n",
       "      <td>0.01284</td>\n",
       "      <td>0.00011</td>\n",
       "      <td>0.00655</td>\n",
       "      <td>0.00908</td>\n",
       "      <td>0.01966</td>\n",
       "      <td>0.06425</td>\n",
       "      <td>...</td>\n",
       "      <td>0.10470</td>\n",
       "      <td>0.01767</td>\n",
       "      <td>19.649</td>\n",
       "      <td>1</td>\n",
       "      <td>0.417356</td>\n",
       "      <td>0.823484</td>\n",
       "      <td>-3.747787</td>\n",
       "      <td>0.234513</td>\n",
       "      <td>2.332180</td>\n",
       "      <td>0.410335</td>\n",
       "    </tr>\n",
       "  </tbody>\n",
       "</table>\n",
       "<p>5 rows × 24 columns</p>\n",
       "</div>"
      ],
      "text/plain": [
       "             name  MDVP:Fo(Hz)  MDVP:Fhi(Hz)  MDVP:Flo(Hz)  MDVP:Jitter(%)  \\\n",
       "0  phon_R01_S01_1      119.992       157.302        74.997         0.00784   \n",
       "1  phon_R01_S01_2      122.400       148.650       113.819         0.00968   \n",
       "2  phon_R01_S01_3      116.682       131.111       111.555         0.01050   \n",
       "3  phon_R01_S01_4      116.676       137.871       111.366         0.00997   \n",
       "4  phon_R01_S01_5      116.014       141.781       110.655         0.01284   \n",
       "\n",
       "   MDVP:Jitter(Abs)  MDVP:RAP  MDVP:PPQ  Jitter:DDP  MDVP:Shimmer  ...  \\\n",
       "0           0.00007   0.00370   0.00554     0.01109       0.04374  ...   \n",
       "1           0.00008   0.00465   0.00696     0.01394       0.06134  ...   \n",
       "2           0.00009   0.00544   0.00781     0.01633       0.05233  ...   \n",
       "3           0.00009   0.00502   0.00698     0.01505       0.05492  ...   \n",
       "4           0.00011   0.00655   0.00908     0.01966       0.06425  ...   \n",
       "\n",
       "   Shimmer:DDA      NHR     HNR  status      RPDE       DFA   spread1  \\\n",
       "0      0.06545  0.02211  21.033       1  0.414783  0.815285 -4.813031   \n",
       "1      0.09403  0.01929  19.085       1  0.458359  0.819521 -4.075192   \n",
       "2      0.08270  0.01309  20.651       1  0.429895  0.825288 -4.443179   \n",
       "3      0.08771  0.01353  20.644       1  0.434969  0.819235 -4.117501   \n",
       "4      0.10470  0.01767  19.649       1  0.417356  0.823484 -3.747787   \n",
       "\n",
       "    spread2        D2       PPE  \n",
       "0  0.266482  2.301442  0.284654  \n",
       "1  0.335590  2.486855  0.368674  \n",
       "2  0.311173  2.342259  0.332634  \n",
       "3  0.334147  2.405554  0.368975  \n",
       "4  0.234513  2.332180  0.410335  \n",
       "\n",
       "[5 rows x 24 columns]"
      ]
     },
     "execution_count": 5,
     "metadata": {},
     "output_type": "execute_result"
    }
   ],
   "source": [
    "# printing the first 5 rows of the dataframe\n",
    "parkinsons_data.head()"
   ]
  },
  {
   "cell_type": "code",
   "execution_count": 6,
   "metadata": {
    "colab": {
     "base_uri": "https://localhost:8080/"
    },
    "executionInfo": {
     "elapsed": 19,
     "status": "ok",
     "timestamp": 1653200307855,
     "user": {
      "displayName": "siddhardh selvam",
      "userId": "13966379820454708749"
     },
     "user_tz": -330
    },
    "id": "cK7L_o2TDuZb",
    "outputId": "ff4ba57f-ef7c-42e3-e76d-c6cd69e8b250"
   },
   "outputs": [
    {
     "data": {
      "text/plain": [
       "(195, 24)"
      ]
     },
     "execution_count": 6,
     "metadata": {},
     "output_type": "execute_result"
    }
   ],
   "source": [
    "# number of rows and columns in the dataframe\n",
    "parkinsons_data.shape"
   ]
  },
  {
   "cell_type": "code",
   "execution_count": 7,
   "metadata": {
    "colab": {
     "base_uri": "https://localhost:8080/"
    },
    "executionInfo": {
     "elapsed": 17,
     "status": "ok",
     "timestamp": 1653200307856,
     "user": {
      "displayName": "siddhardh selvam",
      "userId": "13966379820454708749"
     },
     "user_tz": -330
    },
    "id": "NLmzHIgnEGi4",
    "outputId": "59986869-f8e1-47a7-cd80-aa699514e488"
   },
   "outputs": [
    {
     "name": "stdout",
     "output_type": "stream",
     "text": [
      "<class 'pandas.core.frame.DataFrame'>\n",
      "RangeIndex: 195 entries, 0 to 194\n",
      "Data columns (total 24 columns):\n",
      " #   Column            Non-Null Count  Dtype  \n",
      "---  ------            --------------  -----  \n",
      " 0   name              195 non-null    object \n",
      " 1   MDVP:Fo(Hz)       195 non-null    float64\n",
      " 2   MDVP:Fhi(Hz)      195 non-null    float64\n",
      " 3   MDVP:Flo(Hz)      195 non-null    float64\n",
      " 4   MDVP:Jitter(%)    195 non-null    float64\n",
      " 5   MDVP:Jitter(Abs)  195 non-null    float64\n",
      " 6   MDVP:RAP          195 non-null    float64\n",
      " 7   MDVP:PPQ          195 non-null    float64\n",
      " 8   Jitter:DDP        195 non-null    float64\n",
      " 9   MDVP:Shimmer      195 non-null    float64\n",
      " 10  MDVP:Shimmer(dB)  195 non-null    float64\n",
      " 11  Shimmer:APQ3      195 non-null    float64\n",
      " 12  Shimmer:APQ5      195 non-null    float64\n",
      " 13  MDVP:APQ          195 non-null    float64\n",
      " 14  Shimmer:DDA       195 non-null    float64\n",
      " 15  NHR               195 non-null    float64\n",
      " 16  HNR               195 non-null    float64\n",
      " 17  status            195 non-null    int64  \n",
      " 18  RPDE              195 non-null    float64\n",
      " 19  DFA               195 non-null    float64\n",
      " 20  spread1           195 non-null    float64\n",
      " 21  spread2           195 non-null    float64\n",
      " 22  D2                195 non-null    float64\n",
      " 23  PPE               195 non-null    float64\n",
      "dtypes: float64(22), int64(1), object(1)\n",
      "memory usage: 36.7+ KB\n"
     ]
    }
   ],
   "source": [
    "# getting more information about the dataset\n",
    "parkinsons_data.info()"
   ]
  },
  {
   "cell_type": "code",
   "execution_count": 8,
   "metadata": {
    "colab": {
     "base_uri": "https://localhost:8080/"
    },
    "executionInfo": {
     "elapsed": 15,
     "status": "ok",
     "timestamp": 1653200307857,
     "user": {
      "displayName": "siddhardh selvam",
      "userId": "13966379820454708749"
     },
     "user_tz": -330
    },
    "id": "70rgu_k4ET9F",
    "outputId": "9d86783c-8f01-468a-a9a0-04552ebc10c7"
   },
   "outputs": [
    {
     "data": {
      "text/plain": [
       "name                0\n",
       "MDVP:Fo(Hz)         0\n",
       "MDVP:Fhi(Hz)        0\n",
       "MDVP:Flo(Hz)        0\n",
       "MDVP:Jitter(%)      0\n",
       "MDVP:Jitter(Abs)    0\n",
       "MDVP:RAP            0\n",
       "MDVP:PPQ            0\n",
       "Jitter:DDP          0\n",
       "MDVP:Shimmer        0\n",
       "MDVP:Shimmer(dB)    0\n",
       "Shimmer:APQ3        0\n",
       "Shimmer:APQ5        0\n",
       "MDVP:APQ            0\n",
       "Shimmer:DDA         0\n",
       "NHR                 0\n",
       "HNR                 0\n",
       "status              0\n",
       "RPDE                0\n",
       "DFA                 0\n",
       "spread1             0\n",
       "spread2             0\n",
       "D2                  0\n",
       "PPE                 0\n",
       "dtype: int64"
      ]
     },
     "execution_count": 8,
     "metadata": {},
     "output_type": "execute_result"
    }
   ],
   "source": [
    "# checking for missing values in each column\n",
    "parkinsons_data.isnull().sum()"
   ]
  },
  {
   "cell_type": "code",
   "execution_count": 9,
   "metadata": {
    "colab": {
     "base_uri": "https://localhost:8080/",
     "height": 394
    },
    "executionInfo": {
     "elapsed": 853,
     "status": "ok",
     "timestamp": 1653200308700,
     "user": {
      "displayName": "siddhardh selvam",
      "userId": "13966379820454708749"
     },
     "user_tz": -330
    },
    "id": "1AxFu0-nEhSA",
    "outputId": "333d5e58-f085-43dc-ccb1-e7fc75084bcf"
   },
   "outputs": [
    {
     "data": {
      "text/html": [
       "<div>\n",
       "<style scoped>\n",
       "    .dataframe tbody tr th:only-of-type {\n",
       "        vertical-align: middle;\n",
       "    }\n",
       "\n",
       "    .dataframe tbody tr th {\n",
       "        vertical-align: top;\n",
       "    }\n",
       "\n",
       "    .dataframe thead th {\n",
       "        text-align: right;\n",
       "    }\n",
       "</style>\n",
       "<table border=\"1\" class=\"dataframe\">\n",
       "  <thead>\n",
       "    <tr style=\"text-align: right;\">\n",
       "      <th></th>\n",
       "      <th>MDVP:Fo(Hz)</th>\n",
       "      <th>MDVP:Fhi(Hz)</th>\n",
       "      <th>MDVP:Flo(Hz)</th>\n",
       "      <th>MDVP:Jitter(%)</th>\n",
       "      <th>MDVP:Jitter(Abs)</th>\n",
       "      <th>MDVP:RAP</th>\n",
       "      <th>MDVP:PPQ</th>\n",
       "      <th>Jitter:DDP</th>\n",
       "      <th>MDVP:Shimmer</th>\n",
       "      <th>MDVP:Shimmer(dB)</th>\n",
       "      <th>...</th>\n",
       "      <th>Shimmer:DDA</th>\n",
       "      <th>NHR</th>\n",
       "      <th>HNR</th>\n",
       "      <th>status</th>\n",
       "      <th>RPDE</th>\n",
       "      <th>DFA</th>\n",
       "      <th>spread1</th>\n",
       "      <th>spread2</th>\n",
       "      <th>D2</th>\n",
       "      <th>PPE</th>\n",
       "    </tr>\n",
       "  </thead>\n",
       "  <tbody>\n",
       "    <tr>\n",
       "      <th>count</th>\n",
       "      <td>195.000000</td>\n",
       "      <td>195.000000</td>\n",
       "      <td>195.000000</td>\n",
       "      <td>195.000000</td>\n",
       "      <td>195.000000</td>\n",
       "      <td>195.000000</td>\n",
       "      <td>195.000000</td>\n",
       "      <td>195.000000</td>\n",
       "      <td>195.000000</td>\n",
       "      <td>195.000000</td>\n",
       "      <td>...</td>\n",
       "      <td>195.000000</td>\n",
       "      <td>195.000000</td>\n",
       "      <td>195.000000</td>\n",
       "      <td>195.000000</td>\n",
       "      <td>195.000000</td>\n",
       "      <td>195.000000</td>\n",
       "      <td>195.000000</td>\n",
       "      <td>195.000000</td>\n",
       "      <td>195.000000</td>\n",
       "      <td>195.000000</td>\n",
       "    </tr>\n",
       "    <tr>\n",
       "      <th>mean</th>\n",
       "      <td>154.228641</td>\n",
       "      <td>197.104918</td>\n",
       "      <td>116.324631</td>\n",
       "      <td>0.006220</td>\n",
       "      <td>0.000044</td>\n",
       "      <td>0.003306</td>\n",
       "      <td>0.003446</td>\n",
       "      <td>0.009920</td>\n",
       "      <td>0.029709</td>\n",
       "      <td>0.282251</td>\n",
       "      <td>...</td>\n",
       "      <td>0.046993</td>\n",
       "      <td>0.024847</td>\n",
       "      <td>21.885974</td>\n",
       "      <td>0.753846</td>\n",
       "      <td>0.498536</td>\n",
       "      <td>0.718099</td>\n",
       "      <td>-5.684397</td>\n",
       "      <td>0.226510</td>\n",
       "      <td>2.381826</td>\n",
       "      <td>0.206552</td>\n",
       "    </tr>\n",
       "    <tr>\n",
       "      <th>std</th>\n",
       "      <td>41.390065</td>\n",
       "      <td>91.491548</td>\n",
       "      <td>43.521413</td>\n",
       "      <td>0.004848</td>\n",
       "      <td>0.000035</td>\n",
       "      <td>0.002968</td>\n",
       "      <td>0.002759</td>\n",
       "      <td>0.008903</td>\n",
       "      <td>0.018857</td>\n",
       "      <td>0.194877</td>\n",
       "      <td>...</td>\n",
       "      <td>0.030459</td>\n",
       "      <td>0.040418</td>\n",
       "      <td>4.425764</td>\n",
       "      <td>0.431878</td>\n",
       "      <td>0.103942</td>\n",
       "      <td>0.055336</td>\n",
       "      <td>1.090208</td>\n",
       "      <td>0.083406</td>\n",
       "      <td>0.382799</td>\n",
       "      <td>0.090119</td>\n",
       "    </tr>\n",
       "    <tr>\n",
       "      <th>min</th>\n",
       "      <td>88.333000</td>\n",
       "      <td>102.145000</td>\n",
       "      <td>65.476000</td>\n",
       "      <td>0.001680</td>\n",
       "      <td>0.000007</td>\n",
       "      <td>0.000680</td>\n",
       "      <td>0.000920</td>\n",
       "      <td>0.002040</td>\n",
       "      <td>0.009540</td>\n",
       "      <td>0.085000</td>\n",
       "      <td>...</td>\n",
       "      <td>0.013640</td>\n",
       "      <td>0.000650</td>\n",
       "      <td>8.441000</td>\n",
       "      <td>0.000000</td>\n",
       "      <td>0.256570</td>\n",
       "      <td>0.574282</td>\n",
       "      <td>-7.964984</td>\n",
       "      <td>0.006274</td>\n",
       "      <td>1.423287</td>\n",
       "      <td>0.044539</td>\n",
       "    </tr>\n",
       "    <tr>\n",
       "      <th>25%</th>\n",
       "      <td>117.572000</td>\n",
       "      <td>134.862500</td>\n",
       "      <td>84.291000</td>\n",
       "      <td>0.003460</td>\n",
       "      <td>0.000020</td>\n",
       "      <td>0.001660</td>\n",
       "      <td>0.001860</td>\n",
       "      <td>0.004985</td>\n",
       "      <td>0.016505</td>\n",
       "      <td>0.148500</td>\n",
       "      <td>...</td>\n",
       "      <td>0.024735</td>\n",
       "      <td>0.005925</td>\n",
       "      <td>19.198000</td>\n",
       "      <td>1.000000</td>\n",
       "      <td>0.421306</td>\n",
       "      <td>0.674758</td>\n",
       "      <td>-6.450096</td>\n",
       "      <td>0.174351</td>\n",
       "      <td>2.099125</td>\n",
       "      <td>0.137451</td>\n",
       "    </tr>\n",
       "    <tr>\n",
       "      <th>50%</th>\n",
       "      <td>148.790000</td>\n",
       "      <td>175.829000</td>\n",
       "      <td>104.315000</td>\n",
       "      <td>0.004940</td>\n",
       "      <td>0.000030</td>\n",
       "      <td>0.002500</td>\n",
       "      <td>0.002690</td>\n",
       "      <td>0.007490</td>\n",
       "      <td>0.022970</td>\n",
       "      <td>0.221000</td>\n",
       "      <td>...</td>\n",
       "      <td>0.038360</td>\n",
       "      <td>0.011660</td>\n",
       "      <td>22.085000</td>\n",
       "      <td>1.000000</td>\n",
       "      <td>0.495954</td>\n",
       "      <td>0.722254</td>\n",
       "      <td>-5.720868</td>\n",
       "      <td>0.218885</td>\n",
       "      <td>2.361532</td>\n",
       "      <td>0.194052</td>\n",
       "    </tr>\n",
       "    <tr>\n",
       "      <th>75%</th>\n",
       "      <td>182.769000</td>\n",
       "      <td>224.205500</td>\n",
       "      <td>140.018500</td>\n",
       "      <td>0.007365</td>\n",
       "      <td>0.000060</td>\n",
       "      <td>0.003835</td>\n",
       "      <td>0.003955</td>\n",
       "      <td>0.011505</td>\n",
       "      <td>0.037885</td>\n",
       "      <td>0.350000</td>\n",
       "      <td>...</td>\n",
       "      <td>0.060795</td>\n",
       "      <td>0.025640</td>\n",
       "      <td>25.075500</td>\n",
       "      <td>1.000000</td>\n",
       "      <td>0.587562</td>\n",
       "      <td>0.761881</td>\n",
       "      <td>-5.046192</td>\n",
       "      <td>0.279234</td>\n",
       "      <td>2.636456</td>\n",
       "      <td>0.252980</td>\n",
       "    </tr>\n",
       "    <tr>\n",
       "      <th>max</th>\n",
       "      <td>260.105000</td>\n",
       "      <td>592.030000</td>\n",
       "      <td>239.170000</td>\n",
       "      <td>0.033160</td>\n",
       "      <td>0.000260</td>\n",
       "      <td>0.021440</td>\n",
       "      <td>0.019580</td>\n",
       "      <td>0.064330</td>\n",
       "      <td>0.119080</td>\n",
       "      <td>1.302000</td>\n",
       "      <td>...</td>\n",
       "      <td>0.169420</td>\n",
       "      <td>0.314820</td>\n",
       "      <td>33.047000</td>\n",
       "      <td>1.000000</td>\n",
       "      <td>0.685151</td>\n",
       "      <td>0.825288</td>\n",
       "      <td>-2.434031</td>\n",
       "      <td>0.450493</td>\n",
       "      <td>3.671155</td>\n",
       "      <td>0.527367</td>\n",
       "    </tr>\n",
       "  </tbody>\n",
       "</table>\n",
       "<p>8 rows × 23 columns</p>\n",
       "</div>"
      ],
      "text/plain": [
       "       MDVP:Fo(Hz)  MDVP:Fhi(Hz)  MDVP:Flo(Hz)  MDVP:Jitter(%)  \\\n",
       "count   195.000000    195.000000    195.000000      195.000000   \n",
       "mean    154.228641    197.104918    116.324631        0.006220   \n",
       "std      41.390065     91.491548     43.521413        0.004848   \n",
       "min      88.333000    102.145000     65.476000        0.001680   \n",
       "25%     117.572000    134.862500     84.291000        0.003460   \n",
       "50%     148.790000    175.829000    104.315000        0.004940   \n",
       "75%     182.769000    224.205500    140.018500        0.007365   \n",
       "max     260.105000    592.030000    239.170000        0.033160   \n",
       "\n",
       "       MDVP:Jitter(Abs)    MDVP:RAP    MDVP:PPQ  Jitter:DDP  MDVP:Shimmer  \\\n",
       "count        195.000000  195.000000  195.000000  195.000000    195.000000   \n",
       "mean           0.000044    0.003306    0.003446    0.009920      0.029709   \n",
       "std            0.000035    0.002968    0.002759    0.008903      0.018857   \n",
       "min            0.000007    0.000680    0.000920    0.002040      0.009540   \n",
       "25%            0.000020    0.001660    0.001860    0.004985      0.016505   \n",
       "50%            0.000030    0.002500    0.002690    0.007490      0.022970   \n",
       "75%            0.000060    0.003835    0.003955    0.011505      0.037885   \n",
       "max            0.000260    0.021440    0.019580    0.064330      0.119080   \n",
       "\n",
       "       MDVP:Shimmer(dB)  ...  Shimmer:DDA         NHR         HNR      status  \\\n",
       "count        195.000000  ...   195.000000  195.000000  195.000000  195.000000   \n",
       "mean           0.282251  ...     0.046993    0.024847   21.885974    0.753846   \n",
       "std            0.194877  ...     0.030459    0.040418    4.425764    0.431878   \n",
       "min            0.085000  ...     0.013640    0.000650    8.441000    0.000000   \n",
       "25%            0.148500  ...     0.024735    0.005925   19.198000    1.000000   \n",
       "50%            0.221000  ...     0.038360    0.011660   22.085000    1.000000   \n",
       "75%            0.350000  ...     0.060795    0.025640   25.075500    1.000000   \n",
       "max            1.302000  ...     0.169420    0.314820   33.047000    1.000000   \n",
       "\n",
       "             RPDE         DFA     spread1     spread2          D2         PPE  \n",
       "count  195.000000  195.000000  195.000000  195.000000  195.000000  195.000000  \n",
       "mean     0.498536    0.718099   -5.684397    0.226510    2.381826    0.206552  \n",
       "std      0.103942    0.055336    1.090208    0.083406    0.382799    0.090119  \n",
       "min      0.256570    0.574282   -7.964984    0.006274    1.423287    0.044539  \n",
       "25%      0.421306    0.674758   -6.450096    0.174351    2.099125    0.137451  \n",
       "50%      0.495954    0.722254   -5.720868    0.218885    2.361532    0.194052  \n",
       "75%      0.587562    0.761881   -5.046192    0.279234    2.636456    0.252980  \n",
       "max      0.685151    0.825288   -2.434031    0.450493    3.671155    0.527367  \n",
       "\n",
       "[8 rows x 23 columns]"
      ]
     },
     "execution_count": 9,
     "metadata": {},
     "output_type": "execute_result"
    }
   ],
   "source": [
    "# getting some statistical measures about the data\n",
    "parkinsons_data.describe()"
   ]
  },
  {
   "cell_type": "code",
   "execution_count": 10,
   "metadata": {
    "colab": {
     "base_uri": "https://localhost:8080/"
    },
    "executionInfo": {
     "elapsed": 21,
     "status": "ok",
     "timestamp": 1653200308701,
     "user": {
      "displayName": "siddhardh selvam",
      "userId": "13966379820454708749"
     },
     "user_tz": -330
    },
    "id": "3O8AclzwExyH",
    "outputId": "6a330028-c2a3-431a-f1cb-b529137cdcc7"
   },
   "outputs": [
    {
     "data": {
      "text/plain": [
       "1    147\n",
       "0     48\n",
       "Name: status, dtype: int64"
      ]
     },
     "execution_count": 10,
     "metadata": {},
     "output_type": "execute_result"
    }
   ],
   "source": [
    "# distribution of target Variable\n",
    "parkinsons_data['status'].value_counts()"
   ]
  },
  {
   "cell_type": "markdown",
   "metadata": {
    "id": "L1srlxtEFYfN"
   },
   "source": [
    "1  --> Parkinson's Positive\n",
    "\n",
    "0 --> Healthy\n"
   ]
  },
  {
   "cell_type": "code",
   "execution_count": 11,
   "metadata": {
    "colab": {
     "base_uri": "https://localhost:8080/",
     "height": 237
    },
    "executionInfo": {
     "elapsed": 18,
     "status": "ok",
     "timestamp": 1653200308702,
     "user": {
      "displayName": "siddhardh selvam",
      "userId": "13966379820454708749"
     },
     "user_tz": -330
    },
    "id": "zUrPan7CFTMq",
    "outputId": "9addca6f-f25f-4cde-aa11-266fbece8b9f"
   },
   "outputs": [
    {
     "data": {
      "text/html": [
       "<div>\n",
       "<style scoped>\n",
       "    .dataframe tbody tr th:only-of-type {\n",
       "        vertical-align: middle;\n",
       "    }\n",
       "\n",
       "    .dataframe tbody tr th {\n",
       "        vertical-align: top;\n",
       "    }\n",
       "\n",
       "    .dataframe thead th {\n",
       "        text-align: right;\n",
       "    }\n",
       "</style>\n",
       "<table border=\"1\" class=\"dataframe\">\n",
       "  <thead>\n",
       "    <tr style=\"text-align: right;\">\n",
       "      <th></th>\n",
       "      <th>MDVP:Fo(Hz)</th>\n",
       "      <th>MDVP:Fhi(Hz)</th>\n",
       "      <th>MDVP:Flo(Hz)</th>\n",
       "      <th>MDVP:Jitter(%)</th>\n",
       "      <th>MDVP:Jitter(Abs)</th>\n",
       "      <th>MDVP:RAP</th>\n",
       "      <th>MDVP:PPQ</th>\n",
       "      <th>Jitter:DDP</th>\n",
       "      <th>MDVP:Shimmer</th>\n",
       "      <th>MDVP:Shimmer(dB)</th>\n",
       "      <th>...</th>\n",
       "      <th>MDVP:APQ</th>\n",
       "      <th>Shimmer:DDA</th>\n",
       "      <th>NHR</th>\n",
       "      <th>HNR</th>\n",
       "      <th>RPDE</th>\n",
       "      <th>DFA</th>\n",
       "      <th>spread1</th>\n",
       "      <th>spread2</th>\n",
       "      <th>D2</th>\n",
       "      <th>PPE</th>\n",
       "    </tr>\n",
       "    <tr>\n",
       "      <th>status</th>\n",
       "      <th></th>\n",
       "      <th></th>\n",
       "      <th></th>\n",
       "      <th></th>\n",
       "      <th></th>\n",
       "      <th></th>\n",
       "      <th></th>\n",
       "      <th></th>\n",
       "      <th></th>\n",
       "      <th></th>\n",
       "      <th></th>\n",
       "      <th></th>\n",
       "      <th></th>\n",
       "      <th></th>\n",
       "      <th></th>\n",
       "      <th></th>\n",
       "      <th></th>\n",
       "      <th></th>\n",
       "      <th></th>\n",
       "      <th></th>\n",
       "      <th></th>\n",
       "    </tr>\n",
       "  </thead>\n",
       "  <tbody>\n",
       "    <tr>\n",
       "      <th>0</th>\n",
       "      <td>181.937771</td>\n",
       "      <td>223.636750</td>\n",
       "      <td>145.207292</td>\n",
       "      <td>0.003866</td>\n",
       "      <td>0.000023</td>\n",
       "      <td>0.001925</td>\n",
       "      <td>0.002056</td>\n",
       "      <td>0.005776</td>\n",
       "      <td>0.017615</td>\n",
       "      <td>0.162958</td>\n",
       "      <td>...</td>\n",
       "      <td>0.013305</td>\n",
       "      <td>0.028511</td>\n",
       "      <td>0.011483</td>\n",
       "      <td>24.678750</td>\n",
       "      <td>0.442552</td>\n",
       "      <td>0.695716</td>\n",
       "      <td>-6.759264</td>\n",
       "      <td>0.160292</td>\n",
       "      <td>2.154491</td>\n",
       "      <td>0.123017</td>\n",
       "    </tr>\n",
       "    <tr>\n",
       "      <th>1</th>\n",
       "      <td>145.180762</td>\n",
       "      <td>188.441463</td>\n",
       "      <td>106.893558</td>\n",
       "      <td>0.006989</td>\n",
       "      <td>0.000051</td>\n",
       "      <td>0.003757</td>\n",
       "      <td>0.003900</td>\n",
       "      <td>0.011273</td>\n",
       "      <td>0.033658</td>\n",
       "      <td>0.321204</td>\n",
       "      <td>...</td>\n",
       "      <td>0.027600</td>\n",
       "      <td>0.053027</td>\n",
       "      <td>0.029211</td>\n",
       "      <td>20.974048</td>\n",
       "      <td>0.516816</td>\n",
       "      <td>0.725408</td>\n",
       "      <td>-5.333420</td>\n",
       "      <td>0.248133</td>\n",
       "      <td>2.456058</td>\n",
       "      <td>0.233828</td>\n",
       "    </tr>\n",
       "  </tbody>\n",
       "</table>\n",
       "<p>2 rows × 22 columns</p>\n",
       "</div>"
      ],
      "text/plain": [
       "        MDVP:Fo(Hz)  MDVP:Fhi(Hz)  MDVP:Flo(Hz)  MDVP:Jitter(%)  \\\n",
       "status                                                            \n",
       "0        181.937771    223.636750    145.207292        0.003866   \n",
       "1        145.180762    188.441463    106.893558        0.006989   \n",
       "\n",
       "        MDVP:Jitter(Abs)  MDVP:RAP  MDVP:PPQ  Jitter:DDP  MDVP:Shimmer  \\\n",
       "status                                                                   \n",
       "0               0.000023  0.001925  0.002056    0.005776      0.017615   \n",
       "1               0.000051  0.003757  0.003900    0.011273      0.033658   \n",
       "\n",
       "        MDVP:Shimmer(dB)  ...  MDVP:APQ  Shimmer:DDA       NHR        HNR  \\\n",
       "status                    ...                                               \n",
       "0               0.162958  ...  0.013305     0.028511  0.011483  24.678750   \n",
       "1               0.321204  ...  0.027600     0.053027  0.029211  20.974048   \n",
       "\n",
       "            RPDE       DFA   spread1   spread2        D2       PPE  \n",
       "status                                                              \n",
       "0       0.442552  0.695716 -6.759264  0.160292  2.154491  0.123017  \n",
       "1       0.516816  0.725408 -5.333420  0.248133  2.456058  0.233828  \n",
       "\n",
       "[2 rows x 22 columns]"
      ]
     },
     "execution_count": 11,
     "metadata": {},
     "output_type": "execute_result"
    }
   ],
   "source": [
    "# grouping the data bas3ed on the target variable\n",
    "parkinsons_data.groupby('status').mean()"
   ]
  },
  {
   "cell_type": "markdown",
   "metadata": {
    "id": "8RY6c0waGSs7"
   },
   "source": [
    "Data Pre-Processing"
   ]
  },
  {
   "cell_type": "markdown",
   "metadata": {
    "id": "We7sRYu7Gc4q"
   },
   "source": [
    "Separating the features & Target"
   ]
  },
  {
   "cell_type": "code",
   "execution_count": 12,
   "metadata": {
    "executionInfo": {
     "elapsed": 16,
     "status": "ok",
     "timestamp": 1653200308702,
     "user": {
      "displayName": "siddhardh selvam",
      "userId": "13966379820454708749"
     },
     "user_tz": -330
    },
    "id": "UAcz8jFnFuzH"
   },
   "outputs": [],
   "source": [
    "X = parkinsons_data.drop(columns=['name','status'], axis=1)\n",
    "Y = parkinsons_data['status']"
   ]
  },
  {
   "cell_type": "code",
   "execution_count": 13,
   "metadata": {
    "colab": {
     "base_uri": "https://localhost:8080/"
    },
    "executionInfo": {
     "elapsed": 16,
     "status": "ok",
     "timestamp": 1653200308702,
     "user": {
      "displayName": "siddhardh selvam",
      "userId": "13966379820454708749"
     },
     "user_tz": -330
    },
    "id": "guRof_8WG1Yn",
    "outputId": "531b55ec-5615-47e6-dde6-51295bfe8945"
   },
   "outputs": [
    {
     "name": "stdout",
     "output_type": "stream",
     "text": [
      "     MDVP:Fo(Hz)  MDVP:Fhi(Hz)  MDVP:Flo(Hz)  MDVP:Jitter(%)  \\\n",
      "0        119.992       157.302        74.997         0.00784   \n",
      "1        122.400       148.650       113.819         0.00968   \n",
      "2        116.682       131.111       111.555         0.01050   \n",
      "3        116.676       137.871       111.366         0.00997   \n",
      "4        116.014       141.781       110.655         0.01284   \n",
      "..           ...           ...           ...             ...   \n",
      "190      174.188       230.978        94.261         0.00459   \n",
      "191      209.516       253.017        89.488         0.00564   \n",
      "192      174.688       240.005        74.287         0.01360   \n",
      "193      198.764       396.961        74.904         0.00740   \n",
      "194      214.289       260.277        77.973         0.00567   \n",
      "\n",
      "     MDVP:Jitter(Abs)  MDVP:RAP  MDVP:PPQ  Jitter:DDP  MDVP:Shimmer  \\\n",
      "0             0.00007   0.00370   0.00554     0.01109       0.04374   \n",
      "1             0.00008   0.00465   0.00696     0.01394       0.06134   \n",
      "2             0.00009   0.00544   0.00781     0.01633       0.05233   \n",
      "3             0.00009   0.00502   0.00698     0.01505       0.05492   \n",
      "4             0.00011   0.00655   0.00908     0.01966       0.06425   \n",
      "..                ...       ...       ...         ...           ...   \n",
      "190           0.00003   0.00263   0.00259     0.00790       0.04087   \n",
      "191           0.00003   0.00331   0.00292     0.00994       0.02751   \n",
      "192           0.00008   0.00624   0.00564     0.01873       0.02308   \n",
      "193           0.00004   0.00370   0.00390     0.01109       0.02296   \n",
      "194           0.00003   0.00295   0.00317     0.00885       0.01884   \n",
      "\n",
      "     MDVP:Shimmer(dB)  ...  MDVP:APQ  Shimmer:DDA      NHR     HNR      RPDE  \\\n",
      "0               0.426  ...   0.02971      0.06545  0.02211  21.033  0.414783   \n",
      "1               0.626  ...   0.04368      0.09403  0.01929  19.085  0.458359   \n",
      "2               0.482  ...   0.03590      0.08270  0.01309  20.651  0.429895   \n",
      "3               0.517  ...   0.03772      0.08771  0.01353  20.644  0.434969   \n",
      "4               0.584  ...   0.04465      0.10470  0.01767  19.649  0.417356   \n",
      "..                ...  ...       ...          ...      ...     ...       ...   \n",
      "190             0.405  ...   0.02745      0.07008  0.02764  19.517  0.448439   \n",
      "191             0.263  ...   0.01879      0.04812  0.01810  19.147  0.431674   \n",
      "192             0.256  ...   0.01667      0.03804  0.10715  17.883  0.407567   \n",
      "193             0.241  ...   0.01588      0.03794  0.07223  19.020  0.451221   \n",
      "194             0.190  ...   0.01373      0.03078  0.04398  21.209  0.462803   \n",
      "\n",
      "          DFA   spread1   spread2        D2       PPE  \n",
      "0    0.815285 -4.813031  0.266482  2.301442  0.284654  \n",
      "1    0.819521 -4.075192  0.335590  2.486855  0.368674  \n",
      "2    0.825288 -4.443179  0.311173  2.342259  0.332634  \n",
      "3    0.819235 -4.117501  0.334147  2.405554  0.368975  \n",
      "4    0.823484 -3.747787  0.234513  2.332180  0.410335  \n",
      "..        ...       ...       ...       ...       ...  \n",
      "190  0.657899 -6.538586  0.121952  2.657476  0.133050  \n",
      "191  0.683244 -6.195325  0.129303  2.784312  0.168895  \n",
      "192  0.655683 -6.787197  0.158453  2.679772  0.131728  \n",
      "193  0.643956 -6.744577  0.207454  2.138608  0.123306  \n",
      "194  0.664357 -5.724056  0.190667  2.555477  0.148569  \n",
      "\n",
      "[195 rows x 22 columns]\n"
     ]
    }
   ],
   "source": [
    "print(X)"
   ]
  },
  {
   "cell_type": "code",
   "execution_count": 14,
   "metadata": {
    "colab": {
     "base_uri": "https://localhost:8080/"
    },
    "executionInfo": {
     "elapsed": 14,
     "status": "ok",
     "timestamp": 1653200308703,
     "user": {
      "displayName": "siddhardh selvam",
      "userId": "13966379820454708749"
     },
     "user_tz": -330
    },
    "id": "xSNrvkJoG3cY",
    "outputId": "db156ede-5d9e-4ab4-de6d-ead138a71faf"
   },
   "outputs": [
    {
     "name": "stdout",
     "output_type": "stream",
     "text": [
      "0      1\n",
      "1      1\n",
      "2      1\n",
      "3      1\n",
      "4      1\n",
      "      ..\n",
      "190    0\n",
      "191    0\n",
      "192    0\n",
      "193    0\n",
      "194    0\n",
      "Name: status, Length: 195, dtype: int64\n"
     ]
    }
   ],
   "source": [
    "print(Y)"
   ]
  },
  {
   "cell_type": "markdown",
   "metadata": {
    "id": "WDeqEaaHHBAS"
   },
   "source": [
    "Splitting the data to training data & Test data"
   ]
  },
  {
   "cell_type": "code",
   "execution_count": 15,
   "metadata": {
    "executionInfo": {
     "elapsed": 810,
     "status": "ok",
     "timestamp": 1653200309503,
     "user": {
      "displayName": "siddhardh selvam",
      "userId": "13966379820454708749"
     },
     "user_tz": -330
    },
    "id": "4c6nrCiVG6NB"
   },
   "outputs": [],
   "source": [
    "X_train, X_test, Y_train, Y_test = train_test_split(X, Y, test_size=0.2, random_state=2)"
   ]
  },
  {
   "cell_type": "code",
   "execution_count": 16,
   "metadata": {
    "colab": {
     "base_uri": "https://localhost:8080/"
    },
    "executionInfo": {
     "elapsed": 16,
     "status": "ok",
     "timestamp": 1653200309504,
     "user": {
      "displayName": "siddhardh selvam",
      "userId": "13966379820454708749"
     },
     "user_tz": -330
    },
    "id": "6OqUka96H35c",
    "outputId": "47eb1e86-5aa5-41f1-deb2-e02d9d2bffe7"
   },
   "outputs": [
    {
     "name": "stdout",
     "output_type": "stream",
     "text": [
      "(195, 22) (156, 22) (39, 22)\n"
     ]
    }
   ],
   "source": [
    "print(X.shape, X_train.shape, X_test.shape)"
   ]
  },
  {
   "cell_type": "markdown",
   "metadata": {
    "id": "QIOAtx35JUMg"
   },
   "source": [
    "Model Training"
   ]
  },
  {
   "cell_type": "code",
   "execution_count": 17,
   "metadata": {},
   "outputs": [],
   "source": [
    "from sklearn.metrics import mean_squared_error, mean_absolute_error, explained_variance_score, r2_score \n",
    "from sklearn.metrics import mean_poisson_deviance, mean_gamma_deviance, accuracy_score\n",
    "import tensorflow as tf\n",
    "from tensorflow.keras.models import Sequential\n",
    "from tensorflow.keras.layers import Dense, Dropout\n",
    "from tensorflow.keras.layers import LSTM\n"
   ]
  },
  {
   "cell_type": "code",
   "execution_count": 18,
   "metadata": {},
   "outputs": [],
   "source": [
    "model=Sequential()\n",
    "\n",
    "model.add(LSTM(10,input_shape=(None,1),activation=\"relu\"))\n",
    "\n",
    "model.add(Dense(1))\n",
    "\n",
    "model.compile(loss=\"mean_squared_error\",optimizer=\"adam\")"
   ]
  },
  {
   "cell_type": "code",
   "execution_count": 19,
   "metadata": {},
   "outputs": [
    {
     "name": "stdout",
     "output_type": "stream",
     "text": [
      "Epoch 1/200\n",
      "5/5 [==============================] - 2s 121ms/step - loss: 265.0870 - val_loss: 100.8946\n",
      "Epoch 2/200\n",
      "5/5 [==============================] - 0s 19ms/step - loss: 78.3420 - val_loss: 39.1327\n",
      "Epoch 3/200\n",
      "5/5 [==============================] - 0s 27ms/step - loss: 31.7417 - val_loss: 17.4425\n",
      "Epoch 4/200\n",
      "5/5 [==============================] - 0s 25ms/step - loss: 17.3220 - val_loss: 9.3896\n",
      "Epoch 5/200\n",
      "5/5 [==============================] - 0s 30ms/step - loss: 9.3596 - val_loss: 4.9256\n",
      "Epoch 6/200\n",
      "5/5 [==============================] - 0s 27ms/step - loss: 5.0196 - val_loss: 2.8335\n",
      "Epoch 7/200\n",
      "5/5 [==============================] - 0s 26ms/step - loss: 3.4352 - val_loss: 1.6287\n",
      "Epoch 8/200\n",
      "5/5 [==============================] - 0s 23ms/step - loss: 2.0931 - val_loss: 0.9144\n",
      "Epoch 9/200\n",
      "5/5 [==============================] - 0s 20ms/step - loss: 1.0999 - val_loss: 0.5055\n",
      "Epoch 10/200\n",
      "5/5 [==============================] - 0s 30ms/step - loss: 0.8515 - val_loss: 0.4182\n",
      "Epoch 11/200\n",
      "5/5 [==============================] - 0s 25ms/step - loss: 0.7255 - val_loss: 0.2644\n",
      "Epoch 12/200\n",
      "5/5 [==============================] - 0s 23ms/step - loss: 0.6497 - val_loss: 0.2020\n",
      "Epoch 13/200\n",
      "5/5 [==============================] - 0s 21ms/step - loss: 0.6324 - val_loss: 0.1750\n",
      "Epoch 14/200\n",
      "5/5 [==============================] - 0s 25ms/step - loss: 0.6201 - val_loss: 0.1712\n",
      "Epoch 15/200\n",
      "5/5 [==============================] - 0s 22ms/step - loss: 0.6064 - val_loss: 0.1737\n",
      "Epoch 16/200\n",
      "5/5 [==============================] - 0s 23ms/step - loss: 0.5860 - val_loss: 0.1746\n",
      "Epoch 17/200\n",
      "5/5 [==============================] - 0s 21ms/step - loss: 0.5737 - val_loss: 0.1732\n",
      "Epoch 18/200\n",
      "5/5 [==============================] - 0s 24ms/step - loss: 0.5496 - val_loss: 0.1688\n",
      "Epoch 19/200\n",
      "5/5 [==============================] - 0s 24ms/step - loss: 0.4847 - val_loss: 0.1665\n",
      "Epoch 20/200\n",
      "5/5 [==============================] - 0s 30ms/step - loss: 0.4199 - val_loss: 0.1613\n",
      "Epoch 21/200\n",
      "5/5 [==============================] - 0s 28ms/step - loss: 0.3397 - val_loss: 0.1564\n",
      "Epoch 22/200\n",
      "5/5 [==============================] - 0s 27ms/step - loss: 0.2877 - val_loss: 0.1523\n",
      "Epoch 23/200\n",
      "5/5 [==============================] - 0s 28ms/step - loss: 0.2058 - val_loss: 0.1495\n",
      "Epoch 24/200\n",
      "5/5 [==============================] - 0s 29ms/step - loss: 0.1897 - val_loss: 0.1478\n",
      "Epoch 25/200\n",
      "5/5 [==============================] - 0s 35ms/step - loss: 0.1848 - val_loss: 0.1426\n",
      "Epoch 26/200\n",
      "5/5 [==============================] - 0s 23ms/step - loss: 0.1815 - val_loss: 0.1391\n",
      "Epoch 27/200\n",
      "5/5 [==============================] - 0s 23ms/step - loss: 0.1781 - val_loss: 0.1386\n",
      "Epoch 28/200\n",
      "5/5 [==============================] - 0s 30ms/step - loss: 0.1751 - val_loss: 0.1386\n",
      "Epoch 29/200\n",
      "5/5 [==============================] - 0s 24ms/step - loss: 0.1729 - val_loss: 0.1391\n",
      "Epoch 30/200\n",
      "5/5 [==============================] - 0s 24ms/step - loss: 0.1702 - val_loss: 0.1387\n",
      "Epoch 31/200\n",
      "5/5 [==============================] - 0s 25ms/step - loss: 0.1682 - val_loss: 0.1380\n",
      "Epoch 32/200\n",
      "5/5 [==============================] - 0s 34ms/step - loss: 0.1674 - val_loss: 0.1367\n",
      "Epoch 33/200\n",
      "5/5 [==============================] - 0s 26ms/step - loss: 0.1652 - val_loss: 0.1363\n",
      "Epoch 34/200\n",
      "5/5 [==============================] - 0s 25ms/step - loss: 0.1635 - val_loss: 0.1360\n",
      "Epoch 35/200\n",
      "5/5 [==============================] - 0s 25ms/step - loss: 0.1618 - val_loss: 0.1362\n",
      "Epoch 36/200\n",
      "5/5 [==============================] - 0s 37ms/step - loss: 0.1606 - val_loss: 0.1358\n",
      "Epoch 37/200\n",
      "5/5 [==============================] - 0s 34ms/step - loss: 0.1592 - val_loss: 0.1349\n",
      "Epoch 38/200\n",
      "5/5 [==============================] - 0s 37ms/step - loss: 0.1579 - val_loss: 0.1335\n",
      "Epoch 39/200\n",
      "5/5 [==============================] - 0s 41ms/step - loss: 0.1561 - val_loss: 0.1331\n",
      "Epoch 40/200\n",
      "5/5 [==============================] - 0s 51ms/step - loss: 0.1545 - val_loss: 0.1326\n",
      "Epoch 41/200\n",
      "5/5 [==============================] - 0s 24ms/step - loss: 0.1529 - val_loss: 0.1319\n",
      "Epoch 42/200\n",
      "5/5 [==============================] - 0s 22ms/step - loss: 0.1517 - val_loss: 0.1305\n",
      "Epoch 43/200\n",
      "5/5 [==============================] - 0s 28ms/step - loss: 0.1500 - val_loss: 0.1299\n",
      "Epoch 44/200\n",
      "5/5 [==============================] - 0s 26ms/step - loss: 0.1485 - val_loss: 0.1297\n",
      "Epoch 45/200\n",
      "5/5 [==============================] - 0s 26ms/step - loss: 0.1466 - val_loss: 0.1291\n",
      "Epoch 46/200\n",
      "5/5 [==============================] - 0s 21ms/step - loss: 0.1452 - val_loss: 0.1284\n",
      "Epoch 47/200\n",
      "5/5 [==============================] - 0s 23ms/step - loss: 0.1433 - val_loss: 0.1275\n",
      "Epoch 48/200\n",
      "5/5 [==============================] - 0s 23ms/step - loss: 0.1417 - val_loss: 0.1262\n",
      "Epoch 49/200\n",
      "5/5 [==============================] - 0s 23ms/step - loss: 0.1399 - val_loss: 0.1247\n",
      "Epoch 50/200\n",
      "5/5 [==============================] - 0s 23ms/step - loss: 0.1386 - val_loss: 0.1230\n",
      "Epoch 51/200\n",
      "5/5 [==============================] - 0s 23ms/step - loss: 0.1373 - val_loss: 0.1218\n",
      "Epoch 52/200\n",
      "5/5 [==============================] - 0s 23ms/step - loss: 0.1365 - val_loss: 0.1209\n",
      "Epoch 53/200\n",
      "5/5 [==============================] - 0s 20ms/step - loss: 0.1353 - val_loss: 0.1203\n",
      "Epoch 54/200\n",
      "5/5 [==============================] - 0s 18ms/step - loss: 0.1351 - val_loss: 0.1196\n",
      "Epoch 55/200\n",
      "5/5 [==============================] - 0s 20ms/step - loss: 0.1342 - val_loss: 0.1191\n",
      "Epoch 56/200\n",
      "5/5 [==============================] - 0s 18ms/step - loss: 0.1337 - val_loss: 0.1189\n",
      "Epoch 57/200\n",
      "5/5 [==============================] - 0s 14ms/step - loss: 0.1331 - val_loss: 0.1184\n",
      "Epoch 58/200\n",
      "5/5 [==============================] - 0s 28ms/step - loss: 0.1327 - val_loss: 0.1178\n",
      "Epoch 59/200\n",
      "5/5 [==============================] - 0s 21ms/step - loss: 0.1322 - val_loss: 0.1174\n",
      "Epoch 60/200\n",
      "5/5 [==============================] - 0s 18ms/step - loss: 0.1318 - val_loss: 0.1172\n",
      "Epoch 61/200\n",
      "5/5 [==============================] - 0s 21ms/step - loss: 0.1312 - val_loss: 0.1169\n",
      "Epoch 62/200\n",
      "5/5 [==============================] - 0s 20ms/step - loss: 0.1308 - val_loss: 0.1166\n",
      "Epoch 63/200\n",
      "5/5 [==============================] - 0s 21ms/step - loss: 0.1303 - val_loss: 0.1163\n",
      "Epoch 64/200\n",
      "5/5 [==============================] - 0s 20ms/step - loss: 0.1297 - val_loss: 0.1160\n",
      "Epoch 65/200\n",
      "5/5 [==============================] - 0s 21ms/step - loss: 0.1295 - val_loss: 0.1156\n",
      "Epoch 66/200\n",
      "5/5 [==============================] - 0s 18ms/step - loss: 0.1290 - val_loss: 0.1155\n",
      "Epoch 67/200\n",
      "5/5 [==============================] - 0s 18ms/step - loss: 0.1285 - val_loss: 0.1153\n",
      "Epoch 68/200\n",
      "5/5 [==============================] - 0s 16ms/step - loss: 0.1282 - val_loss: 0.1150\n",
      "Epoch 69/200\n",
      "5/5 [==============================] - 0s 16ms/step - loss: 0.1279 - val_loss: 0.1150\n",
      "Epoch 70/200\n",
      "5/5 [==============================] - 0s 20ms/step - loss: 0.1273 - val_loss: 0.1149\n",
      "Epoch 71/200\n",
      "5/5 [==============================] - 0s 18ms/step - loss: 0.1271 - val_loss: 0.1145\n",
      "Epoch 72/200\n",
      "5/5 [==============================] - 0s 21ms/step - loss: 0.1265 - val_loss: 0.1141\n",
      "Epoch 73/200\n",
      "5/5 [==============================] - 0s 16ms/step - loss: 0.1261 - val_loss: 0.1138\n",
      "Epoch 74/200\n",
      "5/5 [==============================] - 0s 19ms/step - loss: 0.1258 - val_loss: 0.1132\n",
      "Epoch 75/200\n",
      "5/5 [==============================] - 0s 20ms/step - loss: 0.1253 - val_loss: 0.1129\n",
      "Epoch 76/200\n",
      "5/5 [==============================] - 0s 17ms/step - loss: 0.1248 - val_loss: 0.1129\n",
      "Epoch 77/200\n",
      "5/5 [==============================] - 0s 18ms/step - loss: 0.1245 - val_loss: 0.1130\n",
      "Epoch 78/200\n",
      "5/5 [==============================] - 0s 21ms/step - loss: 0.1244 - val_loss: 0.1133\n",
      "Epoch 79/200\n",
      "5/5 [==============================] - 0s 21ms/step - loss: 0.1238 - val_loss: 0.1131\n",
      "Epoch 80/200\n",
      "5/5 [==============================] - 0s 33ms/step - loss: 0.1233 - val_loss: 0.1124\n",
      "Epoch 81/200\n",
      "5/5 [==============================] - 0s 25ms/step - loss: 0.1230 - val_loss: 0.1122\n",
      "Epoch 82/200\n",
      "5/5 [==============================] - 0s 17ms/step - loss: 0.1228 - val_loss: 0.1120\n",
      "Epoch 83/200\n"
     ]
    },
    {
     "name": "stdout",
     "output_type": "stream",
     "text": [
      "5/5 [==============================] - 0s 21ms/step - loss: 0.1224 - val_loss: 0.1119\n",
      "Epoch 84/200\n",
      "5/5 [==============================] - 0s 26ms/step - loss: 0.1219 - val_loss: 0.1118\n",
      "Epoch 85/200\n",
      "5/5 [==============================] - 0s 20ms/step - loss: 0.1216 - val_loss: 0.1115\n",
      "Epoch 86/200\n",
      "5/5 [==============================] - 0s 17ms/step - loss: 0.1212 - val_loss: 0.1115\n",
      "Epoch 87/200\n",
      "5/5 [==============================] - 0s 34ms/step - loss: 0.1211 - val_loss: 0.1114\n",
      "Epoch 88/200\n",
      "5/5 [==============================] - 0s 20ms/step - loss: 0.1206 - val_loss: 0.1111\n",
      "Epoch 89/200\n",
      "5/5 [==============================] - 0s 19ms/step - loss: 0.1202 - val_loss: 0.1109\n",
      "Epoch 90/200\n",
      "5/5 [==============================] - 0s 17ms/step - loss: 0.1200 - val_loss: 0.1108\n",
      "Epoch 91/200\n",
      "5/5 [==============================] - 0s 23ms/step - loss: 0.1200 - val_loss: 0.1112\n",
      "Epoch 92/200\n",
      "5/5 [==============================] - 0s 31ms/step - loss: 0.1197 - val_loss: 0.1114\n",
      "Epoch 93/200\n",
      "5/5 [==============================] - 0s 20ms/step - loss: 0.1187 - val_loss: 0.1108\n",
      "Epoch 94/200\n",
      "5/5 [==============================] - 0s 20ms/step - loss: 0.1186 - val_loss: 0.1102\n",
      "Epoch 95/200\n",
      "5/5 [==============================] - 0s 16ms/step - loss: 0.1187 - val_loss: 0.1102\n",
      "Epoch 96/200\n",
      "5/5 [==============================] - 0s 17ms/step - loss: 0.1181 - val_loss: 0.1102\n",
      "Epoch 97/200\n",
      "5/5 [==============================] - 0s 19ms/step - loss: 0.1175 - val_loss: 0.1101\n",
      "Epoch 98/200\n",
      "5/5 [==============================] - 0s 34ms/step - loss: 0.1173 - val_loss: 0.1100\n",
      "Epoch 99/200\n",
      "5/5 [==============================] - 0s 34ms/step - loss: 0.1170 - val_loss: 0.1100\n",
      "Epoch 100/200\n",
      "5/5 [==============================] - 0s 33ms/step - loss: 0.1173 - val_loss: 0.1095\n",
      "Epoch 101/200\n",
      "5/5 [==============================] - 0s 20ms/step - loss: 0.1163 - val_loss: 0.1096\n",
      "Epoch 102/200\n",
      "5/5 [==============================] - 0s 25ms/step - loss: 0.1165 - val_loss: 0.1104\n",
      "Epoch 103/200\n",
      "5/5 [==============================] - 0s 37ms/step - loss: 0.1160 - val_loss: 0.1103\n",
      "Epoch 104/200\n",
      "5/5 [==============================] - 0s 32ms/step - loss: 0.1157 - val_loss: 0.1096\n",
      "Epoch 105/200\n",
      "5/5 [==============================] - 0s 29ms/step - loss: 0.1154 - val_loss: 0.1094\n",
      "Epoch 106/200\n",
      "5/5 [==============================] - 0s 39ms/step - loss: 0.1157 - val_loss: 0.1090\n",
      "Epoch 107/200\n",
      "5/5 [==============================] - 0s 38ms/step - loss: 0.1146 - val_loss: 0.1096\n",
      "Epoch 108/200\n",
      "5/5 [==============================] - 0s 37ms/step - loss: 0.1147 - val_loss: 0.1101\n",
      "Epoch 109/200\n",
      "5/5 [==============================] - 0s 33ms/step - loss: 0.1147 - val_loss: 0.1091\n",
      "Epoch 110/200\n",
      "5/5 [==============================] - 0s 33ms/step - loss: 0.1141 - val_loss: 0.1093\n",
      "Epoch 111/200\n",
      "5/5 [==============================] - 0s 33ms/step - loss: 0.1136 - val_loss: 0.1089\n",
      "Epoch 112/200\n",
      "5/5 [==============================] - 0s 18ms/step - loss: 0.1138 - val_loss: 0.1089\n",
      "Epoch 113/200\n",
      "5/5 [==============================] - 0s 20ms/step - loss: 0.1133 - val_loss: 0.1089\n",
      "Epoch 114/200\n",
      "5/5 [==============================] - 0s 16ms/step - loss: 0.1130 - val_loss: 0.1086\n",
      "Epoch 115/200\n",
      "5/5 [==============================] - 0s 14ms/step - loss: 0.1128 - val_loss: 0.1088\n",
      "Epoch 116/200\n",
      "5/5 [==============================] - 0s 30ms/step - loss: 0.1125 - val_loss: 0.1087\n",
      "Epoch 117/200\n",
      "5/5 [==============================] - 0s 32ms/step - loss: 0.1122 - val_loss: 0.1084\n",
      "Epoch 118/200\n",
      "5/5 [==============================] - 0s 33ms/step - loss: 0.1120 - val_loss: 0.1086\n",
      "Epoch 119/200\n",
      "5/5 [==============================] - 0s 50ms/step - loss: 0.1119 - val_loss: 0.1084\n",
      "Epoch 120/200\n",
      "5/5 [==============================] - 0s 23ms/step - loss: 0.1115 - val_loss: 0.1079\n",
      "Epoch 121/200\n",
      "5/5 [==============================] - 0s 23ms/step - loss: 0.1116 - val_loss: 0.1081\n",
      "Epoch 122/200\n",
      "5/5 [==============================] - 0s 21ms/step - loss: 0.1114 - val_loss: 0.1079\n",
      "Epoch 123/200\n",
      "5/5 [==============================] - 0s 20ms/step - loss: 0.1109 - val_loss: 0.1078\n",
      "Epoch 124/200\n",
      "5/5 [==============================] - 0s 19ms/step - loss: 0.1108 - val_loss: 0.1075\n",
      "Epoch 125/200\n",
      "5/5 [==============================] - 0s 38ms/step - loss: 0.1106 - val_loss: 0.1076\n",
      "Epoch 126/200\n",
      "5/5 [==============================] - 0s 23ms/step - loss: 0.1105 - val_loss: 0.1071\n",
      "Epoch 127/200\n",
      "5/5 [==============================] - 0s 25ms/step - loss: 0.1106 - val_loss: 0.1067\n",
      "Epoch 128/200\n",
      "5/5 [==============================] - 0s 25ms/step - loss: 0.1101 - val_loss: 0.1063\n",
      "Epoch 129/200\n",
      "5/5 [==============================] - 0s 22ms/step - loss: 0.1099 - val_loss: 0.1064\n",
      "Epoch 130/200\n",
      "5/5 [==============================] - 0s 22ms/step - loss: 0.1096 - val_loss: 0.1054\n",
      "Epoch 131/200\n",
      "5/5 [==============================] - 0s 18ms/step - loss: 0.1098 - val_loss: 0.1049\n",
      "Epoch 132/200\n",
      "5/5 [==============================] - 0s 19ms/step - loss: 0.1094 - val_loss: 0.1042\n",
      "Epoch 133/200\n",
      "5/5 [==============================] - 0s 16ms/step - loss: 0.1092 - val_loss: 0.1034\n",
      "Epoch 134/200\n",
      "5/5 [==============================] - 0s 35ms/step - loss: 0.1092 - val_loss: 0.1018\n",
      "Epoch 135/200\n",
      "5/5 [==============================] - 0s 28ms/step - loss: 0.1092 - val_loss: 0.1020\n",
      "Epoch 136/200\n",
      "5/5 [==============================] - 0s 28ms/step - loss: 0.1091 - val_loss: 0.1007\n",
      "Epoch 137/200\n",
      "5/5 [==============================] - 0s 21ms/step - loss: 0.1090 - val_loss: 0.0999\n",
      "Epoch 138/200\n",
      "5/5 [==============================] - 0s 20ms/step - loss: 0.1082 - val_loss: 0.1003\n",
      "Epoch 139/200\n",
      "5/5 [==============================] - 0s 21ms/step - loss: 0.1086 - val_loss: 0.1036\n",
      "Epoch 140/200\n",
      "5/5 [==============================] - 0s 19ms/step - loss: 0.1082 - val_loss: 0.1019\n",
      "Epoch 141/200\n",
      "5/5 [==============================] - 0s 24ms/step - loss: 0.1087 - val_loss: 0.1000\n",
      "Epoch 142/200\n",
      "5/5 [==============================] - 0s 25ms/step - loss: 0.1077 - val_loss: 0.0999\n",
      "Epoch 143/200\n",
      "5/5 [==============================] - 0s 22ms/step - loss: 0.1084 - val_loss: 0.1021\n",
      "Epoch 144/200\n",
      "5/5 [==============================] - 0s 16ms/step - loss: 0.1079 - val_loss: 0.1014\n",
      "Epoch 145/200\n",
      "5/5 [==============================] - 0s 19ms/step - loss: 0.1071 - val_loss: 0.0989\n",
      "Epoch 146/200\n",
      "5/5 [==============================] - 0s 19ms/step - loss: 0.1080 - val_loss: 0.0986\n",
      "Epoch 147/200\n",
      "5/5 [==============================] - 0s 24ms/step - loss: 0.1081 - val_loss: 0.1015\n",
      "Epoch 148/200\n",
      "5/5 [==============================] - 0s 22ms/step - loss: 0.1071 - val_loss: 0.0998\n",
      "Epoch 149/200\n",
      "5/5 [==============================] - 0s 22ms/step - loss: 0.1070 - val_loss: 0.0990\n",
      "Epoch 150/200\n",
      "5/5 [==============================] - 0s 17ms/step - loss: 0.1075 - val_loss: 0.0992\n",
      "Epoch 151/200\n",
      "5/5 [==============================] - 0s 21ms/step - loss: 0.1061 - val_loss: 0.1019\n",
      "Epoch 152/200\n",
      "5/5 [==============================] - 0s 22ms/step - loss: 0.1073 - val_loss: 0.1028\n",
      "Epoch 153/200\n",
      "5/5 [==============================] - 0s 20ms/step - loss: 0.1064 - val_loss: 0.1004\n",
      "Epoch 154/200\n",
      "5/5 [==============================] - 0s 28ms/step - loss: 0.1068 - val_loss: 0.1008\n",
      "Epoch 155/200\n",
      "5/5 [==============================] - 0s 25ms/step - loss: 0.1076 - val_loss: 0.1043\n",
      "Epoch 156/200\n",
      "5/5 [==============================] - 0s 27ms/step - loss: 0.1073 - val_loss: 0.1017\n",
      "Epoch 157/200\n",
      "5/5 [==============================] - 0s 20ms/step - loss: 0.1058 - val_loss: 0.1029\n",
      "Epoch 158/200\n",
      "5/5 [==============================] - 0s 22ms/step - loss: 0.1059 - val_loss: 0.1033\n",
      "Epoch 159/200\n",
      "5/5 [==============================] - 0s 21ms/step - loss: 0.1054 - val_loss: 0.1032\n",
      "Epoch 160/200\n",
      "5/5 [==============================] - 0s 29ms/step - loss: 0.1057 - val_loss: 0.1027\n",
      "Epoch 161/200\n",
      "5/5 [==============================] - 0s 24ms/step - loss: 0.1051 - val_loss: 0.1034\n",
      "Epoch 162/200\n",
      "5/5 [==============================] - 0s 21ms/step - loss: 0.1055 - val_loss: 0.1040\n",
      "Epoch 163/200\n",
      "5/5 [==============================] - 0s 45ms/step - loss: 0.1050 - val_loss: 0.1024\n",
      "Epoch 164/200\n",
      "5/5 [==============================] - 0s 20ms/step - loss: 0.1049 - val_loss: 0.1030\n",
      "Epoch 165/200\n"
     ]
    },
    {
     "name": "stdout",
     "output_type": "stream",
     "text": [
      "5/5 [==============================] - 0s 20ms/step - loss: 0.1052 - val_loss: 0.1036\n",
      "Epoch 166/200\n",
      "5/5 [==============================] - 0s 26ms/step - loss: 0.1047 - val_loss: 0.1036\n",
      "Epoch 167/200\n",
      "5/5 [==============================] - 0s 22ms/step - loss: 0.1045 - val_loss: 0.1036\n",
      "Epoch 168/200\n",
      "5/5 [==============================] - 0s 22ms/step - loss: 0.1051 - val_loss: 0.1054\n",
      "Epoch 169/200\n",
      "5/5 [==============================] - 0s 20ms/step - loss: 0.1047 - val_loss: 0.1038\n",
      "Epoch 170/200\n",
      "5/5 [==============================] - 0s 16ms/step - loss: 0.1044 - val_loss: 0.1048\n",
      "Epoch 171/200\n",
      "5/5 [==============================] - 0s 31ms/step - loss: 0.1047 - val_loss: 0.1055\n",
      "Epoch 172/200\n",
      "5/5 [==============================] - 0s 42ms/step - loss: 0.1040 - val_loss: 0.1040\n",
      "Epoch 173/200\n",
      "5/5 [==============================] - 0s 26ms/step - loss: 0.1040 - val_loss: 0.1041\n",
      "Epoch 174/200\n",
      "5/5 [==============================] - 0s 20ms/step - loss: 0.1037 - val_loss: 0.1055\n",
      "Epoch 175/200\n",
      "5/5 [==============================] - 0s 19ms/step - loss: 0.1040 - val_loss: 0.1050\n",
      "Epoch 176/200\n",
      "5/5 [==============================] - 0s 20ms/step - loss: 0.1038 - val_loss: 0.1047\n",
      "Epoch 177/200\n",
      "5/5 [==============================] - 0s 20ms/step - loss: 0.1038 - val_loss: 0.1050\n",
      "Epoch 178/200\n",
      "5/5 [==============================] - 0s 19ms/step - loss: 0.1037 - val_loss: 0.1058\n",
      "Epoch 179/200\n",
      "5/5 [==============================] - 0s 19ms/step - loss: 0.1036 - val_loss: 0.1050\n",
      "Epoch 180/200\n",
      "5/5 [==============================] - 0s 19ms/step - loss: 0.1030 - val_loss: 0.1068\n",
      "Epoch 181/200\n",
      "5/5 [==============================] - 0s 21ms/step - loss: 0.1032 - val_loss: 0.1058\n",
      "Epoch 182/200\n",
      "5/5 [==============================] - 0s 26ms/step - loss: 0.1029 - val_loss: 0.1067\n",
      "Epoch 183/200\n",
      "5/5 [==============================] - 0s 18ms/step - loss: 0.1027 - val_loss: 0.1058\n",
      "Epoch 184/200\n",
      "5/5 [==============================] - 0s 25ms/step - loss: 0.1030 - val_loss: 0.1052\n",
      "Epoch 185/200\n",
      "5/5 [==============================] - 0s 20ms/step - loss: 0.1029 - val_loss: 0.1064\n",
      "Epoch 186/200\n",
      "5/5 [==============================] - 0s 18ms/step - loss: 0.1030 - val_loss: 0.1077\n",
      "Epoch 187/200\n",
      "5/5 [==============================] - 0s 16ms/step - loss: 0.1025 - val_loss: 0.1058\n",
      "Epoch 188/200\n",
      "5/5 [==============================] - 0s 22ms/step - loss: 0.1033 - val_loss: 0.1080\n",
      "Epoch 189/200\n",
      "5/5 [==============================] - 0s 22ms/step - loss: 0.1021 - val_loss: 0.1057\n",
      "Epoch 190/200\n",
      "5/5 [==============================] - 0s 18ms/step - loss: 0.1018 - val_loss: 0.1063\n",
      "Epoch 191/200\n",
      "5/5 [==============================] - 0s 14ms/step - loss: 0.1015 - val_loss: 0.1081\n",
      "Epoch 192/200\n",
      "5/5 [==============================] - 0s 17ms/step - loss: 0.1014 - val_loss: 0.1088\n",
      "Epoch 193/200\n",
      "5/5 [==============================] - 0s 17ms/step - loss: 0.1015 - val_loss: 0.1091\n",
      "Epoch 194/200\n",
      "5/5 [==============================] - 0s 21ms/step - loss: 0.1013 - val_loss: 0.1100\n",
      "Epoch 195/200\n",
      "5/5 [==============================] - 0s 25ms/step - loss: 0.1010 - val_loss: 0.1109\n",
      "Epoch 196/200\n",
      "5/5 [==============================] - 0s 17ms/step - loss: 0.1011 - val_loss: 0.1116\n",
      "Epoch 197/200\n",
      "5/5 [==============================] - 0s 16ms/step - loss: 0.1004 - val_loss: 0.1122\n",
      "Epoch 198/200\n",
      "5/5 [==============================] - 0s 17ms/step - loss: 0.1002 - val_loss: 0.1134\n",
      "Epoch 199/200\n",
      "5/5 [==============================] - 0s 21ms/step - loss: 0.1011 - val_loss: 0.1114\n",
      "Epoch 200/200\n",
      "5/5 [==============================] - 0s 13ms/step - loss: 0.1002 - val_loss: 0.1143\n"
     ]
    }
   ],
   "source": [
    "history = model.fit(X_train,Y_train,validation_data=(X_test,Y_test),epochs=200,batch_size=32,verbose=1)"
   ]
  },
  {
   "cell_type": "code",
   "execution_count": 20,
   "metadata": {},
   "outputs": [
    {
     "data": {
      "image/png": "[encoded data removed]",
      "text/plain": [
       "<Figure size 640x480 with 1 Axes>"
      ]
     },
     "metadata": {},
     "output_type": "display_data"
    },
    {
     "data": {
      "text/plain": [
       "<Figure size 640x480 with 0 Axes>"
      ]
     },
     "metadata": {},
     "output_type": "display_data"
    }
   ],
   "source": [
    "import matplotlib.pyplot as plt\n",
    "loss = history.history['loss']\n",
    "val_loss = history.history['val_loss']\n",
    "\n",
    "epochs = range(len(loss))\n",
    "\n",
    "plt.plot(epochs, loss, 'r', label='Training loss')\n",
    "plt.plot(epochs, val_loss, 'b', label='Validation loss')\n",
    "plt.title('Training and validation loss')\n",
    "plt.legend(loc=0)\n",
    "plt.figure()\n",
    "\n",
    "\n",
    "plt.show()"
   ]
  },
  {
   "cell_type": "code",
   "execution_count": 21,
   "metadata": {},
   "outputs": [
    {
     "name": "stdout",
     "output_type": "stream",
     "text": [
      "5/5 [==============================] - 0s 9ms/step\n",
      "2/2 [==============================] - 0s 17ms/step\n"
     ]
    },
    {
     "data": {
      "text/plain": [
       "((156, 1), (39, 1))"
      ]
     },
     "execution_count": 21,
     "metadata": {},
     "output_type": "execute_result"
    }
   ],
   "source": [
    "### Lets Do the prediction and check performance metrics\n",
    "train_predict=model.predict(X_train)\n",
    "test_predict=model.predict(X_test)\n",
    "train_predict.shape, test_predict.shape"
   ]
  },
  {
   "cell_type": "markdown",
   "metadata": {},
   "source": [
    "# boosting"
   ]
  },
  {
   "cell_type": "code",
   "execution_count": 22,
   "metadata": {},
   "outputs": [],
   "source": [
    "#AdaBoost\n",
    "from sklearn.ensemble import AdaBoostClassifier\n",
    "clf = AdaBoostClassifier(n_estimators=100, random_state=0)"
   ]
  },
  {
   "cell_type": "code",
   "execution_count": 23,
   "metadata": {},
   "outputs": [
    {
     "data": {
      "text/plain": [
       "AdaBoostClassifier(n_estimators=100, random_state=0)"
      ]
     },
     "execution_count": 23,
     "metadata": {},
     "output_type": "execute_result"
    }
   ],
   "source": [
    "clf.fit(X_train, Y_train.values.ravel()) "
   ]
  },
  {
   "cell_type": "code",
   "execution_count": 24,
   "metadata": {},
   "outputs": [
    {
     "name": "stdout",
     "output_type": "stream",
     "text": [
      "TRAIN SET 1.0\n",
      "TEST  SET 0.8717948717948718\n"
     ]
    }
   ],
   "source": [
    "print(\"TRAIN SET\", clf.score(X_train, Y_train))\n",
    "print(\"TEST  SET\", clf.score(X_test, Y_test))"
   ]
  },
  {
   "cell_type": "code",
   "execution_count": 25,
   "metadata": {},
   "outputs": [
    {
     "data": {
      "text/plain": [
       "array([0.75510204, 0.85714286, 0.71428571, 0.75      ])"
      ]
     },
     "execution_count": 25,
     "metadata": {},
     "output_type": "execute_result"
    }
   ],
   "source": [
    "from sklearn.model_selection import cross_val_score\n",
    "scores = cross_val_score(clf, X, Y.values.ravel(), cv=4)\n",
    "scores"
   ]
  },
  {
   "cell_type": "code",
   "execution_count": 26,
   "metadata": {},
   "outputs": [
    {
     "name": "stdout",
     "output_type": "stream",
     "text": [
      "Average: 0.77 (+/- 0.11)\n"
     ]
    }
   ],
   "source": [
    "print(\"Average: %0.2f (+/- %0.2f)\" % (scores.mean(), scores.std() * 2))"
   ]
  },
  {
   "cell_type": "code",
   "execution_count": 27,
   "metadata": {},
   "outputs": [],
   "source": [
    "import matplotlib.pyplot as plt\n",
    "import numpy as np\n",
    "from sklearn.metrics import roc_curve, auc"
   ]
  },
  {
   "cell_type": "code",
   "execution_count": 28,
   "metadata": {},
   "outputs": [],
   "source": [
    "def plot_confusion_matrix(cm, title='Confusion matrix', cmap=plt.cm.Blues):\n",
    "    target_names=['attack','not attack']\n",
    "    plt.imshow(cm, interpolation='nearest', cmap=cmap)\n",
    "    plt.title(title)\n",
    "    plt.colorbar()\n",
    "    tick_marks = np.arange(len(target_names))\n",
    "    plt.xticks(tick_marks, target_names, rotation=45)\n",
    "    plt.yticks(tick_marks, target_names)\n",
    "    plt.tight_layout()\n",
    "    plt.ylabel('True label')\n",
    "    plt.xlabel('Predicted label')"
   ]
  },
  {
   "cell_type": "code",
   "execution_count": 29,
   "metadata": {},
   "outputs": [
    {
     "name": "stdout",
     "output_type": "stream",
     "text": [
      "[[ 6  2]\n",
      " [ 3 28]]\n"
     ]
    },
    {
     "data": {
      "image/png": "[encoded data removed]",
      "text/plain": [
       "<Figure size 640x480 with 2 Axes>"
      ]
     },
     "metadata": {},
     "output_type": "display_data"
    }
   ],
   "source": [
    "from sklearn.metrics import confusion_matrix, accuracy_score, classification_report\n",
    "cm = confusion_matrix(Y_test, clf.predict(X_test))\n",
    "print(cm)\n",
    "plot_confusion_matrix(cm)"
   ]
  },
  {
   "cell_type": "code",
   "execution_count": 30,
   "metadata": {},
   "outputs": [
    {
     "name": "stdout",
     "output_type": "stream",
     "text": [
      "              precision    recall  f1-score   support\n",
      "\n",
      "           0       0.67      0.75      0.71         8\n",
      "           1       0.93      0.90      0.92        31\n",
      "\n",
      "    accuracy                           0.87        39\n",
      "   macro avg       0.80      0.83      0.81        39\n",
      "weighted avg       0.88      0.87      0.87        39\n",
      "\n"
     ]
    }
   ],
   "source": [
    "print(classification_report(Y_test, clf.predict(X_test)))"
   ]
  },
  {
   "cell_type": "markdown",
   "metadata": {
    "id": "QlR4JG4YMfOR"
   },
   "source": [
    "Building a Predictive System"
   ]
  },
  {
   "cell_type": "code",
   "execution_count": 31,
   "metadata": {
    "colab": {
     "base_uri": "https://localhost:8080/"
    },
    "executionInfo": {
     "elapsed": 13,
     "status": "ok",
     "timestamp": 1653200309507,
     "user": {
      "displayName": "siddhardh selvam",
      "userId": "13966379820454708749"
     },
     "user_tz": -330
    },
    "id": "w0FjSoO1MGBU",
    "outputId": "a4715754-198f-4927-9df3-e8a104a9b154"
   },
   "outputs": [
    {
     "name": "stdout",
     "output_type": "stream",
     "text": [
      "1/1 [==============================] - 0s 247ms/step\n",
      "[[0.28521785]]\n",
      "The Person has Parkinsons\n"
     ]
    }
   ],
   "source": [
    "input_data = (197.07600,206.89600,192.05500,0.00289,0.00001,0.00166,0.00168,0.00498,0.01098,0.09700,0.00563,0.00680,0.00802,0.01689,0.00339,26.77500,0.422229,0.741367,-7.348300,0.177551,1.743867,0.085569)\n",
    "\n",
    "# changing input data to a numpy array\n",
    "input_data_as_numpy_array = np.asarray(input_data)\n",
    "\n",
    "# reshape the numpy array\n",
    "input_data_reshaped = input_data_as_numpy_array.reshape(1,-1)\n",
    "\n",
    "prediction = model.predict(input_data_reshaped)\n",
    "print(prediction)\n",
    "\n",
    "\n",
    "if (prediction[0] == 0):\n",
    "  print(\"The Person does not have Parkinsons Disease\")\n",
    "\n",
    "else:\n",
    "  print(\"The Person has Parkinsons\")\n"
   ]
  },
  {
   "cell_type": "markdown",
   "metadata": {
    "id": "FCHCMHpshHU4"
   },
   "source": [
    "Saving the trained model"
   ]
  },
  {
   "cell_type": "code",
   "execution_count": 32,
   "metadata": {
    "executionInfo": {
     "elapsed": 12,
     "status": "ok",
     "timestamp": 1653200309507,
     "user": {
      "displayName": "siddhardh selvam",
      "userId": "13966379820454708749"
     },
     "user_tz": -330
    },
    "id": "cdmTOR4MhHCB"
   },
   "outputs": [],
   "source": [
    "import pickle"
   ]
  },
  {
   "cell_type": "code",
   "execution_count": 33,
   "metadata": {
    "executionInfo": {
     "elapsed": 13,
     "status": "ok",
     "timestamp": 1653200309508,
     "user": {
      "displayName": "siddhardh selvam",
      "userId": "13966379820454708749"
     },
     "user_tz": -330
    },
    "id": "4gN09lokhKuZ"
   },
   "outputs": [
    {
     "name": "stdout",
     "output_type": "stream",
     "text": [
      "Keras weights file (<HDF5 file \"variables.h5\" (mode r+)>) saving:\n",
      "...layers\\dense\n",
      "......vars\n",
      ".........0\n",
      ".........1\n",
      "...layers\\lstm\n",
      "......vars\n",
      "...layers\\lstm\\cell\n",
      "......vars\n",
      ".........0\n",
      ".........1\n",
      ".........2\n",
      "...metrics\\mean\n",
      "......vars\n",
      ".........0\n",
      ".........1\n",
      "...optimizer\n",
      "......vars\n",
      ".........0\n",
      ".........1\n",
      ".........10\n",
      ".........2\n",
      ".........3\n",
      ".........4\n",
      ".........5\n",
      ".........6\n",
      ".........7\n",
      ".........8\n",
      ".........9\n",
      "...vars\n",
      "Keras model archive saving:\n",
      "File Name                                             Modified             Size\n",
      "config.json                                    2023-03-20 12:44:57         1809\n",
      "metadata.json                                  2023-03-20 12:44:57           64\n",
      "variables.h5                                   2023-03-20 12:44:57        23648\n"
     ]
    }
   ],
   "source": [
    "filename = 'parkinsons_model.sav'\n",
    "pickle.dump(model, open(filename, 'wb'))"
   ]
  },
  {
   "cell_type": "code",
   "execution_count": 34,
   "metadata": {
    "executionInfo": {
     "elapsed": 14,
     "status": "ok",
     "timestamp": 1653200309510,
     "user": {
      "displayName": "siddhardh selvam",
      "userId": "13966379820454708749"
     },
     "user_tz": -330
    },
    "id": "IKW4D5CqhP5X"
   },
   "outputs": [
    {
     "name": "stdout",
     "output_type": "stream",
     "text": [
      "Keras model archive loading:\n",
      "File Name                                             Modified             Size\n",
      "config.json                                    2023-03-20 12:44:56         1809\n",
      "metadata.json                                  2023-03-20 12:44:56           64\n",
      "variables.h5                                   2023-03-20 12:44:56        23648\n",
      "Keras weights file (<HDF5 file \"variables.h5\" (mode r)>) loading:\n",
      "...layers\\dense\n",
      "......vars\n",
      ".........0\n",
      ".........1\n",
      "...layers\\lstm\n",
      "......vars\n",
      "...layers\\lstm\\cell\n",
      "......vars\n",
      ".........0\n",
      ".........1\n",
      ".........2\n",
      "...metrics\\mean\n",
      "......vars\n",
      ".........0\n",
      ".........1\n",
      "...optimizer\n",
      "......vars\n",
      ".........0\n",
      ".........1\n",
      ".........10\n",
      ".........2\n",
      ".........3\n",
      ".........4\n",
      ".........5\n",
      ".........6\n",
      ".........7\n",
      ".........8\n",
      ".........9\n",
      "...vars\n"
     ]
    }
   ],
   "source": [
    "# loading the saved model\n",
    "loaded_model = pickle.load(open('parkinsons_model.sav', 'rb'))"
   ]
  },
  {
   "cell_type": "code",
   "execution_count": 35,
   "metadata": {
    "colab": {
     "base_uri": "https://localhost:8080/"
    },
    "executionInfo": {
     "elapsed": 15,
     "status": "ok",
     "timestamp": 1653200309511,
     "user": {
      "displayName": "siddhardh selvam",
      "userId": "13966379820454708749"
     },
     "user_tz": -330
    },
    "id": "m8FO1U8hRVm_",
    "outputId": "079be68d-fb39-4544-9100-c6388b397091"
   },
   "outputs": [
    {
     "name": "stdout",
     "output_type": "stream",
     "text": [
      "MDVP:Fo(Hz)\n",
      "MDVP:Fhi(Hz)\n",
      "MDVP:Flo(Hz)\n",
      "MDVP:Jitter(%)\n",
      "MDVP:Jitter(Abs)\n",
      "MDVP:RAP\n",
      "MDVP:PPQ\n",
      "Jitter:DDP\n",
      "MDVP:Shimmer\n",
      "MDVP:Shimmer(dB)\n",
      "Shimmer:APQ3\n",
      "Shimmer:APQ5\n",
      "MDVP:APQ\n",
      "Shimmer:DDA\n",
      "NHR\n",
      "HNR\n",
      "RPDE\n",
      "DFA\n",
      "spread1\n",
      "spread2\n",
      "D2\n",
      "PPE\n"
     ]
    }
   ],
   "source": [
    "for column in X.columns:\n",
    "  print(column)"
   ]
  },
  {
   "cell_type": "code",
   "execution_count": null,
   "metadata": {
    "executionInfo": {
     "elapsed": 15,
     "status": "ok",
     "timestamp": 1653200309512,
     "user": {
      "displayName": "siddhardh selvam",
      "userId": "13966379820454708749"
     },
     "user_tz": -330
    },
    "id": "JPyuHFeDRXZU"
   },
   "outputs": [],
   "source": []
  },
  {
   "cell_type": "code",
   "execution_count": null,
   "metadata": {},
   "outputs": [],
   "source": []
  }
 ],
 "metadata": {
  "colab": {
   "authorship_tag": "ABX9TyPgH5xu9ZLOpcMFNkcpInRX",
   "collapsed_sections": [],
   "name": "Multiple disease prediction system - Parkinsons.ipynb",
   "provenance": []
  },
  "kernelspec": {
   "display_name": "Python 3 (ipykernel)",
   "language": "python",
   "name": "python3"
  },
  "language_info": {
   "codemirror_mode": {
    "name": "ipython",
    "version": 3
   },
   "file_extension": ".py",
   "mimetype": "text/x-python",
   "name": "python",
   "nbconvert_exporter": "python",
   "pygments_lexer": "ipython3",
   "version": "3.9.13"
  }
 },
 "nbformat": 4,
 "nbformat_minor": 1
}
