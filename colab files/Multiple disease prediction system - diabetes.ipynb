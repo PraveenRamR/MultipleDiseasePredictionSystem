{
 "cells": [
  {
   "cell_type": "markdown",
   "metadata": {
    "id": "LnPbntVRnfvV"
   },
   "source": [
    "Importing the Dependencies"
   ]
  },
  {
   "cell_type": "code",
   "execution_count": 5,
   "metadata": {
    "executionInfo": {
     "elapsed": 1362,
     "status": "ok",
     "timestamp": 1653200161038,
     "user": {
      "displayName": "siddhardh selvam",
      "userId": "13966379820454708749"
     },
     "user_tz": -330
    },
    "id": "-71UtHzNVWjB"
   },
   "outputs": [],
   "source": [
    "import numpy as np\n",
    "import pandas as pd\n",
    "from sklearn.model_selection import train_test_split\n",
    "from sklearn import svm\n",
    "from sklearn.metrics import accuracy_score"
   ]
  },
  {
   "cell_type": "markdown",
   "metadata": {
    "id": "bmfOfG8joBBy"
   },
   "source": [
    "Data Collection and Analysis\n",
    "\n",
    "PIMA Diabetes Dataset"
   ]
  },
  {
   "cell_type": "code",
   "execution_count": 6,
   "metadata": {
    "executionInfo": {
     "elapsed": 37,
     "status": "ok",
     "timestamp": 1653200161039,
     "user": {
      "displayName": "siddhardh selvam",
      "userId": "13966379820454708749"
     },
     "user_tz": -330
    },
    "id": "Xpw6Mj_pn_TL"
   },
   "outputs": [],
   "source": [
    "# loading the diabetes dataset to a pandas DataFrame\n",
    "diabetes_dataset = pd.read_csv('diabetes.csv') "
   ]
  },
  {
   "cell_type": "code",
   "execution_count": 7,
   "metadata": {
    "colab": {
     "base_uri": "https://localhost:8080/",
     "height": 206
    },
    "executionInfo": {
     "elapsed": 36,
     "status": "ok",
     "timestamp": 1653200161040,
     "user": {
      "displayName": "siddhardh selvam",
      "userId": "13966379820454708749"
     },
     "user_tz": -330
    },
    "id": "-tjO09ncovoh",
    "outputId": "f4faaf8a-3fc8-413a-bbd4-bb272589a73c"
   },
   "outputs": [
    {
     "data": {
      "text/html": [
       "<div>\n",
       "<style scoped>\n",
       "    .dataframe tbody tr th:only-of-type {\n",
       "        vertical-align: middle;\n",
       "    }\n",
       "\n",
       "    .dataframe tbody tr th {\n",
       "        vertical-align: top;\n",
       "    }\n",
       "\n",
       "    .dataframe thead th {\n",
       "        text-align: right;\n",
       "    }\n",
       "</style>\n",
       "<table border=\"1\" class=\"dataframe\">\n",
       "  <thead>\n",
       "    <tr style=\"text-align: right;\">\n",
       "      <th></th>\n",
       "      <th>Pregnancies</th>\n",
       "      <th>Glucose</th>\n",
       "      <th>BloodPressure</th>\n",
       "      <th>SkinThickness</th>\n",
       "      <th>Insulin</th>\n",
       "      <th>BMI</th>\n",
       "      <th>DiabetesPedigreeFunction</th>\n",
       "      <th>Age</th>\n",
       "      <th>Outcome</th>\n",
       "    </tr>\n",
       "  </thead>\n",
       "  <tbody>\n",
       "    <tr>\n",
       "      <th>0</th>\n",
       "      <td>6</td>\n",
       "      <td>148</td>\n",
       "      <td>72</td>\n",
       "      <td>35</td>\n",
       "      <td>0</td>\n",
       "      <td>33.6</td>\n",
       "      <td>0.627</td>\n",
       "      <td>50</td>\n",
       "      <td>1</td>\n",
       "    </tr>\n",
       "    <tr>\n",
       "      <th>1</th>\n",
       "      <td>1</td>\n",
       "      <td>85</td>\n",
       "      <td>66</td>\n",
       "      <td>29</td>\n",
       "      <td>0</td>\n",
       "      <td>26.6</td>\n",
       "      <td>0.351</td>\n",
       "      <td>31</td>\n",
       "      <td>0</td>\n",
       "    </tr>\n",
       "    <tr>\n",
       "      <th>2</th>\n",
       "      <td>8</td>\n",
       "      <td>183</td>\n",
       "      <td>64</td>\n",
       "      <td>0</td>\n",
       "      <td>0</td>\n",
       "      <td>23.3</td>\n",
       "      <td>0.672</td>\n",
       "      <td>32</td>\n",
       "      <td>1</td>\n",
       "    </tr>\n",
       "    <tr>\n",
       "      <th>3</th>\n",
       "      <td>1</td>\n",
       "      <td>89</td>\n",
       "      <td>66</td>\n",
       "      <td>23</td>\n",
       "      <td>94</td>\n",
       "      <td>28.1</td>\n",
       "      <td>0.167</td>\n",
       "      <td>21</td>\n",
       "      <td>0</td>\n",
       "    </tr>\n",
       "    <tr>\n",
       "      <th>4</th>\n",
       "      <td>0</td>\n",
       "      <td>137</td>\n",
       "      <td>40</td>\n",
       "      <td>35</td>\n",
       "      <td>168</td>\n",
       "      <td>43.1</td>\n",
       "      <td>2.288</td>\n",
       "      <td>33</td>\n",
       "      <td>1</td>\n",
       "    </tr>\n",
       "  </tbody>\n",
       "</table>\n",
       "</div>"
      ],
      "text/plain": [
       "   Pregnancies  Glucose  BloodPressure  SkinThickness  Insulin   BMI  \\\n",
       "0            6      148             72             35        0  33.6   \n",
       "1            1       85             66             29        0  26.6   \n",
       "2            8      183             64              0        0  23.3   \n",
       "3            1       89             66             23       94  28.1   \n",
       "4            0      137             40             35      168  43.1   \n",
       "\n",
       "   DiabetesPedigreeFunction  Age  Outcome  \n",
       "0                     0.627   50        1  \n",
       "1                     0.351   31        0  \n",
       "2                     0.672   32        1  \n",
       "3                     0.167   21        0  \n",
       "4                     2.288   33        1  "
      ]
     },
     "execution_count": 7,
     "metadata": {},
     "output_type": "execute_result"
    }
   ],
   "source": [
    "# printing the first 5 rows of the dataset\n",
    "diabetes_dataset.head()"
   ]
  },
  {
   "cell_type": "code",
   "execution_count": 8,
   "metadata": {
    "colab": {
     "base_uri": "https://localhost:8080/"
    },
    "executionInfo": {
     "elapsed": 28,
     "status": "ok",
     "timestamp": 1653200161040,
     "user": {
      "displayName": "siddhardh selvam",
      "userId": "13966379820454708749"
     },
     "user_tz": -330
    },
    "id": "lynParo6pEMB",
    "outputId": "b8e97658-d5ae-4407-e3c0-f4b7b0d0321e"
   },
   "outputs": [
    {
     "data": {
      "text/plain": [
       "(768, 9)"
      ]
     },
     "execution_count": 8,
     "metadata": {},
     "output_type": "execute_result"
    }
   ],
   "source": [
    "# number of rows and Columns in this dataset\n",
    "diabetes_dataset.shape"
   ]
  },
  {
   "cell_type": "code",
   "execution_count": 9,
   "metadata": {
    "colab": {
     "base_uri": "https://localhost:8080/",
     "height": 300
    },
    "executionInfo": {
     "elapsed": 26,
     "status": "ok",
     "timestamp": 1653200161041,
     "user": {
      "displayName": "siddhardh selvam",
      "userId": "13966379820454708749"
     },
     "user_tz": -330
    },
    "id": "3NDJOlrEpmoL",
    "outputId": "1a166b9c-0ec1-42dc-e0f4-32924aa1ab65"
   },
   "outputs": [
    {
     "data": {
      "text/html": [
       "<div>\n",
       "<style scoped>\n",
       "    .dataframe tbody tr th:only-of-type {\n",
       "        vertical-align: middle;\n",
       "    }\n",
       "\n",
       "    .dataframe tbody tr th {\n",
       "        vertical-align: top;\n",
       "    }\n",
       "\n",
       "    .dataframe thead th {\n",
       "        text-align: right;\n",
       "    }\n",
       "</style>\n",
       "<table border=\"1\" class=\"dataframe\">\n",
       "  <thead>\n",
       "    <tr style=\"text-align: right;\">\n",
       "      <th></th>\n",
       "      <th>Pregnancies</th>\n",
       "      <th>Glucose</th>\n",
       "      <th>BloodPressure</th>\n",
       "      <th>SkinThickness</th>\n",
       "      <th>Insulin</th>\n",
       "      <th>BMI</th>\n",
       "      <th>DiabetesPedigreeFunction</th>\n",
       "      <th>Age</th>\n",
       "      <th>Outcome</th>\n",
       "    </tr>\n",
       "  </thead>\n",
       "  <tbody>\n",
       "    <tr>\n",
       "      <th>count</th>\n",
       "      <td>768.000000</td>\n",
       "      <td>768.000000</td>\n",
       "      <td>768.000000</td>\n",
       "      <td>768.000000</td>\n",
       "      <td>768.000000</td>\n",
       "      <td>768.000000</td>\n",
       "      <td>768.000000</td>\n",
       "      <td>768.000000</td>\n",
       "      <td>768.000000</td>\n",
       "    </tr>\n",
       "    <tr>\n",
       "      <th>mean</th>\n",
       "      <td>3.845052</td>\n",
       "      <td>120.894531</td>\n",
       "      <td>69.105469</td>\n",
       "      <td>20.536458</td>\n",
       "      <td>79.799479</td>\n",
       "      <td>31.992578</td>\n",
       "      <td>0.471876</td>\n",
       "      <td>33.240885</td>\n",
       "      <td>0.348958</td>\n",
       "    </tr>\n",
       "    <tr>\n",
       "      <th>std</th>\n",
       "      <td>3.369578</td>\n",
       "      <td>31.972618</td>\n",
       "      <td>19.355807</td>\n",
       "      <td>15.952218</td>\n",
       "      <td>115.244002</td>\n",
       "      <td>7.884160</td>\n",
       "      <td>0.331329</td>\n",
       "      <td>11.760232</td>\n",
       "      <td>0.476951</td>\n",
       "    </tr>\n",
       "    <tr>\n",
       "      <th>min</th>\n",
       "      <td>0.000000</td>\n",
       "      <td>0.000000</td>\n",
       "      <td>0.000000</td>\n",
       "      <td>0.000000</td>\n",
       "      <td>0.000000</td>\n",
       "      <td>0.000000</td>\n",
       "      <td>0.078000</td>\n",
       "      <td>21.000000</td>\n",
       "      <td>0.000000</td>\n",
       "    </tr>\n",
       "    <tr>\n",
       "      <th>25%</th>\n",
       "      <td>1.000000</td>\n",
       "      <td>99.000000</td>\n",
       "      <td>62.000000</td>\n",
       "      <td>0.000000</td>\n",
       "      <td>0.000000</td>\n",
       "      <td>27.300000</td>\n",
       "      <td>0.243750</td>\n",
       "      <td>24.000000</td>\n",
       "      <td>0.000000</td>\n",
       "    </tr>\n",
       "    <tr>\n",
       "      <th>50%</th>\n",
       "      <td>3.000000</td>\n",
       "      <td>117.000000</td>\n",
       "      <td>72.000000</td>\n",
       "      <td>23.000000</td>\n",
       "      <td>30.500000</td>\n",
       "      <td>32.000000</td>\n",
       "      <td>0.372500</td>\n",
       "      <td>29.000000</td>\n",
       "      <td>0.000000</td>\n",
       "    </tr>\n",
       "    <tr>\n",
       "      <th>75%</th>\n",
       "      <td>6.000000</td>\n",
       "      <td>140.250000</td>\n",
       "      <td>80.000000</td>\n",
       "      <td>32.000000</td>\n",
       "      <td>127.250000</td>\n",
       "      <td>36.600000</td>\n",
       "      <td>0.626250</td>\n",
       "      <td>41.000000</td>\n",
       "      <td>1.000000</td>\n",
       "    </tr>\n",
       "    <tr>\n",
       "      <th>max</th>\n",
       "      <td>17.000000</td>\n",
       "      <td>199.000000</td>\n",
       "      <td>122.000000</td>\n",
       "      <td>99.000000</td>\n",
       "      <td>846.000000</td>\n",
       "      <td>67.100000</td>\n",
       "      <td>2.420000</td>\n",
       "      <td>81.000000</td>\n",
       "      <td>1.000000</td>\n",
       "    </tr>\n",
       "  </tbody>\n",
       "</table>\n",
       "</div>"
      ],
      "text/plain": [
       "       Pregnancies     Glucose  BloodPressure  SkinThickness     Insulin  \\\n",
       "count   768.000000  768.000000     768.000000     768.000000  768.000000   \n",
       "mean      3.845052  120.894531      69.105469      20.536458   79.799479   \n",
       "std       3.369578   31.972618      19.355807      15.952218  115.244002   \n",
       "min       0.000000    0.000000       0.000000       0.000000    0.000000   \n",
       "25%       1.000000   99.000000      62.000000       0.000000    0.000000   \n",
       "50%       3.000000  117.000000      72.000000      23.000000   30.500000   \n",
       "75%       6.000000  140.250000      80.000000      32.000000  127.250000   \n",
       "max      17.000000  199.000000     122.000000      99.000000  846.000000   \n",
       "\n",
       "              BMI  DiabetesPedigreeFunction         Age     Outcome  \n",
       "count  768.000000                768.000000  768.000000  768.000000  \n",
       "mean    31.992578                  0.471876   33.240885    0.348958  \n",
       "std      7.884160                  0.331329   11.760232    0.476951  \n",
       "min      0.000000                  0.078000   21.000000    0.000000  \n",
       "25%     27.300000                  0.243750   24.000000    0.000000  \n",
       "50%     32.000000                  0.372500   29.000000    0.000000  \n",
       "75%     36.600000                  0.626250   41.000000    1.000000  \n",
       "max     67.100000                  2.420000   81.000000    1.000000  "
      ]
     },
     "execution_count": 9,
     "metadata": {},
     "output_type": "execute_result"
    }
   ],
   "source": [
    "# getting the statistical measures of the data\n",
    "diabetes_dataset.describe()"
   ]
  },
  {
   "cell_type": "code",
   "execution_count": 10,
   "metadata": {
    "colab": {
     "base_uri": "https://localhost:8080/"
    },
    "executionInfo": {
     "elapsed": 27,
     "status": "ok",
     "timestamp": 1653200161043,
     "user": {
      "displayName": "siddhardh selvam",
      "userId": "13966379820454708749"
     },
     "user_tz": -330
    },
    "id": "LrpHzaGpp5dQ",
    "outputId": "5da75a35-5065-4c08-abb1-13bc921dec5a"
   },
   "outputs": [
    {
     "data": {
      "text/plain": [
       "Outcome\n",
       "0    500\n",
       "1    268\n",
       "Name: count, dtype: int64"
      ]
     },
     "execution_count": 10,
     "metadata": {},
     "output_type": "execute_result"
    }
   ],
   "source": [
    "diabetes_dataset['Outcome'].value_counts()"
   ]
  },
  {
   "cell_type": "markdown",
   "metadata": {
    "id": "cB1qRaNcqeh5"
   },
   "source": [
    "0 --> Non-Diabetic\n",
    "\n",
    "1 --> Diabetic"
   ]
  },
  {
   "cell_type": "code",
   "execution_count": 11,
   "metadata": {
    "colab": {
     "base_uri": "https://localhost:8080/",
     "height": 143
    },
    "executionInfo": {
     "elapsed": 27,
     "status": "ok",
     "timestamp": 1653200161045,
     "user": {
      "displayName": "siddhardh selvam",
      "userId": "13966379820454708749"
     },
     "user_tz": -330
    },
    "id": "I6MWR0k_qSCK",
    "outputId": "1e817bc0-c41e-4181-a8e5-37885e765862"
   },
   "outputs": [
    {
     "data": {
      "text/html": [
       "<div>\n",
       "<style scoped>\n",
       "    .dataframe tbody tr th:only-of-type {\n",
       "        vertical-align: middle;\n",
       "    }\n",
       "\n",
       "    .dataframe tbody tr th {\n",
       "        vertical-align: top;\n",
       "    }\n",
       "\n",
       "    .dataframe thead th {\n",
       "        text-align: right;\n",
       "    }\n",
       "</style>\n",
       "<table border=\"1\" class=\"dataframe\">\n",
       "  <thead>\n",
       "    <tr style=\"text-align: right;\">\n",
       "      <th></th>\n",
       "      <th>Pregnancies</th>\n",
       "      <th>Glucose</th>\n",
       "      <th>BloodPressure</th>\n",
       "      <th>SkinThickness</th>\n",
       "      <th>Insulin</th>\n",
       "      <th>BMI</th>\n",
       "      <th>DiabetesPedigreeFunction</th>\n",
       "      <th>Age</th>\n",
       "    </tr>\n",
       "    <tr>\n",
       "      <th>Outcome</th>\n",
       "      <th></th>\n",
       "      <th></th>\n",
       "      <th></th>\n",
       "      <th></th>\n",
       "      <th></th>\n",
       "      <th></th>\n",
       "      <th></th>\n",
       "      <th></th>\n",
       "    </tr>\n",
       "  </thead>\n",
       "  <tbody>\n",
       "    <tr>\n",
       "      <th>0</th>\n",
       "      <td>3.298000</td>\n",
       "      <td>109.980000</td>\n",
       "      <td>68.184000</td>\n",
       "      <td>19.664000</td>\n",
       "      <td>68.792000</td>\n",
       "      <td>30.304200</td>\n",
       "      <td>0.429734</td>\n",
       "      <td>31.190000</td>\n",
       "    </tr>\n",
       "    <tr>\n",
       "      <th>1</th>\n",
       "      <td>4.865672</td>\n",
       "      <td>141.257463</td>\n",
       "      <td>70.824627</td>\n",
       "      <td>22.164179</td>\n",
       "      <td>100.335821</td>\n",
       "      <td>35.142537</td>\n",
       "      <td>0.550500</td>\n",
       "      <td>37.067164</td>\n",
       "    </tr>\n",
       "  </tbody>\n",
       "</table>\n",
       "</div>"
      ],
      "text/plain": [
       "         Pregnancies     Glucose  BloodPressure  SkinThickness     Insulin  \\\n",
       "Outcome                                                                      \n",
       "0           3.298000  109.980000      68.184000      19.664000   68.792000   \n",
       "1           4.865672  141.257463      70.824627      22.164179  100.335821   \n",
       "\n",
       "               BMI  DiabetesPedigreeFunction        Age  \n",
       "Outcome                                                  \n",
       "0        30.304200                  0.429734  31.190000  \n",
       "1        35.142537                  0.550500  37.067164  "
      ]
     },
     "execution_count": 11,
     "metadata": {},
     "output_type": "execute_result"
    }
   ],
   "source": [
    "diabetes_dataset.groupby('Outcome').mean()"
   ]
  },
  {
   "cell_type": "code",
   "execution_count": 12,
   "metadata": {
    "executionInfo": {
     "elapsed": 27,
     "status": "ok",
     "timestamp": 1653200161046,
     "user": {
      "displayName": "siddhardh selvam",
      "userId": "13966379820454708749"
     },
     "user_tz": -330
    },
    "id": "RoDW7l9mqqHZ"
   },
   "outputs": [],
   "source": [
    "# separating the data and labels\n",
    "X = diabetes_dataset.drop(columns = 'Outcome', axis=1)\n",
    "Y = diabetes_dataset['Outcome']"
   ]
  },
  {
   "cell_type": "code",
   "execution_count": 13,
   "metadata": {
    "colab": {
     "base_uri": "https://localhost:8080/"
    },
    "executionInfo": {
     "elapsed": 26,
     "status": "ok",
     "timestamp": 1653200161046,
     "user": {
      "displayName": "siddhardh selvam",
      "userId": "13966379820454708749"
     },
     "user_tz": -330
    },
    "id": "3eiRW9M9raMm",
    "outputId": "107aefe8-a40e-4a8c-efa4-e6a4929b8343"
   },
   "outputs": [
    {
     "name": "stdout",
     "output_type": "stream",
     "text": [
      "     Pregnancies  Glucose  BloodPressure  SkinThickness  Insulin   BMI  \\\n",
      "0              6      148             72             35        0  33.6   \n",
      "1              1       85             66             29        0  26.6   \n",
      "2              8      183             64              0        0  23.3   \n",
      "3              1       89             66             23       94  28.1   \n",
      "4              0      137             40             35      168  43.1   \n",
      "..           ...      ...            ...            ...      ...   ...   \n",
      "763           10      101             76             48      180  32.9   \n",
      "764            2      122             70             27        0  36.8   \n",
      "765            5      121             72             23      112  26.2   \n",
      "766            1      126             60              0        0  30.1   \n",
      "767            1       93             70             31        0  30.4   \n",
      "\n",
      "     DiabetesPedigreeFunction  Age  \n",
      "0                       0.627   50  \n",
      "1                       0.351   31  \n",
      "2                       0.672   32  \n",
      "3                       0.167   21  \n",
      "4                       2.288   33  \n",
      "..                        ...  ...  \n",
      "763                     0.171   63  \n",
      "764                     0.340   27  \n",
      "765                     0.245   30  \n",
      "766                     0.349   47  \n",
      "767                     0.315   23  \n",
      "\n",
      "[768 rows x 8 columns]\n"
     ]
    }
   ],
   "source": [
    "print(X)"
   ]
  },
  {
   "cell_type": "code",
   "execution_count": 14,
   "metadata": {
    "colab": {
     "base_uri": "https://localhost:8080/"
    },
    "executionInfo": {
     "elapsed": 25,
     "status": "ok",
     "timestamp": 1653200161047,
     "user": {
      "displayName": "siddhardh selvam",
      "userId": "13966379820454708749"
     },
     "user_tz": -330
    },
    "id": "AoxgTJAMrcCl",
    "outputId": "afb40f51-fd9c-43ff-c51f-7b49a7f9b152"
   },
   "outputs": [
    {
     "name": "stdout",
     "output_type": "stream",
     "text": [
      "0      1\n",
      "1      0\n",
      "2      1\n",
      "3      0\n",
      "4      1\n",
      "      ..\n",
      "763    0\n",
      "764    0\n",
      "765    0\n",
      "766    1\n",
      "767    0\n",
      "Name: Outcome, Length: 768, dtype: int64\n"
     ]
    }
   ],
   "source": [
    "print(Y)"
   ]
  },
  {
   "cell_type": "markdown",
   "metadata": {
    "id": "gHciEFkxsoQP"
   },
   "source": [
    "Train Test Split"
   ]
  },
  {
   "cell_type": "code",
   "execution_count": 15,
   "metadata": {
    "executionInfo": {
     "elapsed": 21,
     "status": "ok",
     "timestamp": 1653200161047,
     "user": {
      "displayName": "siddhardh selvam",
      "userId": "13966379820454708749"
     },
     "user_tz": -330
    },
    "id": "AEfKGj_yslvD"
   },
   "outputs": [],
   "source": [
    "X_train, X_test, Y_train, Y_test = train_test_split(X,Y, test_size = 0.2, stratify=Y, random_state=2)"
   ]
  },
  {
   "cell_type": "code",
   "execution_count": 16,
   "metadata": {
    "colab": {
     "base_uri": "https://localhost:8080/"
    },
    "executionInfo": {
     "elapsed": 21,
     "status": "ok",
     "timestamp": 1653200161048,
     "user": {
      "displayName": "siddhardh selvam",
      "userId": "13966379820454708749"
     },
     "user_tz": -330
    },
    "id": "DR05T-o0t3FQ",
    "outputId": "1e35e84b-b1ac-4cf3-c2af-31eb3bf2e71c"
   },
   "outputs": [
    {
     "name": "stdout",
     "output_type": "stream",
     "text": [
      "(768, 8) (614, 8) (154, 8)\n"
     ]
    }
   ],
   "source": [
    "print(X.shape, X_train.shape, X_test.shape)"
   ]
  },
  {
   "cell_type": "code",
   "execution_count": 17,
   "metadata": {},
   "outputs": [
    {
     "data": {
      "text/html": [
       "<div>\n",
       "<style scoped>\n",
       "    .dataframe tbody tr th:only-of-type {\n",
       "        vertical-align: middle;\n",
       "    }\n",
       "\n",
       "    .dataframe tbody tr th {\n",
       "        vertical-align: top;\n",
       "    }\n",
       "\n",
       "    .dataframe thead th {\n",
       "        text-align: right;\n",
       "    }\n",
       "</style>\n",
       "<table border=\"1\" class=\"dataframe\">\n",
       "  <thead>\n",
       "    <tr style=\"text-align: right;\">\n",
       "      <th></th>\n",
       "      <th>Pregnancies</th>\n",
       "      <th>Glucose</th>\n",
       "      <th>BloodPressure</th>\n",
       "      <th>SkinThickness</th>\n",
       "      <th>Insulin</th>\n",
       "      <th>BMI</th>\n",
       "      <th>DiabetesPedigreeFunction</th>\n",
       "      <th>Age</th>\n",
       "    </tr>\n",
       "  </thead>\n",
       "  <tbody>\n",
       "    <tr>\n",
       "      <th>619</th>\n",
       "      <td>0</td>\n",
       "      <td>119</td>\n",
       "      <td>0</td>\n",
       "      <td>0</td>\n",
       "      <td>0</td>\n",
       "      <td>32.4</td>\n",
       "      <td>0.141</td>\n",
       "      <td>24</td>\n",
       "    </tr>\n",
       "    <tr>\n",
       "      <th>329</th>\n",
       "      <td>6</td>\n",
       "      <td>105</td>\n",
       "      <td>70</td>\n",
       "      <td>32</td>\n",
       "      <td>68</td>\n",
       "      <td>30.8</td>\n",
       "      <td>0.122</td>\n",
       "      <td>37</td>\n",
       "    </tr>\n",
       "    <tr>\n",
       "      <th>13</th>\n",
       "      <td>1</td>\n",
       "      <td>189</td>\n",
       "      <td>60</td>\n",
       "      <td>23</td>\n",
       "      <td>846</td>\n",
       "      <td>30.1</td>\n",
       "      <td>0.398</td>\n",
       "      <td>59</td>\n",
       "    </tr>\n",
       "    <tr>\n",
       "      <th>476</th>\n",
       "      <td>2</td>\n",
       "      <td>105</td>\n",
       "      <td>80</td>\n",
       "      <td>45</td>\n",
       "      <td>191</td>\n",
       "      <td>33.7</td>\n",
       "      <td>0.711</td>\n",
       "      <td>29</td>\n",
       "    </tr>\n",
       "    <tr>\n",
       "      <th>45</th>\n",
       "      <td>0</td>\n",
       "      <td>180</td>\n",
       "      <td>66</td>\n",
       "      <td>39</td>\n",
       "      <td>0</td>\n",
       "      <td>42.0</td>\n",
       "      <td>1.893</td>\n",
       "      <td>25</td>\n",
       "    </tr>\n",
       "    <tr>\n",
       "      <th>...</th>\n",
       "      <td>...</td>\n",
       "      <td>...</td>\n",
       "      <td>...</td>\n",
       "      <td>...</td>\n",
       "      <td>...</td>\n",
       "      <td>...</td>\n",
       "      <td>...</td>\n",
       "      <td>...</td>\n",
       "    </tr>\n",
       "    <tr>\n",
       "      <th>303</th>\n",
       "      <td>5</td>\n",
       "      <td>115</td>\n",
       "      <td>98</td>\n",
       "      <td>0</td>\n",
       "      <td>0</td>\n",
       "      <td>52.9</td>\n",
       "      <td>0.209</td>\n",
       "      <td>28</td>\n",
       "    </tr>\n",
       "    <tr>\n",
       "      <th>592</th>\n",
       "      <td>3</td>\n",
       "      <td>132</td>\n",
       "      <td>80</td>\n",
       "      <td>0</td>\n",
       "      <td>0</td>\n",
       "      <td>34.4</td>\n",
       "      <td>0.402</td>\n",
       "      <td>44</td>\n",
       "    </tr>\n",
       "    <tr>\n",
       "      <th>559</th>\n",
       "      <td>11</td>\n",
       "      <td>85</td>\n",
       "      <td>74</td>\n",
       "      <td>0</td>\n",
       "      <td>0</td>\n",
       "      <td>30.1</td>\n",
       "      <td>0.300</td>\n",
       "      <td>35</td>\n",
       "    </tr>\n",
       "    <tr>\n",
       "      <th>725</th>\n",
       "      <td>4</td>\n",
       "      <td>112</td>\n",
       "      <td>78</td>\n",
       "      <td>40</td>\n",
       "      <td>0</td>\n",
       "      <td>39.4</td>\n",
       "      <td>0.236</td>\n",
       "      <td>38</td>\n",
       "    </tr>\n",
       "    <tr>\n",
       "      <th>253</th>\n",
       "      <td>0</td>\n",
       "      <td>86</td>\n",
       "      <td>68</td>\n",
       "      <td>32</td>\n",
       "      <td>0</td>\n",
       "      <td>35.8</td>\n",
       "      <td>0.238</td>\n",
       "      <td>25</td>\n",
       "    </tr>\n",
       "  </tbody>\n",
       "</table>\n",
       "<p>614 rows × 8 columns</p>\n",
       "</div>"
      ],
      "text/plain": [
       "     Pregnancies  Glucose  BloodPressure  SkinThickness  Insulin   BMI  \\\n",
       "619            0      119              0              0        0  32.4   \n",
       "329            6      105             70             32       68  30.8   \n",
       "13             1      189             60             23      846  30.1   \n",
       "476            2      105             80             45      191  33.7   \n",
       "45             0      180             66             39        0  42.0   \n",
       "..           ...      ...            ...            ...      ...   ...   \n",
       "303            5      115             98              0        0  52.9   \n",
       "592            3      132             80              0        0  34.4   \n",
       "559           11       85             74              0        0  30.1   \n",
       "725            4      112             78             40        0  39.4   \n",
       "253            0       86             68             32        0  35.8   \n",
       "\n",
       "     DiabetesPedigreeFunction  Age  \n",
       "619                     0.141   24  \n",
       "329                     0.122   37  \n",
       "13                      0.398   59  \n",
       "476                     0.711   29  \n",
       "45                      1.893   25  \n",
       "..                        ...  ...  \n",
       "303                     0.209   28  \n",
       "592                     0.402   44  \n",
       "559                     0.300   35  \n",
       "725                     0.236   38  \n",
       "253                     0.238   25  \n",
       "\n",
       "[614 rows x 8 columns]"
      ]
     },
     "execution_count": 17,
     "metadata": {},
     "output_type": "execute_result"
    }
   ],
   "source": [
    "p=pd.DataFrame(X_train)\n",
    "p"
   ]
  },
  {
   "cell_type": "markdown",
   "metadata": {
    "id": "ElJ3tkOtuC_n"
   },
   "source": [
    "Training the Model"
   ]
  },
  {
   "cell_type": "markdown",
   "metadata": {},
   "source": [
    "# RNN"
   ]
  },
  {
   "cell_type": "code",
   "execution_count": 18,
   "metadata": {},
   "outputs": [
    {
     "name": "stdout",
     "output_type": "stream",
     "text": [
      "WARNING:tensorflow:From C:\\Users\\vigne\\anaconda3\\Lib\\site-packages\\keras\\src\\losses.py:2976: The name tf.losses.sparse_softmax_cross_entropy is deprecated. Please use tf.compat.v1.losses.sparse_softmax_cross_entropy instead.\n",
      "\n"
     ]
    }
   ],
   "source": [
    "from sklearn.metrics import mean_squared_error, mean_absolute_error, explained_variance_score, r2_score \n",
    "from sklearn.metrics import mean_poisson_deviance, mean_gamma_deviance, accuracy_score\n",
    "import tensorflow as tf\n",
    "from tensorflow.keras.models import Sequential\n",
    "from tensorflow.keras.layers import Dense, Dropout\n",
    "from tensorflow.keras.layers import LSTM\n"
   ]
  },
  {
   "cell_type": "code",
   "execution_count": 19,
   "metadata": {},
   "outputs": [
    {
     "name": "stdout",
     "output_type": "stream",
     "text": [
      "WARNING:tensorflow:From C:\\Users\\vigne\\anaconda3\\Lib\\site-packages\\keras\\src\\backend.py:873: The name tf.get_default_graph is deprecated. Please use tf.compat.v1.get_default_graph instead.\n",
      "\n",
      "WARNING:tensorflow:From C:\\Users\\vigne\\anaconda3\\Lib\\site-packages\\keras\\src\\optimizers\\__init__.py:309: The name tf.train.Optimizer is deprecated. Please use tf.compat.v1.train.Optimizer instead.\n",
      "\n"
     ]
    }
   ],
   "source": [
    "model=Sequential()\n",
    "\n",
    "model.add(LSTM(10,input_shape=(None,1),activation=\"relu\"))\n",
    "\n",
    "model.add(Dense(1))\n",
    "\n",
    "model.compile(loss=\"mean_squared_error\",optimizer=\"adam\")"
   ]
  },
  {
   "cell_type": "code",
   "execution_count": 20,
   "metadata": {},
   "outputs": [
    {
     "name": "stdout",
     "output_type": "stream",
     "text": [
      "Epoch 1/200\n",
      "WARNING:tensorflow:From C:\\Users\\vigne\\anaconda3\\Lib\\site-packages\\keras\\src\\utils\\tf_utils.py:492: The name tf.ragged.RaggedTensorValue is deprecated. Please use tf.compat.v1.ragged.RaggedTensorValue instead.\n",
      "\n",
      "20/20 [==============================] - 3s 30ms/step - loss: 0.4313 - val_loss: 0.4095\n",
      "Epoch 2/200\n",
      "20/20 [==============================] - 0s 7ms/step - loss: 0.3879 - val_loss: 0.3720\n",
      "Epoch 3/200\n",
      "20/20 [==============================] - 0s 7ms/step - loss: 0.3545 - val_loss: 0.3396\n",
      "Epoch 4/200\n",
      "20/20 [==============================] - 0s 8ms/step - loss: 0.3212 - val_loss: 0.3038\n",
      "Epoch 5/200\n",
      "20/20 [==============================] - 0s 9ms/step - loss: 0.2876 - val_loss: 0.2732\n",
      "Epoch 6/200\n",
      "20/20 [==============================] - 0s 9ms/step - loss: 0.2642 - val_loss: 0.2549\n",
      "Epoch 7/200\n",
      "20/20 [==============================] - 0s 8ms/step - loss: 0.2486 - val_loss: 0.2446\n",
      "Epoch 8/200\n",
      "20/20 [==============================] - 0s 8ms/step - loss: 0.2409 - val_loss: 0.2426\n",
      "Epoch 9/200\n",
      "20/20 [==============================] - 0s 9ms/step - loss: 0.2383 - val_loss: 0.2418\n",
      "Epoch 10/200\n",
      "20/20 [==============================] - 0s 8ms/step - loss: 0.2363 - val_loss: 0.2402\n",
      "Epoch 11/200\n",
      "20/20 [==============================] - 0s 9ms/step - loss: 0.2348 - val_loss: 0.2383\n",
      "Epoch 12/200\n",
      "20/20 [==============================] - 0s 9ms/step - loss: 0.2332 - val_loss: 0.2366\n",
      "Epoch 13/200\n",
      "20/20 [==============================] - 0s 9ms/step - loss: 0.2319 - val_loss: 0.2331\n",
      "Epoch 14/200\n",
      "20/20 [==============================] - 0s 10ms/step - loss: 0.2292 - val_loss: 0.2320\n",
      "Epoch 15/200\n",
      "20/20 [==============================] - 0s 9ms/step - loss: 0.2286 - val_loss: 0.2313\n",
      "Epoch 16/200\n",
      "20/20 [==============================] - 0s 9ms/step - loss: 0.2281 - val_loss: 0.2308\n",
      "Epoch 17/200\n",
      "20/20 [==============================] - 0s 8ms/step - loss: 0.2276 - val_loss: 0.2304\n",
      "Epoch 18/200\n",
      "20/20 [==============================] - 0s 9ms/step - loss: 0.2281 - val_loss: 0.2301\n",
      "Epoch 19/200\n",
      "20/20 [==============================] - 0s 8ms/step - loss: 0.2274 - val_loss: 0.2298\n",
      "Epoch 20/200\n",
      "20/20 [==============================] - 0s 9ms/step - loss: 0.2272 - val_loss: 0.2301\n",
      "Epoch 21/200\n",
      "20/20 [==============================] - 0s 10ms/step - loss: 0.2268 - val_loss: 0.2295\n",
      "Epoch 22/200\n",
      "20/20 [==============================] - 0s 10ms/step - loss: 0.2266 - val_loss: 0.2290\n",
      "Epoch 23/200\n",
      "20/20 [==============================] - 0s 8ms/step - loss: 0.2262 - val_loss: 0.2287\n",
      "Epoch 24/200\n",
      "20/20 [==============================] - 0s 9ms/step - loss: 0.2255 - val_loss: 0.2276\n",
      "Epoch 25/200\n",
      "20/20 [==============================] - 0s 7ms/step - loss: 0.2247 - val_loss: 0.2265\n",
      "Epoch 26/200\n",
      "20/20 [==============================] - 0s 6ms/step - loss: 0.2238 - val_loss: 0.2255\n",
      "Epoch 27/200\n",
      "20/20 [==============================] - 0s 9ms/step - loss: 0.2234 - val_loss: 0.2258\n",
      "Epoch 28/200\n",
      "20/20 [==============================] - 0s 7ms/step - loss: 0.2228 - val_loss: 0.2245\n",
      "Epoch 29/200\n",
      "20/20 [==============================] - 0s 9ms/step - loss: 0.2216 - val_loss: 0.2217\n",
      "Epoch 30/200\n",
      "20/20 [==============================] - 0s 9ms/step - loss: 0.2188 - val_loss: 0.2201\n",
      "Epoch 31/200\n",
      "20/20 [==============================] - 0s 8ms/step - loss: 0.2155 - val_loss: 0.2173\n",
      "Epoch 32/200\n",
      "20/20 [==============================] - 0s 7ms/step - loss: 0.2128 - val_loss: 0.1996\n",
      "Epoch 33/200\n",
      "20/20 [==============================] - 0s 8ms/step - loss: 0.2074 - val_loss: 0.1860\n",
      "Epoch 34/200\n",
      "20/20 [==============================] - 0s 9ms/step - loss: 0.1960 - val_loss: 0.1903\n",
      "Epoch 35/200\n",
      "20/20 [==============================] - 0s 7ms/step - loss: 0.1946 - val_loss: 0.2028\n",
      "Epoch 36/200\n",
      "20/20 [==============================] - 0s 8ms/step - loss: 0.1938 - val_loss: 0.1905\n",
      "Epoch 37/200\n",
      "20/20 [==============================] - 0s 8ms/step - loss: 0.1922 - val_loss: 0.1934\n",
      "Epoch 38/200\n",
      "20/20 [==============================] - 0s 8ms/step - loss: 0.1846 - val_loss: 0.1868\n",
      "Epoch 39/200\n",
      "20/20 [==============================] - 0s 8ms/step - loss: 0.1876 - val_loss: 0.1865\n",
      "Epoch 40/200\n",
      "20/20 [==============================] - 0s 8ms/step - loss: 0.1845 - val_loss: 0.1848\n",
      "Epoch 41/200\n",
      "20/20 [==============================] - 0s 9ms/step - loss: 0.1837 - val_loss: 0.1875\n",
      "Epoch 42/200\n",
      "20/20 [==============================] - 0s 9ms/step - loss: 0.1807 - val_loss: 0.1855\n",
      "Epoch 43/200\n",
      "20/20 [==============================] - 0s 9ms/step - loss: 0.1828 - val_loss: 0.1939\n",
      "Epoch 44/200\n",
      "20/20 [==============================] - 0s 8ms/step - loss: 0.1811 - val_loss: 0.1877\n",
      "Epoch 45/200\n",
      "20/20 [==============================] - 0s 7ms/step - loss: 0.1794 - val_loss: 0.1852\n",
      "Epoch 46/200\n",
      "20/20 [==============================] - 0s 8ms/step - loss: 0.1786 - val_loss: 0.1901\n",
      "Epoch 47/200\n",
      "20/20 [==============================] - 0s 7ms/step - loss: 0.1826 - val_loss: 0.1856\n",
      "Epoch 48/200\n",
      "20/20 [==============================] - 0s 8ms/step - loss: 0.1763 - val_loss: 0.1842\n",
      "Epoch 49/200\n",
      "20/20 [==============================] - 0s 9ms/step - loss: 0.1755 - val_loss: 0.1891\n",
      "Epoch 50/200\n",
      "20/20 [==============================] - 0s 9ms/step - loss: 0.1759 - val_loss: 0.1883\n",
      "Epoch 51/200\n",
      "20/20 [==============================] - 0s 8ms/step - loss: 0.1761 - val_loss: 0.1875\n",
      "Epoch 52/200\n",
      "20/20 [==============================] - 0s 8ms/step - loss: 0.1745 - val_loss: 0.1879\n",
      "Epoch 53/200\n",
      "20/20 [==============================] - 0s 9ms/step - loss: 0.1745 - val_loss: 0.1915\n",
      "Epoch 54/200\n",
      "20/20 [==============================] - 0s 7ms/step - loss: 0.1728 - val_loss: 0.1852\n",
      "Epoch 55/200\n",
      "20/20 [==============================] - 0s 8ms/step - loss: 0.1732 - val_loss: 0.1854\n",
      "Epoch 56/200\n",
      "20/20 [==============================] - 0s 9ms/step - loss: 0.1727 - val_loss: 0.1867\n",
      "Epoch 57/200\n",
      "20/20 [==============================] - 0s 8ms/step - loss: 0.1721 - val_loss: 0.1867\n",
      "Epoch 58/200\n",
      "20/20 [==============================] - 0s 9ms/step - loss: 0.1710 - val_loss: 0.1896\n",
      "Epoch 59/200\n",
      "20/20 [==============================] - 0s 8ms/step - loss: 0.1761 - val_loss: 0.1965\n",
      "Epoch 60/200\n",
      "20/20 [==============================] - 0s 7ms/step - loss: 0.1726 - val_loss: 0.1877\n",
      "Epoch 61/200\n",
      "20/20 [==============================] - 0s 7ms/step - loss: 0.1723 - val_loss: 0.1853\n",
      "Epoch 62/200\n",
      "20/20 [==============================] - 0s 7ms/step - loss: 0.1690 - val_loss: 0.1869\n",
      "Epoch 63/200\n",
      "20/20 [==============================] - 0s 8ms/step - loss: 0.1707 - val_loss: 0.1864\n",
      "Epoch 64/200\n",
      "20/20 [==============================] - 0s 8ms/step - loss: 0.1685 - val_loss: 0.1874\n",
      "Epoch 65/200\n",
      "20/20 [==============================] - 0s 8ms/step - loss: 0.1692 - val_loss: 0.1880\n",
      "Epoch 66/200\n",
      "20/20 [==============================] - 0s 9ms/step - loss: 0.1715 - val_loss: 0.1904\n",
      "Epoch 67/200\n",
      "20/20 [==============================] - 0s 8ms/step - loss: 0.1685 - val_loss: 0.1892\n",
      "Epoch 68/200\n",
      "20/20 [==============================] - 0s 8ms/step - loss: 0.1697 - val_loss: 0.1900\n",
      "Epoch 69/200\n",
      "20/20 [==============================] - 0s 7ms/step - loss: 0.1694 - val_loss: 0.1919\n",
      "Epoch 70/200\n",
      "20/20 [==============================] - 0s 8ms/step - loss: 0.1686 - val_loss: 0.2068\n",
      "Epoch 71/200\n",
      "20/20 [==============================] - 0s 9ms/step - loss: 0.1672 - val_loss: 0.1854\n",
      "Epoch 72/200\n",
      "20/20 [==============================] - 0s 8ms/step - loss: 0.1666 - val_loss: 0.1903\n",
      "Epoch 73/200\n",
      "20/20 [==============================] - 0s 9ms/step - loss: 0.1678 - val_loss: 0.1879\n",
      "Epoch 74/200\n",
      "20/20 [==============================] - 0s 9ms/step - loss: 0.1677 - val_loss: 0.1883\n",
      "Epoch 75/200\n",
      "20/20 [==============================] - 0s 8ms/step - loss: 0.1677 - val_loss: 0.1854\n",
      "Epoch 76/200\n",
      "20/20 [==============================] - 0s 9ms/step - loss: 0.1645 - val_loss: 0.1855\n",
      "Epoch 77/200\n",
      "20/20 [==============================] - 0s 8ms/step - loss: 0.1666 - val_loss: 0.1888\n",
      "Epoch 78/200\n",
      "20/20 [==============================] - 0s 9ms/step - loss: 0.1639 - val_loss: 0.1871\n",
      "Epoch 79/200\n",
      "20/20 [==============================] - 0s 9ms/step - loss: 0.1638 - val_loss: 0.1947\n",
      "Epoch 80/200\n",
      "20/20 [==============================] - 0s 8ms/step - loss: 0.1651 - val_loss: 0.1964\n"
     ]
    },
    {
     "name": "stdout",
     "output_type": "stream",
     "text": [
      "Epoch 81/200\n",
      "20/20 [==============================] - 0s 9ms/step - loss: 0.1640 - val_loss: 0.1900\n",
      "Epoch 82/200\n",
      "20/20 [==============================] - 0s 9ms/step - loss: 0.1629 - val_loss: 0.2138\n",
      "Epoch 83/200\n",
      "20/20 [==============================] - 0s 9ms/step - loss: 0.1694 - val_loss: 0.1950\n",
      "Epoch 84/200\n",
      "20/20 [==============================] - 0s 9ms/step - loss: 0.1698 - val_loss: 0.1849\n",
      "Epoch 85/200\n",
      "20/20 [==============================] - 0s 9ms/step - loss: 0.1644 - val_loss: 0.1843\n",
      "Epoch 86/200\n",
      "20/20 [==============================] - 0s 8ms/step - loss: 0.1670 - val_loss: 0.1862\n",
      "Epoch 87/200\n",
      "20/20 [==============================] - 0s 9ms/step - loss: 0.1634 - val_loss: 0.1841\n",
      "Epoch 88/200\n",
      "20/20 [==============================] - 0s 9ms/step - loss: 0.1649 - val_loss: 0.1827\n",
      "Epoch 89/200\n",
      "20/20 [==============================] - 0s 9ms/step - loss: 0.1643 - val_loss: 0.1840\n",
      "Epoch 90/200\n",
      "20/20 [==============================] - 0s 8ms/step - loss: 0.1626 - val_loss: 0.1861\n",
      "Epoch 91/200\n",
      "20/20 [==============================] - 0s 8ms/step - loss: 0.1613 - val_loss: 0.1836\n",
      "Epoch 92/200\n",
      "20/20 [==============================] - 0s 8ms/step - loss: 0.1596 - val_loss: 0.1835\n",
      "Epoch 93/200\n",
      "20/20 [==============================] - 0s 9ms/step - loss: 0.1588 - val_loss: 0.1827\n",
      "Epoch 94/200\n",
      "20/20 [==============================] - 0s 7ms/step - loss: 0.1598 - val_loss: 0.1846\n",
      "Epoch 95/200\n",
      "20/20 [==============================] - 0s 8ms/step - loss: 0.1606 - val_loss: 0.1835\n",
      "Epoch 96/200\n",
      "20/20 [==============================] - 0s 9ms/step - loss: 0.1595 - val_loss: 0.1884\n",
      "Epoch 97/200\n",
      "20/20 [==============================] - 0s 9ms/step - loss: 0.1590 - val_loss: 0.1832\n",
      "Epoch 98/200\n",
      "20/20 [==============================] - 0s 10ms/step - loss: 0.1577 - val_loss: 0.1830\n",
      "Epoch 99/200\n",
      "20/20 [==============================] - 0s 9ms/step - loss: 0.1656 - val_loss: 0.1821\n",
      "Epoch 100/200\n",
      "20/20 [==============================] - 0s 8ms/step - loss: 0.1630 - val_loss: 0.1842\n",
      "Epoch 101/200\n",
      "20/20 [==============================] - 0s 8ms/step - loss: 0.1588 - val_loss: 0.1832\n",
      "Epoch 102/200\n",
      "20/20 [==============================] - 0s 8ms/step - loss: 0.1572 - val_loss: 0.1848\n",
      "Epoch 103/200\n",
      "20/20 [==============================] - 0s 10ms/step - loss: 0.1580 - val_loss: 0.1818\n",
      "Epoch 104/200\n",
      "20/20 [==============================] - 0s 9ms/step - loss: 0.1580 - val_loss: 0.1838\n",
      "Epoch 105/200\n",
      "20/20 [==============================] - 0s 8ms/step - loss: 0.1554 - val_loss: 0.1857\n",
      "Epoch 106/200\n",
      "20/20 [==============================] - 0s 9ms/step - loss: 0.1565 - val_loss: 0.1862\n",
      "Epoch 107/200\n",
      "20/20 [==============================] - 0s 8ms/step - loss: 0.1563 - val_loss: 0.1810\n",
      "Epoch 108/200\n",
      "20/20 [==============================] - 0s 8ms/step - loss: 0.1550 - val_loss: 0.1870\n",
      "Epoch 109/200\n",
      "20/20 [==============================] - 0s 10ms/step - loss: 0.1651 - val_loss: 0.1886\n",
      "Epoch 110/200\n",
      "20/20 [==============================] - 0s 8ms/step - loss: 0.1553 - val_loss: 0.1870\n",
      "Epoch 111/200\n",
      "20/20 [==============================] - 0s 7ms/step - loss: 0.1556 - val_loss: 0.1824\n",
      "Epoch 112/200\n",
      "20/20 [==============================] - 0s 8ms/step - loss: 0.1560 - val_loss: 0.1834\n",
      "Epoch 113/200\n",
      "20/20 [==============================] - 0s 10ms/step - loss: 0.1540 - val_loss: 0.1841\n",
      "Epoch 114/200\n",
      "20/20 [==============================] - 0s 10ms/step - loss: 0.1595 - val_loss: 0.1908\n",
      "Epoch 115/200\n",
      "20/20 [==============================] - 0s 9ms/step - loss: 0.1577 - val_loss: 0.1837\n",
      "Epoch 116/200\n",
      "20/20 [==============================] - 0s 10ms/step - loss: 0.1554 - val_loss: 0.1835\n",
      "Epoch 117/200\n",
      "20/20 [==============================] - 0s 8ms/step - loss: 0.1530 - val_loss: 0.1878\n",
      "Epoch 118/200\n",
      "20/20 [==============================] - 0s 9ms/step - loss: 0.1618 - val_loss: 0.1827\n",
      "Epoch 119/200\n",
      "20/20 [==============================] - 0s 8ms/step - loss: 0.1519 - val_loss: 0.1839\n",
      "Epoch 120/200\n",
      "20/20 [==============================] - 0s 9ms/step - loss: 0.1523 - val_loss: 0.1848\n",
      "Epoch 121/200\n",
      "20/20 [==============================] - 0s 10ms/step - loss: 0.1537 - val_loss: 0.1843\n",
      "Epoch 122/200\n",
      "20/20 [==============================] - 0s 7ms/step - loss: 0.1526 - val_loss: 0.1831\n",
      "Epoch 123/200\n",
      "20/20 [==============================] - 0s 7ms/step - loss: 0.1536 - val_loss: 0.1834\n",
      "Epoch 124/200\n",
      "20/20 [==============================] - 0s 9ms/step - loss: 0.1528 - val_loss: 0.1825\n",
      "Epoch 125/200\n",
      "20/20 [==============================] - 0s 7ms/step - loss: 0.1525 - val_loss: 0.1840\n",
      "Epoch 126/200\n",
      "20/20 [==============================] - 0s 9ms/step - loss: 0.1493 - val_loss: 0.1986\n",
      "Epoch 127/200\n",
      "20/20 [==============================] - 0s 8ms/step - loss: 0.1533 - val_loss: 0.1882\n",
      "Epoch 128/200\n",
      "20/20 [==============================] - 0s 7ms/step - loss: 0.1501 - val_loss: 0.1857\n",
      "Epoch 129/200\n",
      "20/20 [==============================] - 0s 7ms/step - loss: 0.1510 - val_loss: 0.1834\n",
      "Epoch 130/200\n",
      "20/20 [==============================] - 0s 7ms/step - loss: 0.1498 - val_loss: 0.1842\n",
      "Epoch 131/200\n",
      "20/20 [==============================] - 0s 8ms/step - loss: 0.1520 - val_loss: 0.1847\n",
      "Epoch 132/200\n",
      "20/20 [==============================] - 0s 9ms/step - loss: 0.1514 - val_loss: 0.1854\n",
      "Epoch 133/200\n",
      "20/20 [==============================] - 0s 8ms/step - loss: 0.1505 - val_loss: 0.1852\n",
      "Epoch 134/200\n",
      "20/20 [==============================] - 0s 8ms/step - loss: 0.1502 - val_loss: 0.1856\n",
      "Epoch 135/200\n",
      "20/20 [==============================] - 0s 10ms/step - loss: 0.1530 - val_loss: 0.2022\n",
      "Epoch 136/200\n",
      "20/20 [==============================] - 0s 8ms/step - loss: 0.1658 - val_loss: 0.2085\n",
      "Epoch 137/200\n",
      "20/20 [==============================] - 0s 9ms/step - loss: 0.1508 - val_loss: 0.1852\n",
      "Epoch 138/200\n",
      "20/20 [==============================] - 0s 9ms/step - loss: 0.1500 - val_loss: 0.1836\n",
      "Epoch 139/200\n",
      "20/20 [==============================] - 0s 9ms/step - loss: 0.1475 - val_loss: 0.1887\n",
      "Epoch 140/200\n",
      "20/20 [==============================] - 0s 9ms/step - loss: 0.1505 - val_loss: 0.1868\n",
      "Epoch 141/200\n",
      "20/20 [==============================] - 0s 9ms/step - loss: 0.1504 - val_loss: 0.1899\n",
      "Epoch 142/200\n",
      "20/20 [==============================] - 0s 7ms/step - loss: 0.1500 - val_loss: 0.1891\n",
      "Epoch 143/200\n",
      "20/20 [==============================] - 0s 8ms/step - loss: 0.1482 - val_loss: 0.1893\n",
      "Epoch 144/200\n",
      "20/20 [==============================] - 0s 8ms/step - loss: 0.1478 - val_loss: 0.1912\n",
      "Epoch 145/200\n",
      "20/20 [==============================] - 0s 8ms/step - loss: 0.1507 - val_loss: 0.1872\n",
      "Epoch 146/200\n",
      "20/20 [==============================] - 0s 8ms/step - loss: 0.1472 - val_loss: 0.1919\n",
      "Epoch 147/200\n",
      "20/20 [==============================] - 0s 8ms/step - loss: 0.1553 - val_loss: 0.1956\n",
      "Epoch 148/200\n",
      "20/20 [==============================] - 0s 9ms/step - loss: 0.1492 - val_loss: 0.1880\n",
      "Epoch 149/200\n",
      "20/20 [==============================] - 0s 8ms/step - loss: 0.1498 - val_loss: 0.1862\n",
      "Epoch 150/200\n",
      "20/20 [==============================] - 0s 8ms/step - loss: 0.1473 - val_loss: 0.1879\n",
      "Epoch 151/200\n",
      "20/20 [==============================] - 0s 8ms/step - loss: 0.1460 - val_loss: 0.1955\n",
      "Epoch 152/200\n",
      "20/20 [==============================] - 0s 8ms/step - loss: 0.1498 - val_loss: 0.1905\n",
      "Epoch 153/200\n",
      "20/20 [==============================] - 0s 8ms/step - loss: 0.1460 - val_loss: 0.1877\n",
      "Epoch 154/200\n",
      "20/20 [==============================] - 0s 8ms/step - loss: 0.1489 - val_loss: 0.1904\n",
      "Epoch 155/200\n",
      "20/20 [==============================] - 0s 8ms/step - loss: 0.1494 - val_loss: 0.1924\n",
      "Epoch 156/200\n",
      "20/20 [==============================] - 0s 9ms/step - loss: 0.1480 - val_loss: 0.1943\n",
      "Epoch 157/200\n",
      "20/20 [==============================] - 0s 9ms/step - loss: 0.1474 - val_loss: 0.1888\n",
      "Epoch 158/200\n",
      "20/20 [==============================] - 0s 8ms/step - loss: 0.1487 - val_loss: 0.1984\n",
      "Epoch 159/200\n",
      "20/20 [==============================] - 0s 8ms/step - loss: 0.1488 - val_loss: 0.2080\n",
      "Epoch 160/200\n",
      "20/20 [==============================] - 0s 8ms/step - loss: 0.1543 - val_loss: 0.1881\n",
      "Epoch 161/200\n",
      "20/20 [==============================] - 0s 8ms/step - loss: 0.1549 - val_loss: 0.1930\n",
      "Epoch 162/200\n"
     ]
    },
    {
     "name": "stdout",
     "output_type": "stream",
     "text": [
      "20/20 [==============================] - 0s 8ms/step - loss: 0.1509 - val_loss: 0.1925\n",
      "Epoch 163/200\n",
      "20/20 [==============================] - 0s 9ms/step - loss: 0.1479 - val_loss: 0.1956\n",
      "Epoch 164/200\n",
      "20/20 [==============================] - 0s 10ms/step - loss: 0.1512 - val_loss: 0.1976\n",
      "Epoch 165/200\n",
      "20/20 [==============================] - 0s 9ms/step - loss: 0.1472 - val_loss: 0.1896\n",
      "Epoch 166/200\n",
      "20/20 [==============================] - 0s 11ms/step - loss: 0.1458 - val_loss: 0.1921\n",
      "Epoch 167/200\n",
      "20/20 [==============================] - 0s 10ms/step - loss: 0.1468 - val_loss: 0.1907\n",
      "Epoch 168/200\n",
      "20/20 [==============================] - 0s 10ms/step - loss: 0.1476 - val_loss: 0.1945\n",
      "Epoch 169/200\n",
      "20/20 [==============================] - 0s 8ms/step - loss: 0.1474 - val_loss: 0.1890\n",
      "Epoch 170/200\n",
      "20/20 [==============================] - 0s 8ms/step - loss: 0.1492 - val_loss: 0.1923\n",
      "Epoch 171/200\n",
      "20/20 [==============================] - 0s 10ms/step - loss: 0.1459 - val_loss: 0.1886\n",
      "Epoch 172/200\n",
      "20/20 [==============================] - 0s 10ms/step - loss: 0.1515 - val_loss: 0.1973\n",
      "Epoch 173/200\n",
      "20/20 [==============================] - 0s 9ms/step - loss: 0.1458 - val_loss: 0.1908\n",
      "Epoch 174/200\n",
      "20/20 [==============================] - 0s 9ms/step - loss: 0.1504 - val_loss: 0.1907\n",
      "Epoch 175/200\n",
      "20/20 [==============================] - 0s 9ms/step - loss: 0.1475 - val_loss: 0.1912\n",
      "Epoch 176/200\n",
      "20/20 [==============================] - 0s 9ms/step - loss: 0.1449 - val_loss: 0.1962\n",
      "Epoch 177/200\n",
      "20/20 [==============================] - 0s 10ms/step - loss: 0.1472 - val_loss: 0.1919\n",
      "Epoch 178/200\n",
      "20/20 [==============================] - 0s 10ms/step - loss: 0.1444 - val_loss: 0.1917\n",
      "Epoch 179/200\n",
      "20/20 [==============================] - 0s 9ms/step - loss: 0.1455 - val_loss: 0.1926\n",
      "Epoch 180/200\n",
      "20/20 [==============================] - 0s 7ms/step - loss: 0.1450 - val_loss: 0.1923\n",
      "Epoch 181/200\n",
      "20/20 [==============================] - 0s 8ms/step - loss: 0.1457 - val_loss: 0.1906\n",
      "Epoch 182/200\n",
      "20/20 [==============================] - 0s 9ms/step - loss: 0.1556 - val_loss: 0.1921\n",
      "Epoch 183/200\n",
      "20/20 [==============================] - 0s 9ms/step - loss: 0.1453 - val_loss: 0.1964\n",
      "Epoch 184/200\n",
      "20/20 [==============================] - 0s 8ms/step - loss: 0.1478 - val_loss: 0.1930\n",
      "Epoch 185/200\n",
      "20/20 [==============================] - 0s 8ms/step - loss: 0.1458 - val_loss: 0.1946\n",
      "Epoch 186/200\n",
      "20/20 [==============================] - 0s 10ms/step - loss: 0.1442 - val_loss: 0.1981\n",
      "Epoch 187/200\n",
      "20/20 [==============================] - 0s 8ms/step - loss: 0.1458 - val_loss: 0.1999\n",
      "Epoch 188/200\n",
      "20/20 [==============================] - 0s 8ms/step - loss: 0.1457 - val_loss: 0.1973\n",
      "Epoch 189/200\n",
      "20/20 [==============================] - 0s 8ms/step - loss: 0.1544 - val_loss: 0.1935\n",
      "Epoch 190/200\n",
      "20/20 [==============================] - 0s 7ms/step - loss: 0.1435 - val_loss: 0.2039\n",
      "Epoch 191/200\n",
      "20/20 [==============================] - 0s 9ms/step - loss: 0.1479 - val_loss: 0.1948\n",
      "Epoch 192/200\n",
      "20/20 [==============================] - 0s 9ms/step - loss: 0.1457 - val_loss: 0.1949\n",
      "Epoch 193/200\n",
      "20/20 [==============================] - 0s 8ms/step - loss: 0.1442 - val_loss: 0.1944\n",
      "Epoch 194/200\n",
      "20/20 [==============================] - 0s 7ms/step - loss: 0.1464 - val_loss: 0.1954\n",
      "Epoch 195/200\n",
      "20/20 [==============================] - 0s 8ms/step - loss: 0.1451 - val_loss: 0.1955\n",
      "Epoch 196/200\n",
      "20/20 [==============================] - 0s 9ms/step - loss: 0.1485 - val_loss: 0.1991\n",
      "Epoch 197/200\n",
      "20/20 [==============================] - 0s 9ms/step - loss: 0.1445 - val_loss: 0.1929\n",
      "Epoch 198/200\n",
      "20/20 [==============================] - 0s 9ms/step - loss: 0.1438 - val_loss: 0.1929\n",
      "Epoch 199/200\n",
      "20/20 [==============================] - 0s 10ms/step - loss: 0.1458 - val_loss: 0.1945\n",
      "Epoch 200/200\n",
      "20/20 [==============================] - 0s 9ms/step - loss: 0.1459 - val_loss: 0.1935\n"
     ]
    }
   ],
   "source": [
    "history = model.fit(X_train,Y_train,validation_data=(X_test,Y_test),epochs=200,batch_size=32,verbose=1)"
   ]
  },
  {
   "cell_type": "code",
   "execution_count": 21,
   "metadata": {},
   "outputs": [
    {
     "data": {
      "image/png": "[encoded data removed]",
      "text/plain": [
       "<Figure size 640x480 with 1 Axes>"
      ]
     },
     "metadata": {},
     "output_type": "display_data"
    },
    {
     "data": {
      "text/plain": [
       "<Figure size 640x480 with 0 Axes>"
      ]
     },
     "metadata": {},
     "output_type": "display_data"
    }
   ],
   "source": [
    "import matplotlib.pyplot as plt\n",
    "loss = history.history['loss']\n",
    "val_loss = history.history['val_loss']\n",
    "\n",
    "epochs = range(len(loss))\n",
    "\n",
    "plt.plot(epochs, loss, 'r', label='Training loss')\n",
    "plt.plot(epochs, val_loss, 'b', label='Validation loss')\n",
    "plt.title('Training and validation loss')\n",
    "plt.legend(loc=0)\n",
    "plt.figure()\n",
    "\n",
    "\n",
    "plt.show()"
   ]
  },
  {
   "cell_type": "code",
   "execution_count": 22,
   "metadata": {},
   "outputs": [
    {
     "name": "stdout",
     "output_type": "stream",
     "text": [
      "20/20 [==============================] - 0s 4ms/step\n",
      "5/5 [==============================] - 0s 6ms/step\n"
     ]
    },
    {
     "data": {
      "text/plain": [
       "((614, 1), (154, 1))"
      ]
     },
     "execution_count": 22,
     "metadata": {},
     "output_type": "execute_result"
    }
   ],
   "source": [
    "### Lets Do the prediction and check performance metrics\n",
    "train_predict=model.predict(X_train)\n",
    "test_predict=model.predict(X_test)\n",
    "train_predict.shape, test_predict.shape"
   ]
  },
  {
   "cell_type": "markdown",
   "metadata": {},
   "source": [
    "# boostind model"
   ]
  },
  {
   "cell_type": "code",
   "execution_count": 23,
   "metadata": {},
   "outputs": [],
   "source": [
    "#AdaBoost\n",
    "from sklearn.ensemble import AdaBoostClassifier\n",
    "clf = AdaBoostClassifier(n_estimators=100, random_state=0)"
   ]
  },
  {
   "cell_type": "code",
   "execution_count": 24,
   "metadata": {},
   "outputs": [
    {
     "name": "stderr",
     "output_type": "stream",
     "text": [
      "C:\\Users\\vigne\\anaconda3\\Lib\\site-packages\\sklearn\\ensemble\\_weight_boosting.py:519: FutureWarning: The SAMME.R algorithm (the default) is deprecated and will be removed in 1.6. Use the SAMME algorithm to circumvent this warning.\n",
      "  warnings.warn(\n"
     ]
    },
    {
     "data": {
      "text/html": [
       "<style>#sk-container-id-1 {\n",
       "  /* Definition of color scheme common for light and dark mode */\n",
       "  --sklearn-color-text: black;\n",
       "  --sklearn-color-line: gray;\n",
       "  /* Definition of color scheme for unfitted estimators */\n",
       "  --sklearn-color-unfitted-level-0: #fff5e6;\n",
       "  --sklearn-color-unfitted-level-1: #f6e4d2;\n",
       "  --sklearn-color-unfitted-level-2: #ffe0b3;\n",
       "  --sklearn-color-unfitted-level-3: chocolate;\n",
       "  /* Definition of color scheme for fitted estimators */\n",
       "  --sklearn-color-fitted-level-0: #f0f8ff;\n",
       "  --sklearn-color-fitted-level-1: #d4ebff;\n",
       "  --sklearn-color-fitted-level-2: #b3dbfd;\n",
       "  --sklearn-color-fitted-level-3: cornflowerblue;\n",
       "\n",
       "  /* Specific color for light theme */\n",
       "  --sklearn-color-text-on-default-background: var(--sg-text-color, var(--theme-code-foreground, var(--jp-content-font-color1, black)));\n",
       "  --sklearn-color-background: var(--sg-background-color, var(--theme-background, var(--jp-layout-color0, white)));\n",
       "  --sklearn-color-border-box: var(--sg-text-color, var(--theme-code-foreground, var(--jp-content-font-color1, black)));\n",
       "  --sklearn-color-icon: #696969;\n",
       "\n",
       "  @media (prefers-color-scheme: dark) {\n",
       "    /* Redefinition of color scheme for dark theme */\n",
       "    --sklearn-color-text-on-default-background: var(--sg-text-color, var(--theme-code-foreground, var(--jp-content-font-color1, white)));\n",
       "    --sklearn-color-background: var(--sg-background-color, var(--theme-background, var(--jp-layout-color0, #111)));\n",
       "    --sklearn-color-border-box: var(--sg-text-color, var(--theme-code-foreground, var(--jp-content-font-color1, white)));\n",
       "    --sklearn-color-icon: #878787;\n",
       "  }\n",
       "}\n",
       "\n",
       "#sk-container-id-1 {\n",
       "  color: var(--sklearn-color-text);\n",
       "}\n",
       "\n",
       "#sk-container-id-1 pre {\n",
       "  padding: 0;\n",
       "}\n",
       "\n",
       "#sk-container-id-1 input.sk-hidden--visually {\n",
       "  border: 0;\n",
       "  clip: rect(1px 1px 1px 1px);\n",
       "  clip: rect(1px, 1px, 1px, 1px);\n",
       "  height: 1px;\n",
       "  margin: -1px;\n",
       "  overflow: hidden;\n",
       "  padding: 0;\n",
       "  position: absolute;\n",
       "  width: 1px;\n",
       "}\n",
       "\n",
       "#sk-container-id-1 div.sk-dashed-wrapped {\n",
       "  border: 1px dashed var(--sklearn-color-line);\n",
       "  margin: 0 0.4em 0.5em 0.4em;\n",
       "  box-sizing: border-box;\n",
       "  padding-bottom: 0.4em;\n",
       "  background-color: var(--sklearn-color-background);\n",
       "}\n",
       "\n",
       "#sk-container-id-1 div.sk-container {\n",
       "  /* jupyter's `normalize.less` sets `[hidden] { display: none; }`\n",
       "     but bootstrap.min.css set `[hidden] { display: none !important; }`\n",
       "     so we also need the `!important` here to be able to override the\n",
       "     default hidden behavior on the sphinx rendered scikit-learn.org.\n",
       "     See: https://github.com/scikit-learn/scikit-learn/issues/21755 */\n",
       "  display: inline-block !important;\n",
       "  position: relative;\n",
       "}\n",
       "\n",
       "#sk-container-id-1 div.sk-text-repr-fallback {\n",
       "  display: none;\n",
       "}\n",
       "\n",
       "div.sk-parallel-item,\n",
       "div.sk-serial,\n",
       "div.sk-item {\n",
       "  /* draw centered vertical line to link estimators */\n",
       "  background-image: linear-gradient(var(--sklearn-color-text-on-default-background), var(--sklearn-color-text-on-default-background));\n",
       "  background-size: 2px 100%;\n",
       "  background-repeat: no-repeat;\n",
       "  background-position: center center;\n",
       "}\n",
       "\n",
       "/* Parallel-specific style estimator block */\n",
       "\n",
       "#sk-container-id-1 div.sk-parallel-item::after {\n",
       "  content: \"\";\n",
       "  width: 100%;\n",
       "  border-bottom: 2px solid var(--sklearn-color-text-on-default-background);\n",
       "  flex-grow: 1;\n",
       "}\n",
       "\n",
       "#sk-container-id-1 div.sk-parallel {\n",
       "  display: flex;\n",
       "  align-items: stretch;\n",
       "  justify-content: center;\n",
       "  background-color: var(--sklearn-color-background);\n",
       "  position: relative;\n",
       "}\n",
       "\n",
       "#sk-container-id-1 div.sk-parallel-item {\n",
       "  display: flex;\n",
       "  flex-direction: column;\n",
       "}\n",
       "\n",
       "#sk-container-id-1 div.sk-parallel-item:first-child::after {\n",
       "  align-self: flex-end;\n",
       "  width: 50%;\n",
       "}\n",
       "\n",
       "#sk-container-id-1 div.sk-parallel-item:last-child::after {\n",
       "  align-self: flex-start;\n",
       "  width: 50%;\n",
       "}\n",
       "\n",
       "#sk-container-id-1 div.sk-parallel-item:only-child::after {\n",
       "  width: 0;\n",
       "}\n",
       "\n",
       "/* Serial-specific style estimator block */\n",
       "\n",
       "#sk-container-id-1 div.sk-serial {\n",
       "  display: flex;\n",
       "  flex-direction: column;\n",
       "  align-items: center;\n",
       "  background-color: var(--sklearn-color-background);\n",
       "  padding-right: 1em;\n",
       "  padding-left: 1em;\n",
       "}\n",
       "\n",
       "\n",
       "/* Toggleable style: style used for estimator/Pipeline/ColumnTransformer box that is\n",
       "clickable and can be expanded/collapsed.\n",
       "- Pipeline and ColumnTransformer use this feature and define the default style\n",
       "- Estimators will overwrite some part of the style using the `sk-estimator` class\n",
       "*/\n",
       "\n",
       "/* Pipeline and ColumnTransformer style (default) */\n",
       "\n",
       "#sk-container-id-1 div.sk-toggleable {\n",
       "  /* Default theme specific background. It is overwritten whether we have a\n",
       "  specific estimator or a Pipeline/ColumnTransformer */\n",
       "  background-color: var(--sklearn-color-background);\n",
       "}\n",
       "\n",
       "/* Toggleable label */\n",
       "#sk-container-id-1 label.sk-toggleable__label {\n",
       "  cursor: pointer;\n",
       "  display: block;\n",
       "  width: 100%;\n",
       "  margin-bottom: 0;\n",
       "  padding: 0.5em;\n",
       "  box-sizing: border-box;\n",
       "  text-align: center;\n",
       "}\n",
       "\n",
       "#sk-container-id-1 label.sk-toggleable__label-arrow:before {\n",
       "  /* Arrow on the left of the label */\n",
       "  content: \"▸\";\n",
       "  float: left;\n",
       "  margin-right: 0.25em;\n",
       "  color: var(--sklearn-color-icon);\n",
       "}\n",
       "\n",
       "#sk-container-id-1 label.sk-toggleable__label-arrow:hover:before {\n",
       "  color: var(--sklearn-color-text);\n",
       "}\n",
       "\n",
       "/* Toggleable content - dropdown */\n",
       "\n",
       "#sk-container-id-1 div.sk-toggleable__content {\n",
       "  max-height: 0;\n",
       "  max-width: 0;\n",
       "  overflow: hidden;\n",
       "  text-align: left;\n",
       "  /* unfitted */\n",
       "  background-color: var(--sklearn-color-unfitted-level-0);\n",
       "}\n",
       "\n",
       "#sk-container-id-1 div.sk-toggleable__content.fitted {\n",
       "  /* fitted */\n",
       "  background-color: var(--sklearn-color-fitted-level-0);\n",
       "}\n",
       "\n",
       "#sk-container-id-1 div.sk-toggleable__content pre {\n",
       "  margin: 0.2em;\n",
       "  border-radius: 0.25em;\n",
       "  color: var(--sklearn-color-text);\n",
       "  /* unfitted */\n",
       "  background-color: var(--sklearn-color-unfitted-level-0);\n",
       "}\n",
       "\n",
       "#sk-container-id-1 div.sk-toggleable__content.fitted pre {\n",
       "  /* unfitted */\n",
       "  background-color: var(--sklearn-color-fitted-level-0);\n",
       "}\n",
       "\n",
       "#sk-container-id-1 input.sk-toggleable__control:checked~div.sk-toggleable__content {\n",
       "  /* Expand drop-down */\n",
       "  max-height: 200px;\n",
       "  max-width: 100%;\n",
       "  overflow: auto;\n",
       "}\n",
       "\n",
       "#sk-container-id-1 input.sk-toggleable__control:checked~label.sk-toggleable__label-arrow:before {\n",
       "  content: \"▾\";\n",
       "}\n",
       "\n",
       "/* Pipeline/ColumnTransformer-specific style */\n",
       "\n",
       "#sk-container-id-1 div.sk-label input.sk-toggleable__control:checked~label.sk-toggleable__label {\n",
       "  color: var(--sklearn-color-text);\n",
       "  background-color: var(--sklearn-color-unfitted-level-2);\n",
       "}\n",
       "\n",
       "#sk-container-id-1 div.sk-label.fitted input.sk-toggleable__control:checked~label.sk-toggleable__label {\n",
       "  background-color: var(--sklearn-color-fitted-level-2);\n",
       "}\n",
       "\n",
       "/* Estimator-specific style */\n",
       "\n",
       "/* Colorize estimator box */\n",
       "#sk-container-id-1 div.sk-estimator input.sk-toggleable__control:checked~label.sk-toggleable__label {\n",
       "  /* unfitted */\n",
       "  background-color: var(--sklearn-color-unfitted-level-2);\n",
       "}\n",
       "\n",
       "#sk-container-id-1 div.sk-estimator.fitted input.sk-toggleable__control:checked~label.sk-toggleable__label {\n",
       "  /* fitted */\n",
       "  background-color: var(--sklearn-color-fitted-level-2);\n",
       "}\n",
       "\n",
       "#sk-container-id-1 div.sk-label label.sk-toggleable__label,\n",
       "#sk-container-id-1 div.sk-label label {\n",
       "  /* The background is the default theme color */\n",
       "  color: var(--sklearn-color-text-on-default-background);\n",
       "}\n",
       "\n",
       "/* On hover, darken the color of the background */\n",
       "#sk-container-id-1 div.sk-label:hover label.sk-toggleable__label {\n",
       "  color: var(--sklearn-color-text);\n",
       "  background-color: var(--sklearn-color-unfitted-level-2);\n",
       "}\n",
       "\n",
       "/* Label box, darken color on hover, fitted */\n",
       "#sk-container-id-1 div.sk-label.fitted:hover label.sk-toggleable__label.fitted {\n",
       "  color: var(--sklearn-color-text);\n",
       "  background-color: var(--sklearn-color-fitted-level-2);\n",
       "}\n",
       "\n",
       "/* Estimator label */\n",
       "\n",
       "#sk-container-id-1 div.sk-label label {\n",
       "  font-family: monospace;\n",
       "  font-weight: bold;\n",
       "  display: inline-block;\n",
       "  line-height: 1.2em;\n",
       "}\n",
       "\n",
       "#sk-container-id-1 div.sk-label-container {\n",
       "  text-align: center;\n",
       "}\n",
       "\n",
       "/* Estimator-specific */\n",
       "#sk-container-id-1 div.sk-estimator {\n",
       "  font-family: monospace;\n",
       "  border: 1px dotted var(--sklearn-color-border-box);\n",
       "  border-radius: 0.25em;\n",
       "  box-sizing: border-box;\n",
       "  margin-bottom: 0.5em;\n",
       "  /* unfitted */\n",
       "  background-color: var(--sklearn-color-unfitted-level-0);\n",
       "}\n",
       "\n",
       "#sk-container-id-1 div.sk-estimator.fitted {\n",
       "  /* fitted */\n",
       "  background-color: var(--sklearn-color-fitted-level-0);\n",
       "}\n",
       "\n",
       "/* on hover */\n",
       "#sk-container-id-1 div.sk-estimator:hover {\n",
       "  /* unfitted */\n",
       "  background-color: var(--sklearn-color-unfitted-level-2);\n",
       "}\n",
       "\n",
       "#sk-container-id-1 div.sk-estimator.fitted:hover {\n",
       "  /* fitted */\n",
       "  background-color: var(--sklearn-color-fitted-level-2);\n",
       "}\n",
       "\n",
       "/* Specification for estimator info (e.g. \"i\" and \"?\") */\n",
       "\n",
       "/* Common style for \"i\" and \"?\" */\n",
       "\n",
       ".sk-estimator-doc-link,\n",
       "a:link.sk-estimator-doc-link,\n",
       "a:visited.sk-estimator-doc-link {\n",
       "  float: right;\n",
       "  font-size: smaller;\n",
       "  line-height: 1em;\n",
       "  font-family: monospace;\n",
       "  background-color: var(--sklearn-color-background);\n",
       "  border-radius: 1em;\n",
       "  height: 1em;\n",
       "  width: 1em;\n",
       "  text-decoration: none !important;\n",
       "  margin-left: 1ex;\n",
       "  /* unfitted */\n",
       "  border: var(--sklearn-color-unfitted-level-1) 1pt solid;\n",
       "  color: var(--sklearn-color-unfitted-level-1);\n",
       "}\n",
       "\n",
       ".sk-estimator-doc-link.fitted,\n",
       "a:link.sk-estimator-doc-link.fitted,\n",
       "a:visited.sk-estimator-doc-link.fitted {\n",
       "  /* fitted */\n",
       "  border: var(--sklearn-color-fitted-level-1) 1pt solid;\n",
       "  color: var(--sklearn-color-fitted-level-1);\n",
       "}\n",
       "\n",
       "/* On hover */\n",
       "div.sk-estimator:hover .sk-estimator-doc-link:hover,\n",
       ".sk-estimator-doc-link:hover,\n",
       "div.sk-label-container:hover .sk-estimator-doc-link:hover,\n",
       ".sk-estimator-doc-link:hover {\n",
       "  /* unfitted */\n",
       "  background-color: var(--sklearn-color-unfitted-level-3);\n",
       "  color: var(--sklearn-color-background);\n",
       "  text-decoration: none;\n",
       "}\n",
       "\n",
       "div.sk-estimator.fitted:hover .sk-estimator-doc-link.fitted:hover,\n",
       ".sk-estimator-doc-link.fitted:hover,\n",
       "div.sk-label-container:hover .sk-estimator-doc-link.fitted:hover,\n",
       ".sk-estimator-doc-link.fitted:hover {\n",
       "  /* fitted */\n",
       "  background-color: var(--sklearn-color-fitted-level-3);\n",
       "  color: var(--sklearn-color-background);\n",
       "  text-decoration: none;\n",
       "}\n",
       "\n",
       "/* Span, style for the box shown on hovering the info icon */\n",
       ".sk-estimator-doc-link span {\n",
       "  display: none;\n",
       "  z-index: 9999;\n",
       "  position: relative;\n",
       "  font-weight: normal;\n",
       "  right: .2ex;\n",
       "  padding: .5ex;\n",
       "  margin: .5ex;\n",
       "  width: min-content;\n",
       "  min-width: 20ex;\n",
       "  max-width: 50ex;\n",
       "  color: var(--sklearn-color-text);\n",
       "  box-shadow: 2pt 2pt 4pt #999;\n",
       "  /* unfitted */\n",
       "  background: var(--sklearn-color-unfitted-level-0);\n",
       "  border: .5pt solid var(--sklearn-color-unfitted-level-3);\n",
       "}\n",
       "\n",
       ".sk-estimator-doc-link.fitted span {\n",
       "  /* fitted */\n",
       "  background: var(--sklearn-color-fitted-level-0);\n",
       "  border: var(--sklearn-color-fitted-level-3);\n",
       "}\n",
       "\n",
       ".sk-estimator-doc-link:hover span {\n",
       "  display: block;\n",
       "}\n",
       "\n",
       "/* \"?\"-specific style due to the `<a>` HTML tag */\n",
       "\n",
       "#sk-container-id-1 a.estimator_doc_link {\n",
       "  float: right;\n",
       "  font-size: 1rem;\n",
       "  line-height: 1em;\n",
       "  font-family: monospace;\n",
       "  background-color: var(--sklearn-color-background);\n",
       "  border-radius: 1rem;\n",
       "  height: 1rem;\n",
       "  width: 1rem;\n",
       "  text-decoration: none;\n",
       "  /* unfitted */\n",
       "  color: var(--sklearn-color-unfitted-level-1);\n",
       "  border: var(--sklearn-color-unfitted-level-1) 1pt solid;\n",
       "}\n",
       "\n",
       "#sk-container-id-1 a.estimator_doc_link.fitted {\n",
       "  /* fitted */\n",
       "  border: var(--sklearn-color-fitted-level-1) 1pt solid;\n",
       "  color: var(--sklearn-color-fitted-level-1);\n",
       "}\n",
       "\n",
       "/* On hover */\n",
       "#sk-container-id-1 a.estimator_doc_link:hover {\n",
       "  /* unfitted */\n",
       "  background-color: var(--sklearn-color-unfitted-level-3);\n",
       "  color: var(--sklearn-color-background);\n",
       "  text-decoration: none;\n",
       "}\n",
       "\n",
       "#sk-container-id-1 a.estimator_doc_link.fitted:hover {\n",
       "  /* fitted */\n",
       "  background-color: var(--sklearn-color-fitted-level-3);\n",
       "}\n",
       "</style><div id=\"sk-container-id-1\" class=\"sk-top-container\"><div class=\"sk-text-repr-fallback\"><pre>AdaBoostClassifier(n_estimators=100, random_state=0)</pre><b>In a Jupyter environment, please rerun this cell to show the HTML representation or trust the notebook. <br />On GitHub, the HTML representation is unable to render, please try loading this page with nbviewer.org.</b></div><div class=\"sk-container\" hidden><div class=\"sk-item\"><div class=\"sk-estimator fitted sk-toggleable\"><input class=\"sk-toggleable__control sk-hidden--visually\" id=\"sk-estimator-id-1\" type=\"checkbox\" checked><label for=\"sk-estimator-id-1\" class=\"sk-toggleable__label fitted sk-toggleable__label-arrow fitted\">&nbsp;&nbsp;AdaBoostClassifier<a class=\"sk-estimator-doc-link fitted\" rel=\"noreferrer\" target=\"_blank\" href=\"https://scikit-learn.org/1.4/modules/generated/sklearn.ensemble.AdaBoostClassifier.html\">?<span>Documentation for AdaBoostClassifier</span></a><span class=\"sk-estimator-doc-link fitted\">i<span>Fitted</span></span></label><div class=\"sk-toggleable__content fitted\"><pre>AdaBoostClassifier(n_estimators=100, random_state=0)</pre></div> </div></div></div></div>"
      ],
      "text/plain": [
       "AdaBoostClassifier(n_estimators=100, random_state=0)"
      ]
     },
     "execution_count": 24,
     "metadata": {},
     "output_type": "execute_result"
    }
   ],
   "source": [
    "clf.fit(X_train, Y_train.values.ravel()) "
   ]
  },
  {
   "cell_type": "code",
   "execution_count": 25,
   "metadata": {},
   "outputs": [
    {
     "name": "stdout",
     "output_type": "stream",
     "text": [
      "TRAIN SET 0.8566775244299675\n",
      "TEST  SET 0.7402597402597403\n"
     ]
    }
   ],
   "source": [
    "print(\"TRAIN SET\", clf.score(X_train, Y_train))\n",
    "print(\"TEST  SET\", clf.score(X_test, Y_test))"
   ]
  },
  {
   "cell_type": "code",
   "execution_count": 26,
   "metadata": {},
   "outputs": [
    {
     "name": "stderr",
     "output_type": "stream",
     "text": [
      "C:\\Users\\vigne\\anaconda3\\Lib\\site-packages\\sklearn\\ensemble\\_weight_boosting.py:519: FutureWarning: The SAMME.R algorithm (the default) is deprecated and will be removed in 1.6. Use the SAMME algorithm to circumvent this warning.\n",
      "  warnings.warn(\n",
      "C:\\Users\\vigne\\anaconda3\\Lib\\site-packages\\sklearn\\ensemble\\_weight_boosting.py:519: FutureWarning: The SAMME.R algorithm (the default) is deprecated and will be removed in 1.6. Use the SAMME algorithm to circumvent this warning.\n",
      "  warnings.warn(\n",
      "C:\\Users\\vigne\\anaconda3\\Lib\\site-packages\\sklearn\\ensemble\\_weight_boosting.py:519: FutureWarning: The SAMME.R algorithm (the default) is deprecated and will be removed in 1.6. Use the SAMME algorithm to circumvent this warning.\n",
      "  warnings.warn(\n",
      "C:\\Users\\vigne\\anaconda3\\Lib\\site-packages\\sklearn\\ensemble\\_weight_boosting.py:519: FutureWarning: The SAMME.R algorithm (the default) is deprecated and will be removed in 1.6. Use the SAMME algorithm to circumvent this warning.\n",
      "  warnings.warn(\n"
     ]
    },
    {
     "data": {
      "text/plain": [
       "array([0.74479167, 0.71875   , 0.69791667, 0.75      ])"
      ]
     },
     "execution_count": 26,
     "metadata": {},
     "output_type": "execute_result"
    }
   ],
   "source": [
    "from sklearn.model_selection import cross_val_score\n",
    "scores = cross_val_score(clf, X, Y.values.ravel(), cv=4)\n",
    "scores"
   ]
  },
  {
   "cell_type": "code",
   "execution_count": 27,
   "metadata": {},
   "outputs": [
    {
     "name": "stdout",
     "output_type": "stream",
     "text": [
      "Average: 0.73 (+/- 0.04)\n"
     ]
    }
   ],
   "source": [
    "print(\"Average: %0.2f (+/- %0.2f)\" % (scores.mean(), scores.std() * 2))"
   ]
  },
  {
   "cell_type": "code",
   "execution_count": 28,
   "metadata": {},
   "outputs": [],
   "source": [
    "import matplotlib.pyplot as plt\n",
    "import numpy as np\n",
    "from sklearn.metrics import roc_curve, auc"
   ]
  },
  {
   "cell_type": "code",
   "execution_count": 29,
   "metadata": {},
   "outputs": [],
   "source": [
    "def plot_confusion_matrix(cm, title='Confusion matrix', cmap=plt.cm.Blues):\n",
    "    target_names=['attack','not attack']\n",
    "    plt.imshow(cm, interpolation='nearest', cmap=cmap)\n",
    "    plt.title(title)\n",
    "    plt.colorbar()\n",
    "    tick_marks = np.arange(len(target_names))\n",
    "    plt.xticks(tick_marks, target_names, rotation=45)\n",
    "    plt.yticks(tick_marks, target_names)\n",
    "    plt.tight_layout()\n",
    "    plt.ylabel('True label')\n",
    "    plt.xlabel('Predicted label')"
   ]
  },
  {
   "cell_type": "code",
   "execution_count": 30,
   "metadata": {},
   "outputs": [
    {
     "name": "stdout",
     "output_type": "stream",
     "text": [
      "[[89 11]\n",
      " [29 25]]\n"
     ]
    },
    {
     "data": {
      "image/png": "[encoded data removed]",
      "text/plain": [
       "<Figure size 640x480 with 2 Axes>"
      ]
     },
     "metadata": {},
     "output_type": "display_data"
    }
   ],
   "source": [
    "from sklearn.metrics import confusion_matrix, accuracy_score, classification_report\n",
    "cm = confusion_matrix(Y_test, clf.predict(X_test))\n",
    "print(cm)\n",
    "plot_confusion_matrix(cm)"
   ]
  },
  {
   "cell_type": "code",
   "execution_count": 31,
   "metadata": {},
   "outputs": [
    {
     "name": "stdout",
     "output_type": "stream",
     "text": [
      "              precision    recall  f1-score   support\n",
      "\n",
      "           0       0.75      0.89      0.82       100\n",
      "           1       0.69      0.46      0.56        54\n",
      "\n",
      "    accuracy                           0.74       154\n",
      "   macro avg       0.72      0.68      0.69       154\n",
      "weighted avg       0.73      0.74      0.73       154\n",
      "\n"
     ]
    }
   ],
   "source": [
    "print(classification_report(Y_test, clf.predict(X_test)))"
   ]
  },
  {
   "cell_type": "code",
   "execution_count": 32,
   "metadata": {},
   "outputs": [
    {
     "data": {
      "text/html": [
       "<div>\n",
       "<style scoped>\n",
       "    .dataframe tbody tr th:only-of-type {\n",
       "        vertical-align: middle;\n",
       "    }\n",
       "\n",
       "    .dataframe tbody tr th {\n",
       "        vertical-align: top;\n",
       "    }\n",
       "\n",
       "    .dataframe thead th {\n",
       "        text-align: right;\n",
       "    }\n",
       "</style>\n",
       "<table border=\"1\" class=\"dataframe\">\n",
       "  <thead>\n",
       "    <tr style=\"text-align: right;\">\n",
       "      <th></th>\n",
       "      <th>Pregnancies</th>\n",
       "      <th>Glucose</th>\n",
       "      <th>BloodPressure</th>\n",
       "      <th>SkinThickness</th>\n",
       "      <th>Insulin</th>\n",
       "      <th>BMI</th>\n",
       "      <th>DiabetesPedigreeFunction</th>\n",
       "      <th>Age</th>\n",
       "    </tr>\n",
       "  </thead>\n",
       "  <tbody>\n",
       "    <tr>\n",
       "      <th>619</th>\n",
       "      <td>0</td>\n",
       "      <td>119</td>\n",
       "      <td>0</td>\n",
       "      <td>0</td>\n",
       "      <td>0</td>\n",
       "      <td>32.4</td>\n",
       "      <td>0.141</td>\n",
       "      <td>24</td>\n",
       "    </tr>\n",
       "    <tr>\n",
       "      <th>329</th>\n",
       "      <td>6</td>\n",
       "      <td>105</td>\n",
       "      <td>70</td>\n",
       "      <td>32</td>\n",
       "      <td>68</td>\n",
       "      <td>30.8</td>\n",
       "      <td>0.122</td>\n",
       "      <td>37</td>\n",
       "    </tr>\n",
       "    <tr>\n",
       "      <th>13</th>\n",
       "      <td>1</td>\n",
       "      <td>189</td>\n",
       "      <td>60</td>\n",
       "      <td>23</td>\n",
       "      <td>846</td>\n",
       "      <td>30.1</td>\n",
       "      <td>0.398</td>\n",
       "      <td>59</td>\n",
       "    </tr>\n",
       "    <tr>\n",
       "      <th>476</th>\n",
       "      <td>2</td>\n",
       "      <td>105</td>\n",
       "      <td>80</td>\n",
       "      <td>45</td>\n",
       "      <td>191</td>\n",
       "      <td>33.7</td>\n",
       "      <td>0.711</td>\n",
       "      <td>29</td>\n",
       "    </tr>\n",
       "    <tr>\n",
       "      <th>45</th>\n",
       "      <td>0</td>\n",
       "      <td>180</td>\n",
       "      <td>66</td>\n",
       "      <td>39</td>\n",
       "      <td>0</td>\n",
       "      <td>42.0</td>\n",
       "      <td>1.893</td>\n",
       "      <td>25</td>\n",
       "    </tr>\n",
       "  </tbody>\n",
       "</table>\n",
       "</div>"
      ],
      "text/plain": [
       "     Pregnancies  Glucose  BloodPressure  SkinThickness  Insulin   BMI  \\\n",
       "619            0      119              0              0        0  32.4   \n",
       "329            6      105             70             32       68  30.8   \n",
       "13             1      189             60             23      846  30.1   \n",
       "476            2      105             80             45      191  33.7   \n",
       "45             0      180             66             39        0  42.0   \n",
       "\n",
       "     DiabetesPedigreeFunction  Age  \n",
       "619                     0.141   24  \n",
       "329                     0.122   37  \n",
       "13                      0.398   59  \n",
       "476                     0.711   29  \n",
       "45                      1.893   25  "
      ]
     },
     "execution_count": 32,
     "metadata": {},
     "output_type": "execute_result"
    }
   ],
   "source": [
    "X_train.head()"
   ]
  },
  {
   "cell_type": "code",
   "execution_count": null,
   "metadata": {},
   "outputs": [],
   "source": []
  },
  {
   "cell_type": "markdown",
   "metadata": {
    "id": "gq8ZX1xpwPF5"
   },
   "source": [
    "Making a Predictive System"
   ]
  },
  {
   "cell_type": "code",
   "execution_count": 33,
   "metadata": {
    "colab": {
     "base_uri": "https://localhost:8080/"
    },
    "executionInfo": {
     "elapsed": 21,
     "status": "ok",
     "timestamp": 1653200163543,
     "user": {
      "displayName": "siddhardh selvam",
      "userId": "13966379820454708749"
     },
     "user_tz": -330
    },
    "id": "U-ULRe4yv5tH",
    "outputId": "6d829789-0c86-469d-ec6a-f20276f0a3ed"
   },
   "outputs": [
    {
     "name": "stdout",
     "output_type": "stream",
     "text": [
      "[1]\n",
      "The person is diabetic\n"
     ]
    },
    {
     "name": "stderr",
     "output_type": "stream",
     "text": [
      "C:\\Users\\vigne\\anaconda3\\Lib\\site-packages\\sklearn\\base.py:493: UserWarning: X does not have valid feature names, but AdaBoostClassifier was fitted with feature names\n",
      "  warnings.warn(\n"
     ]
    }
   ],
   "source": [
    "input_data = (5,166,72,19,175,25.8,0.587,51)\n",
    "\n",
    "# changing the input_data to numpy array\n",
    "input_data_as_numpy_array = np.asarray(input_data)\n",
    "\n",
    "# reshape the array as we are predicting for one instance\n",
    "input_data_reshaped = input_data_as_numpy_array.reshape(1,-1)\n",
    "\n",
    "prediction = clf.predict(input_data_reshaped)\n",
    "print(prediction)\n",
    "\n",
    "if (prediction[0] == 0):\n",
    "  print('The person is not diabetic')\n",
    "else:\n",
    "  print('The person is diabetic')"
   ]
  },
  {
   "cell_type": "markdown",
   "metadata": {
    "id": "FCHCMHpshHU4"
   },
   "source": [
    "Saving the trained model"
   ]
  },
  {
   "cell_type": "code",
   "execution_count": 34,
   "metadata": {
    "executionInfo": {
     "elapsed": 18,
     "status": "ok",
     "timestamp": 1653200163543,
     "user": {
      "displayName": "siddhardh selvam",
      "userId": "13966379820454708749"
     },
     "user_tz": -330
    },
    "id": "cdmTOR4MhHCB"
   },
   "outputs": [],
   "source": [
    "import pickle"
   ]
  },
  {
   "cell_type": "code",
   "execution_count": 35,
   "metadata": {
    "executionInfo": {
     "elapsed": 17,
     "status": "ok",
     "timestamp": 1653200163543,
     "user": {
      "displayName": "siddhardh selvam",
      "userId": "13966379820454708749"
     },
     "user_tz": -330
    },
    "id": "4gN09lokhKuZ"
   },
   "outputs": [],
   "source": [
    "filename = 'diabetes_model.sav'\n",
    "pickle.dump(clf, open(filename, 'wb'))"
   ]
  },
  {
   "cell_type": "code",
   "execution_count": 36,
   "metadata": {
    "executionInfo": {
     "elapsed": 18,
     "status": "ok",
     "timestamp": 1653200163544,
     "user": {
      "displayName": "siddhardh selvam",
      "userId": "13966379820454708749"
     },
     "user_tz": -330
    },
    "id": "IKW4D5CqhP5X"
   },
   "outputs": [],
   "source": [
    "# loading the saved model\n",
    "loaded_model = pickle.load(open('diabetes_model.sav', 'rb'))"
   ]
  },
  {
   "cell_type": "code",
   "execution_count": 37,
   "metadata": {
    "colab": {
     "base_uri": "https://localhost:8080/"
    },
    "executionInfo": {
     "elapsed": 17,
     "status": "ok",
     "timestamp": 1653200163544,
     "user": {
      "displayName": "siddhardh selvam",
      "userId": "13966379820454708749"
     },
     "user_tz": -330
    },
    "id": "exbg9-VWiHRx",
    "outputId": "e9d0e88b-67b8-457a-a252-22633cdc382e"
   },
   "outputs": [
    {
     "name": "stdout",
     "output_type": "stream",
     "text": [
      "[1]\n",
      "The person is diabetic\n"
     ]
    },
    {
     "name": "stderr",
     "output_type": "stream",
     "text": [
      "C:\\Users\\vigne\\anaconda3\\Lib\\site-packages\\sklearn\\base.py:493: UserWarning: X does not have valid feature names, but AdaBoostClassifier was fitted with feature names\n",
      "  warnings.warn(\n"
     ]
    }
   ],
   "source": [
    "input_data = (5,166,72,19,175,25.8,0.587,51)\n",
    "\n",
    "# changing the input_data to numpy array\n",
    "input_data_as_numpy_array = np.asarray(input_data)\n",
    "\n",
    "# reshape the array as we are predicting for one instance\n",
    "input_data_reshaped = input_data_as_numpy_array.reshape(1,-1)\n",
    "\n",
    "prediction = loaded_model.predict(input_data_reshaped)\n",
    "print(prediction)\n",
    "\n",
    "if (prediction[0] == 0):\n",
    "  print('The person is not diabetic')\n",
    "else:\n",
    "  print('The person is diabetic')"
   ]
  },
  {
   "cell_type": "code",
   "execution_count": 38,
   "metadata": {
    "colab": {
     "base_uri": "https://localhost:8080/"
    },
    "executionInfo": {
     "elapsed": 15,
     "status": "ok",
     "timestamp": 1653200163545,
     "user": {
      "displayName": "siddhardh selvam",
      "userId": "13966379820454708749"
     },
     "user_tz": -330
    },
    "id": "IP-TYuEFOTF4",
    "outputId": "508fa3ac-ee67-4361-e558-d6b22b9c2c2c"
   },
   "outputs": [
    {
     "name": "stdout",
     "output_type": "stream",
     "text": [
      "Pregnancies\n",
      "Glucose\n",
      "BloodPressure\n",
      "SkinThickness\n",
      "Insulin\n",
      "BMI\n",
      "DiabetesPedigreeFunction\n",
      "Age\n"
     ]
    }
   ],
   "source": [
    "for column in X.columns:\n",
    "  print(column)"
   ]
  },
  {
   "cell_type": "code",
   "execution_count": null,
   "metadata": {},
   "outputs": [],
   "source": []
  }
 ],
 "metadata": {
  "colab": {
   "authorship_tag": "ABX9TyNUMtWtqiQOs+bSuSretvw5",
   "collapsed_sections": [],
   "name": "Multiple disease prediction system - diabetes.ipynb",
   "provenance": []
  },
  "kernelspec": {
   "display_name": "Python 3 (ipykernel)",
   "language": "python",
   "name": "python3"
  },
  "language_info": {
   "codemirror_mode": {
    "name": "ipython",
    "version": 3
   },
   "file_extension": ".py",
   "mimetype": "text/x-python",
   "name": "python",
   "nbconvert_exporter": "python",
   "pygments_lexer": "ipython3",
   "version": "3.11.5"
  }
 },
 "nbformat": 4,
 "nbformat_minor": 1
}
